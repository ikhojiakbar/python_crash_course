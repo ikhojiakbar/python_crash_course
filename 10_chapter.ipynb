{
 "cells": [
  {
   "cell_type": "markdown",
   "id": "24f7cd85",
   "metadata": {},
   "source": [
    "# Files and Exceptions"
   ]
  },
  {
   "cell_type": "markdown",
   "id": "bd1726af",
   "metadata": {},
   "source": [
    "## 1. Reading from a File"
   ]
  },
  {
   "cell_type": "markdown",
   "id": "1086b7b4",
   "metadata": {},
   "source": [
    "### 1.1 Reading an Entire File\n",
    "* `with` syntax to let Python `open` and `close` the file properly\n",
    "* open() opens the file which you will work"
   ]
  },
  {
   "cell_type": "code",
   "execution_count": 1,
   "id": "5de55b85",
   "metadata": {},
   "outputs": [
    {
     "name": "stdout",
     "output_type": "stream",
     "text": [
      "3.1415926535\n",
      "  8979323846\n",
      "  2643383279\n"
     ]
    }
   ],
   "source": [
    "with open('ten_chapter_pi_digits.txt') as file_object:   \n",
    "    contents = file_object.read() \n",
    "    print(contents.rstrip())  "
   ]
  },
  {
   "cell_type": "markdown",
   "id": "b52670fb",
   "metadata": {},
   "source": [
    "### 1.2 File Paths\n",
    "* Relative Path\n",
    "* Absolute Path"
   ]
  },
  {
   "cell_type": "code",
   "execution_count": 2,
   "id": "f671cf40",
   "metadata": {},
   "outputs": [
    {
     "name": "stdout",
     "output_type": "stream",
     "text": [
      "3.1415926535\n",
      "  8979323846\n",
      "  2643383279\n"
     ]
    }
   ],
   "source": [
    "# Use r'....\\...txt' => r stands for 'raw string' which avoids unicode decoding issue\n",
    "file_path = r'C:\\Users\\khoji\\LEARNING\\1_python\\1_python_crash_course\\ten_chapter_pi_digits.txt'\n",
    "\n",
    "with open(file_path) as file_object:\n",
    "    contents = file_object.read() \n",
    "    print(contents.rstrip())"
   ]
  },
  {
   "cell_type": "markdown",
   "id": "8228cf6f",
   "metadata": {},
   "source": [
    "### 1.3 Reading Line by Line"
   ]
  },
  {
   "cell_type": "code",
   "execution_count": 3,
   "id": "ebe8d4ae",
   "metadata": {},
   "outputs": [
    {
     "name": "stdout",
     "output_type": "stream",
     "text": [
      "3.1415926535\n",
      "  8979323846\n",
      "  2643383279\n"
     ]
    }
   ],
   "source": [
    "filename = 'ten_chapter_pi_digits.txt'\n",
    "\n",
    "with open(filename) as file_object:\n",
    "    for line in file_object:\n",
    "        print(line.rstrip())"
   ]
  },
  {
   "cell_type": "markdown",
   "id": "b2f24340",
   "metadata": {},
   "source": [
    "### 1.4 Making a List of Lines from a File"
   ]
  },
  {
   "cell_type": "code",
   "execution_count": 4,
   "id": "244676d6",
   "metadata": {},
   "outputs": [
    {
     "name": "stdout",
     "output_type": "stream",
     "text": [
      "3.1415926535\n",
      "  8979323846\n",
      "  2643383279\n"
     ]
    }
   ],
   "source": [
    "filename = 'ten_chapter_pi_digits.txt'\n",
    "\n",
    "with open(filename) as file_object:\n",
    "    lines = file_object.readlines()  #readlines() => a list of lines\n",
    "\n",
    "#working outside the 'with' block\n",
    "for line in lines:\n",
    "    print(line.rstrip())"
   ]
  },
  {
   "cell_type": "markdown",
   "id": "1beebf48",
   "metadata": {},
   "source": [
    "### 1.5 Working with a File’s Contents"
   ]
  },
  {
   "cell_type": "code",
   "execution_count": 5,
   "id": "9c1cc277",
   "metadata": {},
   "outputs": [
    {
     "name": "stdout",
     "output_type": "stream",
     "text": [
      "3.1415926535  8979323846  2643383279\n",
      "36\n"
     ]
    }
   ],
   "source": [
    "filename = 'ten_chapter_pi_digits.txt'\n",
    "\n",
    "with open(filename) as file_object:\n",
    "    lines = file_object.readlines()\n",
    "    \n",
    "pi_string = ''\n",
    "\n",
    "for line in lines:\n",
    "    pi_string += line.rstrip()\n",
    "    \n",
    "print(pi_string)\n",
    "print(len(pi_string))"
   ]
  },
  {
   "cell_type": "code",
   "execution_count": 6,
   "id": "6a2435ce",
   "metadata": {},
   "outputs": [
    {
     "name": "stdout",
     "output_type": "stream",
     "text": [
      "3.141592653589793238462643383279\n",
      "32\n"
     ]
    }
   ],
   "source": [
    "filename = 'ten_chapter_pi_digits.txt'\n",
    "\n",
    "with open(filename) as file_object:\n",
    "    lines = file_object.readlines()\n",
    "    \n",
    "pi_string = ''\n",
    "\n",
    "for line in lines:\n",
    "    pi_string += line.strip()   # just strip()\n",
    "    \n",
    "print(pi_string)\n",
    "print(len(pi_string))"
   ]
  },
  {
   "cell_type": "markdown",
   "id": "61680603",
   "metadata": {},
   "source": [
    "## 2. Writing to a File"
   ]
  },
  {
   "cell_type": "markdown",
   "id": "338da73c",
   "metadata": {},
   "source": [
    "### 2.1 Writing to an Empty File"
   ]
  },
  {
   "cell_type": "markdown",
   "id": "4c7811bc",
   "metadata": {},
   "source": [
    "* `read mode` = ('r')  (by default 'r')\n",
    "* `write mode` = ('w')   (erases the content inside the file and overrides with the new content)\n",
    "* `append mode` = ('a')\n",
    "* `read and write` = ('r+')."
   ]
  },
  {
   "cell_type": "code",
   "execution_count": 7,
   "id": "aea9e58f",
   "metadata": {},
   "outputs": [],
   "source": [
    "filename = 'ten_chapter_programming.txt'\n",
    "\n",
    "with open(filename, 'w') as file_object:\n",
    "    file_object.write('I love programming!')"
   ]
  },
  {
   "cell_type": "markdown",
   "id": "1ec73625",
   "metadata": {},
   "source": [
    "### 2.2 Writing Multiple Lines"
   ]
  },
  {
   "cell_type": "code",
   "execution_count": 8,
   "id": "98aa7197",
   "metadata": {},
   "outputs": [],
   "source": [
    "filename = 'ten_chapter_programming.txt'\n",
    "\n",
    "with open(filename, 'w') as file_object:\n",
    "    file_object.write('I love programming!\\n')\n",
    "    file_object.write('I love learning AI!\\n')"
   ]
  },
  {
   "cell_type": "markdown",
   "id": "042d5b57",
   "metadata": {},
   "source": [
    "### 2.3 Appending to a File"
   ]
  },
  {
   "cell_type": "code",
   "execution_count": 9,
   "id": "0f25f5a6",
   "metadata": {},
   "outputs": [],
   "source": [
    "filename = 'ten_chapter_programming.txt'\n",
    "\n",
    "with open(filename, 'a') as file_object:\n",
    "    file_object.write('I also love finding meaning in large datasets.\\n')\n",
    "    file_object.write('I love crerating apps that can run in a browser.\\n')"
   ]
  },
  {
   "cell_type": "markdown",
   "id": "70c0dd93",
   "metadata": {},
   "source": [
    "# 3. Exceptions"
   ]
  },
  {
   "cell_type": "markdown",
   "id": "81d8d96a",
   "metadata": {},
   "source": [
    "### 3.1 Handling the `ZeroDivisionError` Exception\n",
    "* handles the exception, the program will continue running"
   ]
  },
  {
   "cell_type": "code",
   "execution_count": 10,
   "id": "c223aaf8",
   "metadata": {},
   "outputs": [
    {
     "ename": "ZeroDivisionError",
     "evalue": "division by zero",
     "output_type": "error",
     "traceback": [
      "\u001b[1;31m---------------------------------------------------------------------------\u001b[0m",
      "\u001b[1;31mZeroDivisionError\u001b[0m                         Traceback (most recent call last)",
      "\u001b[1;32m<ipython-input-10-670d1a8fdf09>\u001b[0m in \u001b[0;36m<module>\u001b[1;34m\u001b[0m\n\u001b[0;32m      1\u001b[0m \u001b[1;31m# ZeroDivisionError = exception object\u001b[0m\u001b[1;33m\u001b[0m\u001b[1;33m\u001b[0m\u001b[1;33m\u001b[0m\u001b[0m\n\u001b[1;32m----> 2\u001b[1;33m \u001b[0mprint\u001b[0m\u001b[1;33m(\u001b[0m\u001b[1;36m5\u001b[0m\u001b[1;33m/\u001b[0m\u001b[1;36m0\u001b[0m\u001b[1;33m)\u001b[0m\u001b[1;33m\u001b[0m\u001b[1;33m\u001b[0m\u001b[0m\n\u001b[0m",
      "\u001b[1;31mZeroDivisionError\u001b[0m: division by zero"
     ]
    }
   ],
   "source": [
    "# ZeroDivisionError = exception object\n",
    "print(5/0)"
   ]
  },
  {
   "cell_type": "markdown",
   "id": "3e26de27",
   "metadata": {},
   "source": [
    "### 3.2 Using `try-except` Blocks"
   ]
  },
  {
   "cell_type": "code",
   "execution_count": 11,
   "id": "00b498cc",
   "metadata": {},
   "outputs": [
    {
     "name": "stdout",
     "output_type": "stream",
     "text": [
      "You cannot divide by zero!\n"
     ]
    }
   ],
   "source": [
    "try:\n",
    "    print(5/0)\n",
    "except ZeroDivisionError:\n",
    "    print('You cannot divide by zero!')"
   ]
  },
  {
   "cell_type": "markdown",
   "id": "34e0286a",
   "metadata": {},
   "source": [
    "### 3.3 Using Exceptions to Prevent Crashes"
   ]
  },
  {
   "cell_type": "code",
   "execution_count": 12,
   "id": "cd4c4e13",
   "metadata": {},
   "outputs": [
    {
     "name": "stdout",
     "output_type": "stream",
     "text": [
      "Give me two numbers, and I will divide them!\n",
      "Enter \"quit\" to quit.\n",
      "\n",
      "First number: 5\n",
      "\n",
      "Second number: 0\n"
     ]
    },
    {
     "ename": "ZeroDivisionError",
     "evalue": "division by zero",
     "output_type": "error",
     "traceback": [
      "\u001b[1;31m---------------------------------------------------------------------------\u001b[0m",
      "\u001b[1;31mZeroDivisionError\u001b[0m                         Traceback (most recent call last)",
      "\u001b[1;32m<ipython-input-12-3cc02fcdae4e>\u001b[0m in \u001b[0;36m<module>\u001b[1;34m\u001b[0m\n\u001b[0;32m     11\u001b[0m         \u001b[1;32mbreak\u001b[0m\u001b[1;33m\u001b[0m\u001b[1;33m\u001b[0m\u001b[0m\n\u001b[0;32m     12\u001b[0m \u001b[1;33m\u001b[0m\u001b[0m\n\u001b[1;32m---> 13\u001b[1;33m     \u001b[0manswer\u001b[0m \u001b[1;33m=\u001b[0m \u001b[0mint\u001b[0m\u001b[1;33m(\u001b[0m\u001b[0mfirst_number\u001b[0m\u001b[1;33m)\u001b[0m \u001b[1;33m/\u001b[0m \u001b[0mint\u001b[0m\u001b[1;33m(\u001b[0m\u001b[0msecond_number\u001b[0m\u001b[1;33m)\u001b[0m\u001b[1;33m\u001b[0m\u001b[1;33m\u001b[0m\u001b[0m\n\u001b[0m\u001b[0;32m     14\u001b[0m     \u001b[0mprint\u001b[0m\u001b[1;33m(\u001b[0m\u001b[0manswer\u001b[0m\u001b[1;33m)\u001b[0m\u001b[1;33m\u001b[0m\u001b[1;33m\u001b[0m\u001b[0m\n",
      "\u001b[1;31mZeroDivisionError\u001b[0m: division by zero"
     ]
    }
   ],
   "source": [
    "print('Give me two numbers, and I will divide them!')\n",
    "print('Enter \"quit\" to quit.')\n",
    "\n",
    "while True:\n",
    "    first_number = input('\\nFirst number: ')\n",
    "    if first_number == 'quit':\n",
    "        break\n",
    "    \n",
    "    second_number = input('\\nSecond number: ')\n",
    "    if second_number == 'quit':\n",
    "        break\n",
    "    \n",
    "    answer = int(first_number) / int(second_number)\n",
    "    print(answer)"
   ]
  },
  {
   "cell_type": "markdown",
   "id": "cd8c259a",
   "metadata": {},
   "source": [
    "### 3.4 The `else` Block\n",
    "* `else` is the end of successful `try`"
   ]
  },
  {
   "cell_type": "code",
   "execution_count": 13,
   "id": "ec4e8734",
   "metadata": {},
   "outputs": [
    {
     "name": "stdout",
     "output_type": "stream",
     "text": [
      "Give me two numbers, and I will divide them!\n",
      "Enter \"quit\" to quit.\n",
      "\n",
      "First number: 5\n",
      "\n",
      "Second number: 0\n",
      "You cannot divide by zero!\n",
      "\n",
      "First number: quit\n"
     ]
    }
   ],
   "source": [
    "print('Give me two numbers, and I will divide them!')\n",
    "print('Enter \"quit\" to quit.')\n",
    "\n",
    "while True:\n",
    "    first_number = input('\\nFirst number: ')\n",
    "    if first_number == 'quit':\n",
    "        break\n",
    "        \n",
    "    second_number = input('\\nSecond number: ')\n",
    "    if second_number == 'quit':\n",
    "        break\n",
    "       \n",
    "    \n",
    "    try:\n",
    "        answer = int(first_number) / int(second_number)\n",
    "    except ZeroDivisionError:\n",
    "        print('You cannot divide by zero!')\n",
    "    else:\n",
    "        print(answer)"
   ]
  },
  {
   "cell_type": "markdown",
   "id": "a0c38e7b",
   "metadata": {},
   "source": [
    "### 3.5 Handling the `FileNotFoundError` Exception (missing files)"
   ]
  },
  {
   "cell_type": "code",
   "execution_count": 14,
   "id": "ab8ebaa0",
   "metadata": {},
   "outputs": [
    {
     "ename": "FileNotFoundError",
     "evalue": "[Errno 2] No such file or directory: 'alice.txt'",
     "output_type": "error",
     "traceback": [
      "\u001b[1;31m---------------------------------------------------------------------------\u001b[0m",
      "\u001b[1;31mFileNotFoundError\u001b[0m                         Traceback (most recent call last)",
      "\u001b[1;32m<ipython-input-14-8aee1b29b640>\u001b[0m in \u001b[0;36m<module>\u001b[1;34m\u001b[0m\n\u001b[0;32m      1\u001b[0m \u001b[0mfilename\u001b[0m \u001b[1;33m=\u001b[0m \u001b[1;34m'alice.txt'\u001b[0m\u001b[1;33m\u001b[0m\u001b[1;33m\u001b[0m\u001b[0m\n\u001b[0;32m      2\u001b[0m \u001b[1;33m\u001b[0m\u001b[0m\n\u001b[1;32m----> 3\u001b[1;33m \u001b[1;32mwith\u001b[0m \u001b[0mopen\u001b[0m\u001b[1;33m(\u001b[0m\u001b[0mfilename\u001b[0m\u001b[1;33m)\u001b[0m \u001b[1;32mas\u001b[0m \u001b[0mfile_object\u001b[0m\u001b[1;33m:\u001b[0m\u001b[1;33m\u001b[0m\u001b[1;33m\u001b[0m\u001b[0m\n\u001b[0m\u001b[0;32m      4\u001b[0m     \u001b[0mcontents\u001b[0m \u001b[1;33m=\u001b[0m \u001b[0mfile_object\u001b[0m\u001b[1;33m.\u001b[0m\u001b[0mread\u001b[0m\u001b[1;33m(\u001b[0m\u001b[1;33m)\u001b[0m\u001b[1;33m\u001b[0m\u001b[1;33m\u001b[0m\u001b[0m\n\u001b[0;32m      5\u001b[0m     \u001b[0mprint\u001b[0m\u001b[1;33m(\u001b[0m\u001b[0mcontents\u001b[0m\u001b[1;33m.\u001b[0m\u001b[0mrstrip\u001b[0m\u001b[1;33m(\u001b[0m\u001b[1;33m)\u001b[0m\u001b[1;33m)\u001b[0m\u001b[1;33m\u001b[0m\u001b[1;33m\u001b[0m\u001b[0m\n",
      "\u001b[1;31mFileNotFoundError\u001b[0m: [Errno 2] No such file or directory: 'alice.txt'"
     ]
    }
   ],
   "source": [
    "filename = 'alice.txt'\n",
    "\n",
    "with open(filename) as file_object:\n",
    "    contents = file_object.read()\n",
    "    print(contents.rstrip())"
   ]
  },
  {
   "cell_type": "code",
   "execution_count": 15,
   "id": "40049381",
   "metadata": {},
   "outputs": [
    {
     "name": "stdout",
     "output_type": "stream",
     "text": [
      "Sorry, the file alice.txt does not exist!\n"
     ]
    }
   ],
   "source": [
    "filename = 'alice.txt'\n",
    "\n",
    "try:\n",
    "    with open(filename) as file_object:\n",
    "        contents = file_object.read()\n",
    "        \n",
    "except FileNotFoundError:\n",
    "    message = 'Sorry, the file ' + filename + ' does not exist!'\n",
    "    print(message)"
   ]
  },
  {
   "cell_type": "markdown",
   "id": "d50ce0f7",
   "metadata": {},
   "source": [
    "### 3.6 Analyzing Text"
   ]
  },
  {
   "cell_type": "code",
   "execution_count": 16,
   "id": "226685b8",
   "metadata": {},
   "outputs": [
    {
     "name": "stdout",
     "output_type": "stream",
     "text": [
      "['Alice', 'in', 'Wonderland']\n"
     ]
    }
   ],
   "source": [
    "title = 'Alice in Wonderland'\n",
    "print(title.split())"
   ]
  },
  {
   "cell_type": "code",
   "execution_count": 17,
   "id": "c7eed574",
   "metadata": {},
   "outputs": [
    {
     "name": "stdout",
     "output_type": "stream",
     "text": [
      "Sorry, the file alice.txt does not exist!\n"
     ]
    }
   ],
   "source": [
    "filename = 'alice.txt'\n",
    "\n",
    "try:\n",
    "    with open(filename) as fil_object:\n",
    "        contents = file_object.read()\n",
    "        \n",
    "except FileNotFoundError:\n",
    "    message = 'Sorry, the file ' + filename + ' does not exist!'\n",
    "    print(message)\n",
    "    \n",
    "else:\n",
    "    words = contents.split()\n",
    "    num_words = len(words)\n",
    "    message = 'The file ' + filename + ' has about ' + str(num_words) + ' words on it.'\n",
    "    print(message)"
   ]
  },
  {
   "cell_type": "markdown",
   "id": "84229cff",
   "metadata": {},
   "source": [
    "### 3.7 Working with Multiple Files"
   ]
  },
  {
   "cell_type": "code",
   "execution_count": 18,
   "id": "3740218a",
   "metadata": {},
   "outputs": [
    {
     "name": "stdout",
     "output_type": "stream",
     "text": [
      "Sorry, the file alice.txt does not exist\n",
      "\n",
      "Sorry, the file alice.txt does not exist\n",
      "Sorry, the file siddharta.txt does not exist\n",
      "Sorry, the file moby_dick.txt does not exist\n",
      "Sorry, the file little_women.txt does not exist\n"
     ]
    }
   ],
   "source": [
    "def count_words(filename):\n",
    "    try:\n",
    "        with open(filename) as file_object:\n",
    "            contents = file_object.read()\n",
    "            \n",
    "    except FileNotFoundError:\n",
    "        message = 'Sorry, the file ' + filename + ' does not exist'\n",
    "        print(message)\n",
    "        \n",
    "    else:\n",
    "        words = contents.split()\n",
    "        num_words = len(words)\n",
    "        message = 'The file ' + filename + ' has about ' + str(num_words) + ' words on it.'\n",
    "        print(message)\n",
    "        \n",
    "filename = 'alice.txt'\n",
    "count_words(filename)\n",
    "print()\n",
    "\n",
    "#multiple\n",
    "filenames = ['alice.txt', 'siddharta.txt', 'moby_dick.txt', 'little_women.txt']\n",
    "\n",
    "for filename in filenames:\n",
    "    count_words(filename)"
   ]
  },
  {
   "cell_type": "markdown",
   "id": "6214874c",
   "metadata": {},
   "source": [
    "### 3.8 Failing Silently"
   ]
  },
  {
   "cell_type": "code",
   "execution_count": 19,
   "id": "dd499094",
   "metadata": {},
   "outputs": [],
   "source": [
    "def count_words(filename):\n",
    "    try:\n",
    "        with open(filename) as file_object:\n",
    "            contents = file_object.read()\n",
    "            \n",
    "    except FileNotFoundError:\n",
    "        pass\n",
    "    \n",
    "    else:\n",
    "        words = contents.split()\n",
    "        num_words = len(words)\n",
    "        message = 'The file ' + filename + ' has about ' + str(num_words) + ' words on it.'\n",
    "        print(message)\n",
    "        \n",
    "filenames = ['alice.txt', 'siddharta.txt', 'moby_dick.txt', 'little_women.txt']\n",
    "\n",
    "for filename in filenames:\n",
    "    count_words(filename)"
   ]
  },
  {
   "cell_type": "markdown",
   "id": "30e69021",
   "metadata": {},
   "source": [
    "### 3.9 Deciding Which Errors to Report\n",
    "* Option 1: Report an error to users\n",
    "* Option 2: Fail Silently => `pass` on exception block"
   ]
  },
  {
   "cell_type": "markdown",
   "id": "d664cf11",
   "metadata": {},
   "source": [
    "# 4. Storing Data"
   ]
  },
  {
   "cell_type": "markdown",
   "id": "7746a193",
   "metadata": {},
   "source": [
    "The json module allows you to dump simple Python data structures into a\n",
    "file and load the data from that file the next time the program runs."
   ]
  },
  {
   "cell_type": "markdown",
   "id": "531c6287",
   "metadata": {},
   "source": [
    "### 4.1 Using json.dump()"
   ]
  },
  {
   "cell_type": "code",
   "execution_count": 20,
   "id": "cc58fe34",
   "metadata": {},
   "outputs": [],
   "source": [
    "import json\n",
    "\n",
    "numbers = [2, 3, 4, 7, 11, 13]\n",
    "\n",
    "filename = 'ten_chapter_numbers.json'\n",
    "with open(filename, 'w') as file_object:\n",
    "    json.dump(numbers, file_object)"
   ]
  },
  {
   "cell_type": "markdown",
   "id": "3ff6abca",
   "metadata": {},
   "source": [
    "### 4.2 Using json.load()"
   ]
  },
  {
   "cell_type": "code",
   "execution_count": 21,
   "id": "4d495be7",
   "metadata": {},
   "outputs": [
    {
     "name": "stdout",
     "output_type": "stream",
     "text": [
      "[2, 3, 4, 7, 11, 13]\n"
     ]
    }
   ],
   "source": [
    "import json\n",
    "\n",
    "filename = 'ten_chapter_numbers.json'\n",
    "with open(filename) as file_object:\n",
    "    numbers = json.load(file_object)\n",
    "    \n",
    "print(numbers)"
   ]
  },
  {
   "cell_type": "markdown",
   "id": "b9bbd844",
   "metadata": {},
   "source": [
    "### 4.3 Saving and Reading User-Generated Data"
   ]
  },
  {
   "cell_type": "code",
   "execution_count": 22,
   "id": "864faec6",
   "metadata": {},
   "outputs": [
    {
     "name": "stdout",
     "output_type": "stream",
     "text": [
      "What is your name: khojiakbar\n",
      "We will remember you when you come back, Khojiakbar.\n"
     ]
    }
   ],
   "source": [
    "import json\n",
    "\n",
    "username = input('What is your name: ')\n",
    "\n",
    "filename = 'ten_chapter_username.json'\n",
    "with open(filename, 'w') as file_object:\n",
    "    json.dump(username, file_object)\n",
    "    print('We will remember you when you come back, ' + username.title() + '.')"
   ]
  },
  {
   "cell_type": "code",
   "execution_count": 23,
   "id": "abb6d383",
   "metadata": {},
   "outputs": [
    {
     "name": "stdout",
     "output_type": "stream",
     "text": [
      "Welcome back, Khojiakbar!\n"
     ]
    }
   ],
   "source": [
    "import json\n",
    "\n",
    "filename = 'ten_chapter_username.json'\n",
    "with open(filename) as file_object:\n",
    "    username = json.load(file_object)\n",
    "    print('Welcome back, ' + username.title() + '!')"
   ]
  },
  {
   "cell_type": "markdown",
   "id": "12d71598",
   "metadata": {},
   "source": [
    "Using try-except block to load the user generated data or create the new one"
   ]
  },
  {
   "cell_type": "code",
   "execution_count": 24,
   "id": "02534b80",
   "metadata": {},
   "outputs": [
    {
     "name": "stdout",
     "output_type": "stream",
     "text": [
      "Welcome back, Khojiakbar!\n"
     ]
    }
   ],
   "source": [
    "import json\n",
    "\n",
    "filename = 'ten_chapter_username.json'\n",
    "\n",
    "try:\n",
    "    with open(filename) as file_object:\n",
    "        username = json.load(file_object)\n",
    "\n",
    "except FileNotFoundError:\n",
    "    username = input('What is your name: ')\n",
    "    with open(filename, 'w') as file_object:\n",
    "        json.dump(username, file_object)\n",
    "        print('We will remember you, ' + username.title())\n",
    "        \n",
    "else:\n",
    "    print('Welcome back, ' + username.title() + '!')"
   ]
  },
  {
   "cell_type": "markdown",
   "id": "3b3f3097",
   "metadata": {},
   "source": [
    "### 4.4 Refactoring\n",
    "* Refactoring - improve the code by breaking it up into a series of functions that have specific jobs"
   ]
  },
  {
   "cell_type": "code",
   "execution_count": 25,
   "id": "c4e97ca3",
   "metadata": {},
   "outputs": [
    {
     "name": "stdout",
     "output_type": "stream",
     "text": [
      "Welcome back, Khojiakbar!\n"
     ]
    }
   ],
   "source": [
    "import json\n",
    "\n",
    "def greet_user():\n",
    "    filename = 'ten_chapter_username.json'\n",
    "    \n",
    "    try:\n",
    "        with open(filename) as file_object:\n",
    "            username = json.load(file_object)\n",
    "    \n",
    "    except FileNotFoundError:\n",
    "        username = input('What is your name: ')\n",
    "        with open(filename, 'w') as file_object:\n",
    "            json.dump(username, file_object)\n",
    "            print('We will remember when you come back, ' + username.title())\n",
    "            \n",
    "    else:\n",
    "        print('Welcome back, ' + username.title() + '!')\n",
    "        \n",
    "greet_user()"
   ]
  }
 ],
 "metadata": {
  "kernelspec": {
   "display_name": "Python 3",
   "language": "python",
   "name": "python3"
  },
  "language_info": {
   "codemirror_mode": {
    "name": "ipython",
    "version": 3
   },
   "file_extension": ".py",
   "mimetype": "text/x-python",
   "name": "python",
   "nbconvert_exporter": "python",
   "pygments_lexer": "ipython3",
   "version": "3.8.8"
  }
 },
 "nbformat": 4,
 "nbformat_minor": 5
}
