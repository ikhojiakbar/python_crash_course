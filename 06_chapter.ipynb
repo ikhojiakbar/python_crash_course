{
 "cells": [
  {
   "cell_type": "markdown",
   "id": "87a904af",
   "metadata": {},
   "source": [
    "# Dictionaries"
   ]
  },
  {
   "cell_type": "markdown",
   "id": "19e9320a",
   "metadata": {},
   "source": [
    "## 1. A Simple Dictionary"
   ]
  },
  {
   "cell_type": "code",
   "execution_count": 1,
   "id": "f6e62db9",
   "metadata": {},
   "outputs": [
    {
     "name": "stdout",
     "output_type": "stream",
     "text": [
      "green\n",
      "5\n"
     ]
    }
   ],
   "source": [
    "alien_0 = {'color': 'green', 'points': 5}\n",
    "\n",
    "print(alien_0['color'])\n",
    "print(alien_0['points'])"
   ]
  },
  {
   "cell_type": "markdown",
   "id": "86d13ff1",
   "metadata": {},
   "source": [
    "## 2. Working with Dictionaries"
   ]
  },
  {
   "cell_type": "markdown",
   "id": "cbcf575f",
   "metadata": {},
   "source": [
    "### 2.1 Accessing Values in a Dictionary"
   ]
  },
  {
   "cell_type": "code",
   "execution_count": 2,
   "id": "9a4b6a4c",
   "metadata": {},
   "outputs": [
    {
     "name": "stdout",
     "output_type": "stream",
     "text": [
      "green\n"
     ]
    }
   ],
   "source": [
    "alien_0 = {'color': 'green'}\n",
    "print(alien_0['color'])"
   ]
  },
  {
   "cell_type": "code",
   "execution_count": 3,
   "id": "0cc49f8c",
   "metadata": {},
   "outputs": [
    {
     "name": "stdout",
     "output_type": "stream",
     "text": [
      "You just earned 5 points.\n"
     ]
    }
   ],
   "source": [
    "alien_0 = {'color': 'green', 'points': 5}\n",
    "new_points = alien_0['points']\n",
    "print('You just earned ' + str(new_points) + ' points.')"
   ]
  },
  {
   "cell_type": "markdown",
   "id": "631e25d8",
   "metadata": {},
   "source": [
    "### 2.2 Adding New Key-Value Pairs"
   ]
  },
  {
   "cell_type": "code",
   "execution_count": 4,
   "id": "24b1c009",
   "metadata": {},
   "outputs": [
    {
     "name": "stdout",
     "output_type": "stream",
     "text": [
      "{'color': 'green', 'points': 5}\n",
      "{'color': 'green', 'points': 5, 'x_position': 0, 'y_position': 25}\n"
     ]
    }
   ],
   "source": [
    "alien_0 = {'color': 'green', 'points': 5}\n",
    "print(alien_0)\n",
    "\n",
    "alien_0['x_position'] = 0\n",
    "alien_0['y_position'] = 25\n",
    "print(alien_0)"
   ]
  },
  {
   "cell_type": "markdown",
   "id": "be49b8af",
   "metadata": {},
   "source": [
    "### 2.3 Starting with an Empty Dictionary"
   ]
  },
  {
   "cell_type": "code",
   "execution_count": 5,
   "id": "acf4a21e",
   "metadata": {},
   "outputs": [
    {
     "name": "stdout",
     "output_type": "stream",
     "text": [
      "{'color': 'green', 'points': 5, 'x_position': 0, 'y_poistion': 25}\n"
     ]
    }
   ],
   "source": [
    "alien_0 = {}\n",
    "\n",
    "alien_0['color'] = 'green'\n",
    "alien_0['points'] = 5\n",
    "alien_0['x_position'] = 0\n",
    "alien_0['y_poistion'] = 25\n",
    "\n",
    "print(alien_0)"
   ]
  },
  {
   "cell_type": "markdown",
   "id": "3b5add24",
   "metadata": {},
   "source": [
    "### 2.4 Modifying Values in a Dictionary"
   ]
  },
  {
   "cell_type": "code",
   "execution_count": 6,
   "id": "859c8071",
   "metadata": {},
   "outputs": [
    {
     "name": "stdout",
     "output_type": "stream",
     "text": [
      "The alien is green.\n",
      "The alien is now yellow.\n"
     ]
    }
   ],
   "source": [
    "alien_0 = {'color': 'green'}\n",
    "print('The alien is ' + alien_0['color'] + '.')\n",
    "\n",
    "alien_0['color'] = 'yellow'\n",
    "print('The alien is now ' + alien_0['color'] + '.')"
   ]
  },
  {
   "cell_type": "code",
   "execution_count": 7,
   "id": "30ae1b95",
   "metadata": {},
   "outputs": [
    {
     "name": "stdout",
     "output_type": "stream",
     "text": [
      "Original x-position: 0\n",
      "The new x-position: 2\n"
     ]
    }
   ],
   "source": [
    "alien_0 = {'x_position': 0, 'y_position': 25, 'speed': 'medium'}\n",
    "print('Original x-position: ' + str(alien_0['x_position']))\n",
    "\n",
    "#Move alien to the right\n",
    "#Determine how far to move the alien based on its speed\n",
    "\n",
    "if alien_0['speed'] == 'slow':\n",
    "    x_increment = 1\n",
    "elif alien_0['speed'] == 'medium':\n",
    "    x_increment = 2\n",
    "else:\n",
    "    x_increment = 3\n",
    "    \n",
    "#The new position of alien is\n",
    "alien_0['x_position'] = alien_0['x_position'] + x_increment\n",
    "print('The new x-position: ' + str(alien_0['x_position']))"
   ]
  },
  {
   "cell_type": "markdown",
   "id": "56b410a5",
   "metadata": {},
   "source": [
    "### 2.5 Removing Key-Value Pairs"
   ]
  },
  {
   "cell_type": "code",
   "execution_count": 8,
   "id": "4c5e244e",
   "metadata": {},
   "outputs": [
    {
     "name": "stdout",
     "output_type": "stream",
     "text": [
      "{'color': 'green', 'points': 5}\n",
      "{'color': 'green'}\n"
     ]
    }
   ],
   "source": [
    "alien_0 = {'color': 'green', 'points': 5}\n",
    "print(alien_0)\n",
    "\n",
    "del alien_0['points']   #permanently\n",
    "print(alien_0)"
   ]
  },
  {
   "cell_type": "markdown",
   "id": "58678497",
   "metadata": {},
   "source": [
    "### 2.6 A Dictionary of Similar Objects"
   ]
  },
  {
   "cell_type": "code",
   "execution_count": 9,
   "id": "4f524942",
   "metadata": {},
   "outputs": [
    {
     "name": "stdout",
     "output_type": "stream",
     "text": [
      "Sarah's favourite language is C.\n"
     ]
    }
   ],
   "source": [
    "favourite_languages = {\n",
    "    'jen': 'python',\n",
    "    'sarah': 'c',\n",
    "    'edward': 'ruby',\n",
    "    'phil': 'python',\n",
    "}\n",
    "\n",
    "print('Sarah\\'s favourite language is ' +\n",
    "      favourite_languages['sarah'].title() + \n",
    "      '.')"
   ]
  },
  {
   "cell_type": "markdown",
   "id": "fb878b15",
   "metadata": {},
   "source": [
    "### Exercises"
   ]
  },
  {
   "cell_type": "code",
   "execution_count": 10,
   "id": "62a0bf88",
   "metadata": {},
   "outputs": [
    {
     "name": "stdout",
     "output_type": "stream",
     "text": [
      "Khojiakbar\n",
      "Isomiddinov\n",
      "21\n",
      "ANGREN\n"
     ]
    }
   ],
   "source": [
    "#2-1\n",
    "user_info = {'first_name': 'khojiakbar',\n",
    "             'last_name': 'isomiddinov',\n",
    "             'age': 21,\n",
    "             'city': 'angren'}\n",
    "print(user_info['first_name'].title())\n",
    "print(user_info['last_name'].title())\n",
    "print(user_info['age'])\n",
    "print(user_info['city'].upper())"
   ]
  },
  {
   "cell_type": "markdown",
   "id": "292415e6",
   "metadata": {},
   "source": [
    "## 3. Looping Through a Dictionary"
   ]
  },
  {
   "cell_type": "markdown",
   "id": "8d41568c",
   "metadata": {},
   "source": [
    "### 3.1 Looping Through All Key-Value Pairs"
   ]
  },
  {
   "cell_type": "code",
   "execution_count": 11,
   "id": "ebb209a3",
   "metadata": {},
   "outputs": [
    {
     "name": "stdout",
     "output_type": "stream",
     "text": [
      "\n",
      "Key: username\n",
      "Value: efermi\n",
      "\n",
      "Key: first_name\n",
      "Value: enrico\n",
      "\n",
      "Key: last_name\n",
      "Value: fermi\n"
     ]
    }
   ],
   "source": [
    "user_0 = {'username': 'efermi',\n",
    "          'first_name': 'enrico',\n",
    "          'last_name': 'fermi'}\n",
    "\n",
    "for key, value in user_0.items():\n",
    "    print('\\nKey: ' + key)\n",
    "    print('Value: ' + value)"
   ]
  },
  {
   "cell_type": "code",
   "execution_count": 12,
   "id": "19b040da",
   "metadata": {},
   "outputs": [
    {
     "name": "stdout",
     "output_type": "stream",
     "text": [
      "Jen's favourite language is Python.\n",
      "Sarah's favourite language is C.\n",
      "Edward's favourite language is Ruby.\n",
      "Phil's favourite language is Python.\n"
     ]
    }
   ],
   "source": [
    "favourite_languages = {'jen': 'python',\n",
    "                       'sarah': 'c',\n",
    "                       'edward': 'ruby',\n",
    "                       'phil': 'python'}\n",
    "\n",
    "for name, language in favourite_languages.items():\n",
    "    print(name.title() + '\\'s favourite language is ' + language.title() + '.')"
   ]
  },
  {
   "cell_type": "markdown",
   "id": "90c60f86",
   "metadata": {},
   "source": [
    "### 3.2 Looping Through All the Keys in a Dictionary"
   ]
  },
  {
   "cell_type": "code",
   "execution_count": 13,
   "id": "497508b6",
   "metadata": {},
   "outputs": [
    {
     "name": "stdout",
     "output_type": "stream",
     "text": [
      "Jen\n",
      "Sarah\n",
      "Edward\n",
      "Phil\n",
      "\n",
      "Erin, please take our poll!\n"
     ]
    }
   ],
   "source": [
    "favourite_languages = {'jen': 'python',\n",
    "                       'sarah': 'c',\n",
    "                       'edward': 'ruby',\n",
    "                       'phil': 'python'}\n",
    "\n",
    "for name in favourite_languages.keys():\n",
    "    print(name.title())\n",
    "\n",
    "if 'erin' not in favourite_languages.keys():\n",
    "    print('\\nErin, please take our poll!')"
   ]
  },
  {
   "cell_type": "code",
   "execution_count": 14,
   "id": "46b4af88",
   "metadata": {},
   "outputs": [
    {
     "name": "stdout",
     "output_type": "stream",
     "text": [
      "Jen\n",
      "Sarah\n",
      "Sarah, I see your favourite language is C.\n",
      "Edward\n",
      "Phil\n",
      "Phil, I see your favourite language is Python.\n"
     ]
    }
   ],
   "source": [
    "favourite_languages = {'jen': 'python',\n",
    "                       'sarah': 'c',\n",
    "                       'edward': 'ruby',\n",
    "                       'phil': 'python'}\n",
    "\n",
    "friends = ['sarah', 'phil']\n",
    "\n",
    "for name in favourite_languages.keys():\n",
    "    print(name.title())\n",
    "    if name in friends:\n",
    "        print(name.title() + ', I see your favourite language is ' +\n",
    "              favourite_languages[name].title() + '.')"
   ]
  },
  {
   "cell_type": "markdown",
   "id": "bbbd331f",
   "metadata": {},
   "source": [
    "### 3.3 Looping Through a Dictionary’s Keys in `Order`"
   ]
  },
  {
   "cell_type": "code",
   "execution_count": 15,
   "id": "f77a2b44",
   "metadata": {},
   "outputs": [
    {
     "name": "stdout",
     "output_type": "stream",
     "text": [
      "Edward, thank you for taking the poll.\n",
      "Jen, thank you for taking the poll.\n",
      "Phil, thank you for taking the poll.\n",
      "Sarah, thank you for taking the poll.\n"
     ]
    }
   ],
   "source": [
    "favourite_languages = {'jen': 'python',\n",
    "                       'sarah': 'c',\n",
    "                       'edward': 'ruby',\n",
    "                       'phil': 'python'}\n",
    "\n",
    "for name in sorted(favourite_languages.keys()):\n",
    "    print(name.title() + ', thank you for taking the poll.')"
   ]
  },
  {
   "cell_type": "markdown",
   "id": "abe6836f",
   "metadata": {},
   "source": [
    "### 3.4 Looping Through All Values in a Dictionary"
   ]
  },
  {
   "cell_type": "code",
   "execution_count": 16,
   "id": "b9fe1f2e",
   "metadata": {},
   "outputs": [
    {
     "name": "stdout",
     "output_type": "stream",
     "text": [
      "The following languages were mentioned:\n",
      "Python\n",
      "C\n",
      "Ruby\n",
      "Python\n"
     ]
    }
   ],
   "source": [
    "favourite_languages = {'jen': 'python',\n",
    "                       'sarah': 'c',\n",
    "                       'edward': 'ruby',\n",
    "                       'phil': 'python'}\n",
    "\n",
    "print('The following languages were mentioned:')\n",
    "for language in favourite_languages.values():\n",
    "    print(language.title())"
   ]
  },
  {
   "cell_type": "markdown",
   "id": "ab9bb7b7",
   "metadata": {},
   "source": [
    "#### 3.4.1 `set()`"
   ]
  },
  {
   "cell_type": "code",
   "execution_count": 17,
   "id": "1c0d4a2e",
   "metadata": {},
   "outputs": [
    {
     "name": "stdout",
     "output_type": "stream",
     "text": [
      "The following languages were mentioned:\n",
      "C\n",
      "Python\n",
      "Ruby\n"
     ]
    }
   ],
   "source": [
    "favourite_languages = {'jen': 'python',\n",
    "                       'sarah': 'c',\n",
    "                       'edward': 'ruby',\n",
    "                       'phil': 'python'}\n",
    "print('The following languages were mentioned:')\n",
    "for language in set(favourite_languages.values()):\n",
    "    print(language.title())"
   ]
  },
  {
   "cell_type": "markdown",
   "id": "155af956",
   "metadata": {},
   "source": [
    "## 4. Nesting"
   ]
  },
  {
   "cell_type": "markdown",
   "id": "71e00544",
   "metadata": {},
   "source": [
    "### 4.1 A List of Dictionaries"
   ]
  },
  {
   "cell_type": "code",
   "execution_count": 18,
   "id": "3eab6311",
   "metadata": {},
   "outputs": [
    {
     "name": "stdout",
     "output_type": "stream",
     "text": [
      "{'color': 'green', 'points': 5}\n",
      "{'color': 'yellow', 'points': 10}\n",
      "{'color': 'red', 'points': 15}\n"
     ]
    }
   ],
   "source": [
    "alien_0 = {'color': 'green', 'points': 5}\n",
    "alien_1 = {'color': 'yellow', 'points': 10}\n",
    "alien_2 = {'color': 'red', 'points': 15}\n",
    "\n",
    "aliens = [alien_0, alien_1, alien_2]\n",
    "\n",
    "for alien in aliens:\n",
    "    print(alien)"
   ]
  },
  {
   "cell_type": "code",
   "execution_count": 19,
   "id": "8f49b377",
   "metadata": {},
   "outputs": [
    {
     "name": "stdout",
     "output_type": "stream",
     "text": [
      "{'color': 'green', 'points': 5, 'speed': 'slow'}\n",
      "{'color': 'green', 'points': 5, 'speed': 'slow'}\n",
      "{'color': 'green', 'points': 5, 'speed': 'slow'}\n",
      "{'color': 'green', 'points': 5, 'speed': 'slow'}\n",
      "{'color': 'green', 'points': 5, 'speed': 'slow'}\n",
      "Total number of aliens: 30\n"
     ]
    }
   ],
   "source": [
    "aliens = []\n",
    "\n",
    "for alien_number in range(30):\n",
    "    new_alien = {'color': 'green', 'points': 5, 'speed': 'slow'}\n",
    "    aliens.append(new_alien)\n",
    "    \n",
    "for alien in aliens[:5]:\n",
    "    print(alien)\n",
    "    \n",
    "print('Total number of aliens: ' + str(len(aliens)))"
   ]
  },
  {
   "cell_type": "code",
   "execution_count": 20,
   "id": "4b599d80",
   "metadata": {},
   "outputs": [
    {
     "name": "stdout",
     "output_type": "stream",
     "text": [
      "{'color': 'yellow', 'points': 10, 'speed': 'medium'}\n",
      "{'color': 'yellow', 'points': 10, 'speed': 'medium'}\n",
      "{'color': 'yellow', 'points': 10, 'speed': 'medium'}\n",
      "{'color': 'green', 'points': '5', 'speed': 'slow'}\n",
      "{'color': 'green', 'points': '5', 'speed': 'slow'}\n"
     ]
    }
   ],
   "source": [
    "aliens = [{'color': 'green', 'points': '5', 'speed': 'slow'} for alien in range(30)]\n",
    "\n",
    "for alien in aliens[:3]:\n",
    "    if alien['color'] == 'green':\n",
    "        alien['color'] = 'yellow'\n",
    "        alien['points'] = 10\n",
    "        alien['speed'] = 'medium'\n",
    "        \n",
    "for alien in aliens[:5]:\n",
    "    print(alien)"
   ]
  },
  {
   "cell_type": "markdown",
   "id": "3a7a3a05",
   "metadata": {},
   "source": [
    "### 4.2 A List in a Dictionary"
   ]
  },
  {
   "cell_type": "code",
   "execution_count": 21,
   "id": "02bcfca8",
   "metadata": {},
   "outputs": [
    {
     "name": "stdout",
     "output_type": "stream",
     "text": [
      "You ordered a thick-crust pizza with the following toppings:\n",
      "\tmushrooms\n",
      "\textra cheese\n"
     ]
    }
   ],
   "source": [
    "pizza = {'crust': 'thick',\n",
    "         'toppings': ['mushrooms', 'extra cheese']}\n",
    "\n",
    "print('You ordered a ' + pizza['crust'] + '-crust pizza with the following toppings:')\n",
    "for topping in pizza['toppings']:\n",
    "    print('\\t' + topping)"
   ]
  },
  {
   "cell_type": "code",
   "execution_count": 22,
   "id": "a33f3bfc",
   "metadata": {},
   "outputs": [
    {
     "name": "stdout",
     "output_type": "stream",
     "text": [
      "\n",
      "Jen's favourite languages are:\n",
      "\tPython\n",
      "\tRuby\n",
      "Sarah, your only favourite language is C.\n",
      "\tC\n",
      "\n",
      "Edward's favourite languages are:\n",
      "\tRuby\n",
      "\tGo\n",
      "\n",
      "Phil's favourite languages are:\n",
      "\tPython\n",
      "\tHaskell\n"
     ]
    }
   ],
   "source": [
    "favourite_languages = {'jen': ['python', 'ruby'],\n",
    "                       'sarah': ['c'],\n",
    "                       'edward': ['ruby', 'go'],\n",
    "                       'phil': ['python', 'haskell']}\n",
    "\n",
    "for name, languages in favourite_languages.items():\n",
    "    if len(languages) == 1:\n",
    "        print(name.title() + ', your only favourite language is C.')\n",
    "    else:\n",
    "        print('\\n' + name.title() + '\\'s favourite languages are:')\n",
    "        \n",
    "    for language in languages:\n",
    "        print('\\t' + language.title())"
   ]
  },
  {
   "cell_type": "markdown",
   "id": "7e59fa6d",
   "metadata": {},
   "source": [
    "### 4.3 A Dictionary in a Dictionary"
   ]
  },
  {
   "cell_type": "code",
   "execution_count": 23,
   "id": "7a4cdadb",
   "metadata": {},
   "outputs": [
    {
     "name": "stdout",
     "output_type": "stream",
     "text": [
      "\n",
      "Username: aeinstein\n",
      "\tFull name: Albert Einstein\n",
      "\tLocation: priceton\n",
      "\n",
      "Username: mcurie\n",
      "\tFull name: Marie Curie\n",
      "\tLocation: paris\n"
     ]
    }
   ],
   "source": [
    "users = {'aeinstein': {'first_name': 'albert',\n",
    "                       'last_name': 'einstein',\n",
    "                       'location': 'priceton'},\n",
    "         \n",
    "         'mcurie': {'first_name': 'marie',\n",
    "                    'last_name': 'curie',\n",
    "                    'location': 'paris'}}\n",
    "\n",
    "for username, user_info in users.items():\n",
    "    print('\\nUsername: ' + username)\n",
    "    full_name = user_info['first_name'] + ' ' + user_info['last_name']\n",
    "    location = user_info['location']\n",
    "    \n",
    "    print('\\tFull name: ' + full_name.title())\n",
    "    print('\\tLocation: ' + location)"
   ]
  }
 ],
 "metadata": {
  "kernelspec": {
   "display_name": "Python 3",
   "language": "python",
   "name": "python3"
  },
  "language_info": {
   "codemirror_mode": {
    "name": "ipython",
    "version": 3
   },
   "file_extension": ".py",
   "mimetype": "text/x-python",
   "name": "python",
   "nbconvert_exporter": "python",
   "pygments_lexer": "ipython3",
   "version": "3.8.8"
  }
 },
 "nbformat": 4,
 "nbformat_minor": 5
}
