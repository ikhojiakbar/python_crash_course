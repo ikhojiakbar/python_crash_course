{
 "cells": [
  {
   "cell_type": "markdown",
   "id": "8103eb54",
   "metadata": {},
   "source": [
    "# User Input and while Loops"
   ]
  },
  {
   "cell_type": "markdown",
   "id": "ff1f50e0",
   "metadata": {},
   "source": [
    "## 1. How the input() Function Works"
   ]
  },
  {
   "cell_type": "code",
   "execution_count": 1,
   "id": "4f856121",
   "metadata": {},
   "outputs": [
    {
     "name": "stdout",
     "output_type": "stream",
     "text": [
      "Tell me something, and I will repeat it back to you: khojiakbar\n",
      "khojiakbar\n"
     ]
    }
   ],
   "source": [
    "message = input('Tell me something, and I will repeat it back to you: ')\n",
    "print(message)"
   ]
  },
  {
   "cell_type": "markdown",
   "id": "e21efab6",
   "metadata": {},
   "source": [
    "### 1.1 Writing Clear Prompts"
   ]
  },
  {
   "cell_type": "code",
   "execution_count": 2,
   "id": "56f2ec40",
   "metadata": {},
   "outputs": [
    {
     "name": "stdout",
     "output_type": "stream",
     "text": [
      "Please enter your name: khojiakbar\n",
      "Hello, Khojiakbar\n"
     ]
    }
   ],
   "source": [
    "name = input('Please enter your name: ')\n",
    "print('Hello, ' + name.title())"
   ]
  },
  {
   "cell_type": "code",
   "execution_count": 3,
   "id": "1338712e",
   "metadata": {},
   "outputs": [
    {
     "name": "stdout",
     "output_type": "stream",
     "text": [
      "If you tell us who are you, we can personalize the message you see.\n",
      "What is your first name? khojiakbar\n",
      "Hello, Khojiakbar\n"
     ]
    }
   ],
   "source": [
    "prompt = 'If you tell us who are you, we can personalize the message you see.'\n",
    "prompt += '\\nWhat is your first name? '\n",
    "\n",
    "name = input(prompt)\n",
    "print('Hello, ' + name.title())"
   ]
  },
  {
   "cell_type": "markdown",
   "id": "543974e1",
   "metadata": {},
   "source": [
    "### 1.2 Using int() to Accept Numerical Input"
   ]
  },
  {
   "cell_type": "code",
   "execution_count": 4,
   "id": "eaf1b863",
   "metadata": {},
   "outputs": [
    {
     "name": "stdout",
     "output_type": "stream",
     "text": [
      "How old are you? 21\n",
      "21\n"
     ]
    }
   ],
   "source": [
    "age = input('How old are you? ')\n",
    "print(age)"
   ]
  },
  {
   "cell_type": "code",
   "execution_count": 5,
   "id": "a03a08e3",
   "metadata": {},
   "outputs": [
    {
     "ename": "TypeError",
     "evalue": "'>' not supported between instances of 'str' and 'int'",
     "output_type": "error",
     "traceback": [
      "\u001b[1;31m---------------------------------------------------------------------------\u001b[0m",
      "\u001b[1;31mTypeError\u001b[0m                                 Traceback (most recent call last)",
      "\u001b[1;32m<ipython-input-5-3b8926829458>\u001b[0m in \u001b[0;36m<module>\u001b[1;34m\u001b[0m\n\u001b[0;32m      1\u001b[0m \u001b[1;31m#TypeError:\u001b[0m\u001b[1;33m\u001b[0m\u001b[1;33m\u001b[0m\u001b[1;33m\u001b[0m\u001b[0m\n\u001b[1;32m----> 2\u001b[1;33m \u001b[0mprint\u001b[0m\u001b[1;33m(\u001b[0m\u001b[0mage\u001b[0m \u001b[1;33m>\u001b[0m \u001b[1;36m18\u001b[0m\u001b[1;33m)\u001b[0m\u001b[1;33m\u001b[0m\u001b[1;33m\u001b[0m\u001b[0m\n\u001b[0m",
      "\u001b[1;31mTypeError\u001b[0m: '>' not supported between instances of 'str' and 'int'"
     ]
    }
   ],
   "source": [
    "#TypeError:\n",
    "print(age > 18)"
   ]
  },
  {
   "cell_type": "code",
   "execution_count": 6,
   "id": "a2bce805",
   "metadata": {},
   "outputs": [
    {
     "name": "stdout",
     "output_type": "stream",
     "text": [
      "How old are you? 21\n",
      "True\n"
     ]
    }
   ],
   "source": [
    "age = int(input('How old are you? '))\n",
    "print(age >= 18)"
   ]
  },
  {
   "cell_type": "code",
   "execution_count": 7,
   "id": "86745893",
   "metadata": {},
   "outputs": [
    {
     "name": "stdout",
     "output_type": "stream",
     "text": [
      "How tall are you, in cm? 185\n",
      "\n",
      "You are tall enough to ride!\n"
     ]
    }
   ],
   "source": [
    "height = int(input('How tall are you, in cm? '))\n",
    "\n",
    "if height >= 120:\n",
    "    print('\\nYou are tall enough to ride!')\n",
    "else:\n",
    "    print('\\nYou will be able to ride when you are a little older!')"
   ]
  },
  {
   "cell_type": "markdown",
   "id": "fb003717",
   "metadata": {},
   "source": [
    "### 1.3 The Modulo Operator"
   ]
  },
  {
   "cell_type": "code",
   "execution_count": 8,
   "id": "ee0747e3",
   "metadata": {},
   "outputs": [
    {
     "name": "stdout",
     "output_type": "stream",
     "text": [
      "Enter a number, and I will tell you if it is odd or even: 456295\n",
      "\n",
      "The number 456295 is odd\n"
     ]
    }
   ],
   "source": [
    "number = int(input('Enter a number, and I will tell you if it is odd or even: '))\n",
    "\n",
    "if number % 2 == 0:\n",
    "    print('\\nThe number ' + str(number) + ' is even')\n",
    "else:\n",
    "    print('\\nThe number ' + str(number) + ' is odd')"
   ]
  },
  {
   "cell_type": "markdown",
   "id": "b19fd26e",
   "metadata": {},
   "source": [
    "### Exercises"
   ]
  },
  {
   "cell_type": "code",
   "execution_count": 9,
   "id": "1b3dffc2",
   "metadata": {},
   "outputs": [
    {
     "name": "stdout",
     "output_type": "stream",
     "text": [
      "What kind of car are you looking for? tesla\n",
      "We have a lot of options for Tesla.\n"
     ]
    }
   ],
   "source": [
    "#1-1\n",
    "car = input('What kind of car are you looking for? ')\n",
    "\n",
    "print('We have a lot of options for ' + car.title() + '.')"
   ]
  },
  {
   "cell_type": "code",
   "execution_count": 10,
   "id": "f5e27605",
   "metadata": {},
   "outputs": [
    {
     "name": "stdout",
     "output_type": "stream",
     "text": [
      "How many people are in the dinner group? 12\n",
      "You have to wait for a table, sorry for inconvinience.\n"
     ]
    }
   ],
   "source": [
    "#1-2\n",
    "group_number = int(input('How many people are in the dinner group? '))\n",
    "\n",
    "if group_number >= 8:\n",
    "    print('You have to wait for a table, sorry for inconvinience.')\n",
    "else:\n",
    "    print('You can choose one of the tables there')"
   ]
  },
  {
   "cell_type": "code",
   "execution_count": 11,
   "id": "37c2efa4",
   "metadata": {},
   "outputs": [
    {
     "name": "stdout",
     "output_type": "stream",
     "text": [
      "Enter any number you think of: 3562\n",
      "\n",
      "The number 3562 is not multiple of 10\n"
     ]
    }
   ],
   "source": [
    "#1-3\n",
    "number  = int(input('Enter any number you think of: '))\n",
    "\n",
    "if number % 10 == 0:\n",
    "    print('\\nThe number ' + str(number) + ' is multiple of 10')\n",
    "else:\n",
    "    print('\\nThe number ' + str(number) + ' is not multiple of 10')"
   ]
  },
  {
   "cell_type": "markdown",
   "id": "03dc3231",
   "metadata": {},
   "source": [
    "## 2. Introducing while Loops"
   ]
  },
  {
   "cell_type": "markdown",
   "id": "2e57f8b5",
   "metadata": {},
   "source": [
    "### 2.1 The while Loop in Action"
   ]
  },
  {
   "cell_type": "code",
   "execution_count": 12,
   "id": "e4f3a88f",
   "metadata": {},
   "outputs": [
    {
     "name": "stdout",
     "output_type": "stream",
     "text": [
      "1\n",
      "2\n",
      "3\n",
      "4\n",
      "5\n"
     ]
    }
   ],
   "source": [
    "current_number = 1\n",
    "\n",
    "while current_number <= 5:\n",
    "    print(current_number)\n",
    "    current_number += 1"
   ]
  },
  {
   "cell_type": "markdown",
   "id": "6d6abfcf",
   "metadata": {},
   "source": [
    "### 2.2 Letting the User Choose When to Quit"
   ]
  },
  {
   "cell_type": "code",
   "execution_count": 13,
   "id": "812ce3db",
   "metadata": {},
   "outputs": [
    {
     "name": "stdout",
     "output_type": "stream",
     "text": [
      "\n",
      "Tell me something and I will repeat it back to you:\n",
      "Enter \"quit\" to end program: khojiakbar\n",
      "khojiakbar\n",
      "\n",
      "Tell me something and I will repeat it back to you:\n",
      "Enter \"quit\" to end program: quit\n",
      "quit\n"
     ]
    }
   ],
   "source": [
    "prompt = '\\nTell me something and I will repeat it back to you:'\n",
    "prompt += '\\nEnter \"quit\" to end program: '\n",
    "\n",
    "message = ''  #while should check some comparision to the 'quit'\n",
    "while message != 'quit':   #always condition\n",
    "    message = input(prompt)\n",
    "    print(message)"
   ]
  },
  {
   "cell_type": "code",
   "execution_count": 14,
   "id": "3007a597",
   "metadata": {},
   "outputs": [
    {
     "name": "stdout",
     "output_type": "stream",
     "text": [
      "\n",
      "Tell me something and I will repeat it back to you:\n",
      "Enter \"quit\" to end program: khojiakbar\n",
      "khojiakbar\n",
      "\n",
      "Tell me something and I will repeat it back to you:\n",
      "Enter \"quit\" to end program: quit\n"
     ]
    }
   ],
   "source": [
    "prompt = '\\nTell me something and I will repeat it back to you:'\n",
    "prompt += '\\nEnter \"quit\" to end program: '\n",
    "\n",
    "message = ''  \n",
    "while message != 'quit':  #one condition \n",
    "    message = input(prompt)\n",
    "    if message != 'quit':\n",
    "        print(message)"
   ]
  },
  {
   "cell_type": "markdown",
   "id": "52528a43",
   "metadata": {},
   "source": [
    "### 2.3 Using a Flag "
   ]
  },
  {
   "cell_type": "code",
   "execution_count": 15,
   "id": "b4e9d899",
   "metadata": {},
   "outputs": [
    {
     "name": "stdout",
     "output_type": "stream",
     "text": [
      "\n",
      "Tell me something and I will repeat it back to you:\n",
      "Enter \"quit\"/\"exit\" to end program: khojiakbar\n",
      "khojiakbar\n",
      "\n",
      "Tell me something and I will repeat it back to you:\n",
      "Enter \"quit\"/\"exit\" to end program: hello, world\n",
      "hello, world\n",
      "\n",
      "Tell me something and I will repeat it back to you:\n",
      "Enter \"quit\"/\"exit\" to end program: exit\n"
     ]
    }
   ],
   "source": [
    "prompt = '\\nTell me something and I will repeat it back to you:'\n",
    "prompt += '\\nEnter \"quit\"/\"exit\" to end program: '\n",
    "\n",
    "active = True\n",
    "while active:  #many conditions\n",
    "    message = input(prompt)\n",
    "    \n",
    "    if message == 'quit':\n",
    "        active = False\n",
    "    elif message == 'exit':\n",
    "        active = False\n",
    "    else:\n",
    "        print(message)"
   ]
  },
  {
   "cell_type": "markdown",
   "id": "5554d81d",
   "metadata": {},
   "source": [
    "### 2.4 Using `break` to Exit a Loop"
   ]
  },
  {
   "cell_type": "code",
   "execution_count": 16,
   "id": "505c266b",
   "metadata": {},
   "outputs": [
    {
     "name": "stdout",
     "output_type": "stream",
     "text": [
      "\n",
      "Please enter the name of a city you have visited.\n",
      "Enter \"quit\" when you are finished seoul\n",
      "I'd lov to go to Seoul.\n",
      "\n",
      "Please enter the name of a city you have visited.\n",
      "Enter \"quit\" when you are finished tashkent\n",
      "I'd lov to go to Tashkent.\n",
      "\n",
      "Please enter the name of a city you have visited.\n",
      "Enter \"quit\" when you are finished quit\n"
     ]
    }
   ],
   "source": [
    "prompt = '\\nPlease enter the name of a city you have visited.'\n",
    "prompt += '\\nEnter \"quit\" when you are finished '\n",
    "\n",
    "while True:   #'while' have to stop at some point with some 'condtion' => because 'while' Always 'True'\n",
    "    city = input(prompt)\n",
    "    \n",
    "    if city == 'quit':  #our stopping condition\n",
    "        break\n",
    "    else:\n",
    "        print('I\\'d lov to go to ' + city.title() + '.')"
   ]
  },
  {
   "cell_type": "markdown",
   "id": "7441990d",
   "metadata": {},
   "source": [
    "### 2.5 Using `continue` in a Loop"
   ]
  },
  {
   "cell_type": "code",
   "execution_count": 17,
   "id": "9adb8a67",
   "metadata": {},
   "outputs": [
    {
     "name": "stdout",
     "output_type": "stream",
     "text": [
      "1\n",
      "3\n",
      "5\n",
      "7\n",
      "9\n"
     ]
    }
   ],
   "source": [
    "current_number = 0\n",
    "\n",
    "while current_number < 10:\n",
    "    current_number += 1\n",
    "    \n",
    "    if current_number % 2 == 0:\n",
    "        continue\n",
    "    else:\n",
    "        print(current_number)"
   ]
  },
  {
   "cell_type": "markdown",
   "id": "8dd3a526",
   "metadata": {},
   "source": [
    "### 2.6 Avoiding Infinite Loops"
   ]
  },
  {
   "cell_type": "code",
   "execution_count": 18,
   "id": "d3d5c811",
   "metadata": {},
   "outputs": [
    {
     "name": "stdout",
     "output_type": "stream",
     "text": [
      "1\n",
      "2\n",
      "3\n",
      "4\n",
      "5\n"
     ]
    }
   ],
   "source": [
    "x = 1\n",
    "\n",
    "while x <= 5:\n",
    "    print(x)\n",
    "    x += 1"
   ]
  },
  {
   "cell_type": "code",
   "execution_count": 19,
   "id": "4b1a2e2a",
   "metadata": {},
   "outputs": [
    {
     "name": "stdout",
     "output_type": "stream",
     "text": [
      "2\n",
      "3\n",
      "4\n",
      "5\n",
      "6\n"
     ]
    }
   ],
   "source": [
    "x = 1\n",
    "\n",
    "while x <= 5:\n",
    "    x += 1\n",
    "    print(x)"
   ]
  },
  {
   "cell_type": "code",
   "execution_count": 20,
   "id": "eaec1871",
   "metadata": {},
   "outputs": [],
   "source": [
    "# x = 1\n",
    "\n",
    "# while x <= 5:\n",
    "#     print(x)"
   ]
  },
  {
   "cell_type": "markdown",
   "id": "b6b06cc5",
   "metadata": {},
   "source": [
    "## 3. Using a while Loop with Lists and Dictionaries"
   ]
  },
  {
   "cell_type": "markdown",
   "id": "21c79704",
   "metadata": {},
   "source": [
    "### 3.1 Moving Items from One List to Another"
   ]
  },
  {
   "cell_type": "code",
   "execution_count": 21,
   "id": "aa4c937e",
   "metadata": {},
   "outputs": [
    {
     "name": "stdout",
     "output_type": "stream",
     "text": [
      "Verifying user: Candace\n",
      "Verifying user: Brian\n",
      "Verifying user: Alice\n",
      "\n",
      "The following users have been confirmed:\n",
      "Candace\n",
      "Brian\n",
      "Alice\n"
     ]
    }
   ],
   "source": [
    "unconfirmed_users = ['alice', 'brian', 'candace']\n",
    "confirmed_users = []\n",
    "\n",
    "while unconfirmed_users:\n",
    "    current_user = unconfirmed_users.pop()\n",
    "    \n",
    "    print('Verifying user: ' + current_user.title())\n",
    "    confirmed_users.append(current_user)\n",
    "    \n",
    "print('\\nThe following users have been confirmed:')\n",
    "\n",
    "for confirmed_user in confirmed_users:\n",
    "    print(confirmed_user.title())"
   ]
  },
  {
   "cell_type": "markdown",
   "id": "9801bbc2",
   "metadata": {},
   "source": [
    "### 3.2 Removing All Instances of Specific Values from a List"
   ]
  },
  {
   "cell_type": "code",
   "execution_count": 22,
   "id": "ba3685cd",
   "metadata": {},
   "outputs": [
    {
     "name": "stdout",
     "output_type": "stream",
     "text": [
      "['dog', 'cat', 'dog', 'goldfish', 'cat', 'rabbit', 'cat']\n",
      "['dog', 'dog', 'goldfish', 'rabbit']\n"
     ]
    }
   ],
   "source": [
    "pets = ['dog', 'cat', 'dog', 'goldfish', 'cat', 'rabbit', 'cat']\n",
    "print(pets)\n",
    "\n",
    "while 'cat' in pets:\n",
    "    pets.remove('cat')  #permanently\n",
    "    \n",
    "print(pets)"
   ]
  },
  {
   "cell_type": "markdown",
   "id": "f41f6dea",
   "metadata": {},
   "source": [
    "### 3.3 Filling a Dictionary with User Input"
   ]
  },
  {
   "cell_type": "code",
   "execution_count": 23,
   "id": "8c396ebd",
   "metadata": {},
   "outputs": [
    {
     "name": "stdout",
     "output_type": "stream",
     "text": [
      "\n",
      "What is your name: khojiakbar\n",
      "Which mountain would you like to climb someday? everest\n",
      "Would you like to let another person respond? (yes/ no) yes\n",
      "\n",
      "What is your name: anvar\n",
      "Which mountain would you like to climb someday? everest\n",
      "Would you like to let another person respond? (yes/ no) no\n",
      "\n",
      " ---Poll results--- \n",
      "Khojiakbar would like to climb Everest\n",
      "Anvar would like to climb Everest\n"
     ]
    }
   ],
   "source": [
    "responses = {}\n",
    "\n",
    "polling_active = True   #flag\n",
    "\n",
    "while polling_active:\n",
    "    name = input('\\nWhat is your name: ')\n",
    "    response = input('Which mountain would you like to climb someday? ')\n",
    "    \n",
    "    responses[name] = response\n",
    "    \n",
    "    repeat = input('Would you like to let another person respond? (yes/ no) ')\n",
    "    if repeat == 'no':\n",
    "        polling_active = False\n",
    "        \n",
    "    \n",
    "print('\\n ---Poll results--- ')\n",
    "\n",
    "for name, response in responses.items():\n",
    "    print(name.title() + ' would like to climb ' + response.title())"
   ]
  }
 ],
 "metadata": {
  "kernelspec": {
   "display_name": "Python 3",
   "language": "python",
   "name": "python3"
  },
  "language_info": {
   "codemirror_mode": {
    "name": "ipython",
    "version": 3
   },
   "file_extension": ".py",
   "mimetype": "text/x-python",
   "name": "python",
   "nbconvert_exporter": "python",
   "pygments_lexer": "ipython3",
   "version": "3.8.8"
  }
 },
 "nbformat": 4,
 "nbformat_minor": 5
}
