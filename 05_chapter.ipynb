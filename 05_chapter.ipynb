{
 "cells": [
  {
   "cell_type": "markdown",
   "id": "bc68f61a",
   "metadata": {},
   "source": [
    "# `if` Statements"
   ]
  },
  {
   "cell_type": "markdown",
   "id": "ee76b24a",
   "metadata": {},
   "source": [
    "## 1. A Simple Example"
   ]
  },
  {
   "cell_type": "code",
   "execution_count": 1,
   "id": "a3127268",
   "metadata": {},
   "outputs": [
    {
     "name": "stdout",
     "output_type": "stream",
     "text": [
      "Audi\n",
      "BMW\n",
      "Toyota\n",
      "Subaru\n"
     ]
    }
   ],
   "source": [
    "cars = ['audi', 'bmw', 'toyota', 'subaru']\n",
    "\n",
    "for car in cars:\n",
    "    if car == 'bmw':\n",
    "        print(car.upper())\n",
    "    else:\n",
    "        print(car.title())"
   ]
  },
  {
   "cell_type": "markdown",
   "id": "c8f8ccde",
   "metadata": {},
   "source": [
    "## 2. Conditional Tests\n",
    "The heart of condtional test is True/False => if True: output, False: pass"
   ]
  },
  {
   "cell_type": "markdown",
   "id": "031cf682",
   "metadata": {},
   "source": [
    "### 2.1 Checking for Equality"
   ]
  },
  {
   "cell_type": "code",
   "execution_count": 2,
   "id": "77dad4b6",
   "metadata": {},
   "outputs": [
    {
     "name": "stdout",
     "output_type": "stream",
     "text": [
      "True\n"
     ]
    }
   ],
   "source": [
    "car = 'bmw'\n",
    "print(car == 'bmw')"
   ]
  },
  {
   "cell_type": "code",
   "execution_count": 3,
   "id": "eb21c4c0",
   "metadata": {},
   "outputs": [
    {
     "name": "stdout",
     "output_type": "stream",
     "text": [
      "False\n"
     ]
    }
   ],
   "source": [
    "car = 'audi'\n",
    "print(car == 'bmw')"
   ]
  },
  {
   "cell_type": "markdown",
   "id": "f7ff5f37",
   "metadata": {},
   "source": [
    "### 2.2 Ignoring Case When Checking for Equality"
   ]
  },
  {
   "cell_type": "code",
   "execution_count": 4,
   "id": "af185842",
   "metadata": {},
   "outputs": [
    {
     "name": "stdout",
     "output_type": "stream",
     "text": [
      "False\n"
     ]
    }
   ],
   "source": [
    "car = 'Audi'\n",
    "print(car == 'audi')"
   ]
  },
  {
   "cell_type": "code",
   "execution_count": 5,
   "id": "8067adeb",
   "metadata": {},
   "outputs": [
    {
     "name": "stdout",
     "output_type": "stream",
     "text": [
      "True\n",
      "Audi\n"
     ]
    }
   ],
   "source": [
    "car = 'Audi'\n",
    "print(car.lower() == 'audi')\n",
    "print(car)"
   ]
  },
  {
   "cell_type": "markdown",
   "id": "0dea1107",
   "metadata": {},
   "source": [
    "### 2.3 Checking for Inequality"
   ]
  },
  {
   "cell_type": "code",
   "execution_count": 6,
   "id": "2d803dbf",
   "metadata": {},
   "outputs": [
    {
     "name": "stdout",
     "output_type": "stream",
     "text": [
      "Hold anchovies!\n"
     ]
    }
   ],
   "source": [
    "requested_topping = 'mushrooms'\n",
    "\n",
    "if requested_topping != 'anchovies':    #use only one answer is true or you have a thing (rarely)\n",
    "    print('Hold anchovies!')"
   ]
  },
  {
   "cell_type": "markdown",
   "id": "d24a8a6b",
   "metadata": {},
   "source": [
    "### 2.4 Numerical Comparisons"
   ]
  },
  {
   "cell_type": "code",
   "execution_count": 7,
   "id": "cc308cab",
   "metadata": {},
   "outputs": [
    {
     "name": "stdout",
     "output_type": "stream",
     "text": [
      "True\n"
     ]
    }
   ],
   "source": [
    "age = 18\n",
    "print(age == 18)"
   ]
  },
  {
   "cell_type": "code",
   "execution_count": 8,
   "id": "39cba207",
   "metadata": {},
   "outputs": [
    {
     "name": "stdout",
     "output_type": "stream",
     "text": [
      "That is not the correct answer. Please try again!\n"
     ]
    }
   ],
   "source": [
    "answer = 17\n",
    "\n",
    "if answer != 42:\n",
    "    print('That is not the correct answer. Please try again!')"
   ]
  },
  {
   "cell_type": "code",
   "execution_count": 9,
   "id": "1958c035",
   "metadata": {},
   "outputs": [
    {
     "name": "stdout",
     "output_type": "stream",
     "text": [
      "True\n",
      "True\n",
      "False\n",
      "False\n"
     ]
    }
   ],
   "source": [
    "age = 19\n",
    "\n",
    "print(age < 21)\n",
    "print(age <= 21)\n",
    "print(age > 21)\n",
    "print(age >= 21)"
   ]
  },
  {
   "cell_type": "markdown",
   "id": "7d959f62",
   "metadata": {},
   "source": [
    "### 2.5 Checking Multiple Conditions"
   ]
  },
  {
   "cell_type": "markdown",
   "id": "373a7ac6",
   "metadata": {},
   "source": [
    "#### 2.5.1 Using `and` to Check Multiple Conditions"
   ]
  },
  {
   "cell_type": "code",
   "execution_count": 10,
   "id": "9da65da7",
   "metadata": {},
   "outputs": [
    {
     "name": "stdout",
     "output_type": "stream",
     "text": [
      "False\n"
     ]
    }
   ],
   "source": [
    "age_0 = 22\n",
    "age_1 = 18\n",
    "\n",
    "print(age_0 >= 21 and age_1 >= 21)"
   ]
  },
  {
   "cell_type": "code",
   "execution_count": 11,
   "id": "5a1882dd",
   "metadata": {},
   "outputs": [
    {
     "name": "stdout",
     "output_type": "stream",
     "text": [
      "True\n"
     ]
    }
   ],
   "source": [
    "age_0 = 22\n",
    "age_1 = 25\n",
    "\n",
    "print(age_0 >= 21 and age_1 >= 21)"
   ]
  },
  {
   "cell_type": "markdown",
   "id": "2c58d95f",
   "metadata": {},
   "source": [
    "#### 2.5.2 Using `or` to Check Multiple Conditions"
   ]
  },
  {
   "cell_type": "code",
   "execution_count": 12,
   "id": "3c27f04d",
   "metadata": {},
   "outputs": [
    {
     "name": "stdout",
     "output_type": "stream",
     "text": [
      "True\n"
     ]
    }
   ],
   "source": [
    "age_0 = 22\n",
    "age_1 = 18\n",
    "\n",
    "print(age_0 >= 21 or age_1 >= 21)"
   ]
  },
  {
   "cell_type": "code",
   "execution_count": 13,
   "id": "279ed3b4",
   "metadata": {},
   "outputs": [
    {
     "name": "stdout",
     "output_type": "stream",
     "text": [
      "False\n"
     ]
    }
   ],
   "source": [
    "age_0 = 17\n",
    "age_1 = 18\n",
    "\n",
    "print(age_0 >= 21 or age_1 >= 21)"
   ]
  },
  {
   "cell_type": "markdown",
   "id": "a8b13a35",
   "metadata": {},
   "source": [
    "### 2.6 Checking Whether a Value Is in a List"
   ]
  },
  {
   "cell_type": "code",
   "execution_count": 14,
   "id": "2a1624e2",
   "metadata": {},
   "outputs": [
    {
     "name": "stdout",
     "output_type": "stream",
     "text": [
      "True\n",
      "False\n"
     ]
    }
   ],
   "source": [
    "requested_toppings = ['mushrooms', 'onions', 'pineapple']\n",
    "print('mushrooms' in requested_toppings)\n",
    "print('pepperoni' in requested_toppings)"
   ]
  },
  {
   "cell_type": "markdown",
   "id": "5af58f55",
   "metadata": {},
   "source": [
    "### 2.7 Checking Whether a Value Is Not in a List"
   ]
  },
  {
   "cell_type": "code",
   "execution_count": 15,
   "id": "52ed1eec",
   "metadata": {},
   "outputs": [
    {
     "name": "stdout",
     "output_type": "stream",
     "text": [
      "Marie, you can post a response if you wish\n"
     ]
    }
   ],
   "source": [
    "banned_users = ['alice', 'david', 'carolina']\n",
    "user = 'marie'\n",
    "\n",
    "if user not in banned_users:\n",
    "    print(user.title() + ', you can post a response if you wish')"
   ]
  },
  {
   "cell_type": "markdown",
   "id": "047bcb95",
   "metadata": {},
   "source": [
    "### Exercises"
   ]
  },
  {
   "cell_type": "code",
   "execution_count": 16,
   "id": "6329cef1",
   "metadata": {},
   "outputs": [
    {
     "name": "stdout",
     "output_type": "stream",
     "text": [
      "False\n",
      "True\n"
     ]
    }
   ],
   "source": [
    "#2-1\n",
    "car = 'tesla'\n",
    "print(car == 'benz')\n",
    "print(car == 'tesla')"
   ]
  },
  {
   "cell_type": "code",
   "execution_count": 17,
   "id": "6d9384bc",
   "metadata": {},
   "outputs": [
    {
     "name": "stdout",
     "output_type": "stream",
     "text": [
      "True\n"
     ]
    }
   ],
   "source": [
    "#2-2\n",
    "name = 'KHOJIAKBAR'\n",
    "print(name.lower() == 'khojiakbar')"
   ]
  },
  {
   "cell_type": "code",
   "execution_count": 18,
   "id": "8a9ffd6e",
   "metadata": {},
   "outputs": [
    {
     "name": "stdout",
     "output_type": "stream",
     "text": [
      "False\n"
     ]
    }
   ],
   "source": [
    "#2-3\n",
    "phones = ['apple', 'samsung', 'xiaomi', 'huawei']\n",
    "print('pixel' in phones)"
   ]
  },
  {
   "cell_type": "markdown",
   "id": "7f325524",
   "metadata": {},
   "source": [
    "## 3. if Statements"
   ]
  },
  {
   "cell_type": "markdown",
   "id": "14d187f0",
   "metadata": {},
   "source": [
    "### 3.1 Simple if Statements"
   ]
  },
  {
   "cell_type": "code",
   "execution_count": 19,
   "id": "98629955",
   "metadata": {},
   "outputs": [
    {
     "name": "stdout",
     "output_type": "stream",
     "text": [
      "You are old enough to vote!\n",
      "Have you registered to vote yet?\n"
     ]
    }
   ],
   "source": [
    "age = 19\n",
    "if age > 18:\n",
    "    print('You are old enough to vote!')\n",
    "    print('Have you registered to vote yet?')"
   ]
  },
  {
   "cell_type": "markdown",
   "id": "1268b34a",
   "metadata": {},
   "source": [
    "### 3.2 if-else Statements"
   ]
  },
  {
   "cell_type": "code",
   "execution_count": 20,
   "id": "bb2050f0",
   "metadata": {},
   "outputs": [
    {
     "name": "stdout",
     "output_type": "stream",
     "text": [
      "Sorry, you are too young to vote!\n",
      "Please register to vote as soon as you turn 18!\n"
     ]
    }
   ],
   "source": [
    "age = 17\n",
    "\n",
    "if age > 18:\n",
    "    print('You are old enough to vote!')\n",
    "    print('Have you registered to vote yet?')\n",
    "else:\n",
    "    print('Sorry, you are too young to vote!')\n",
    "    print('Please register to vote as soon as you turn 18!')"
   ]
  },
  {
   "cell_type": "markdown",
   "id": "eef1edc3",
   "metadata": {},
   "source": [
    "### 3.3 The if-elif-else Chain"
   ]
  },
  {
   "cell_type": "code",
   "execution_count": 21,
   "id": "d17f2b4c",
   "metadata": {},
   "outputs": [
    {
     "name": "stdout",
     "output_type": "stream",
     "text": [
      "Your admission cost is $5\n"
     ]
    }
   ],
   "source": [
    "age = 12\n",
    "if age < 4:\n",
    "    print('Your admission cost is $0')\n",
    "elif age < 18:\n",
    "    print('Your admission cost is $5')\n",
    "else:\n",
    "    print('Your admission cost is $10')"
   ]
  },
  {
   "cell_type": "code",
   "execution_count": 22,
   "id": "b2961a67",
   "metadata": {},
   "outputs": [
    {
     "name": "stdout",
     "output_type": "stream",
     "text": [
      "Your admission cost is $5\n"
     ]
    }
   ],
   "source": [
    "age = 12\n",
    "\n",
    "if age < 4:\n",
    "    price = 0\n",
    "elif age < 18:\n",
    "    price = 5\n",
    "else:\n",
    "    price = 10\n",
    "    \n",
    "print('Your admission cost is $' + str(price))"
   ]
  },
  {
   "cell_type": "markdown",
   "id": "001f3493",
   "metadata": {},
   "source": [
    "### 3.4 Using Multiple elif Blocks"
   ]
  },
  {
   "cell_type": "code",
   "execution_count": 23,
   "id": "16c586e1",
   "metadata": {},
   "outputs": [
    {
     "name": "stdout",
     "output_type": "stream",
     "text": [
      "Your admission cost is $5\n"
     ]
    }
   ],
   "source": [
    "age = 12\n",
    "\n",
    "if age < 4:\n",
    "    price = 0\n",
    "elif age < 18:\n",
    "    price = 5\n",
    "elif age < 65:\n",
    "    price = 10\n",
    "else:\n",
    "    price = 5\n",
    "    \n",
    "print('Your admission cost is $' + str(price))"
   ]
  },
  {
   "cell_type": "markdown",
   "id": "f66aa667",
   "metadata": {},
   "source": [
    "### 3.5 Omitting the else Block"
   ]
  },
  {
   "cell_type": "code",
   "execution_count": 24,
   "id": "e522c400",
   "metadata": {},
   "outputs": [
    {
     "name": "stdout",
     "output_type": "stream",
     "text": [
      "Your admission cost is $5\n"
     ]
    }
   ],
   "source": [
    "age = 12\n",
    "\n",
    "if age < 4:\n",
    "    proce = 0\n",
    "elif age < 18:\n",
    "    price = 5\n",
    "elif age < 65:\n",
    "    price = 10\n",
    "elif age > 65:\n",
    "    price = 5\n",
    "    \n",
    "print('Your admission cost is $' + str(price))"
   ]
  },
  {
   "cell_type": "markdown",
   "id": "1cc1523d",
   "metadata": {},
   "source": [
    "### 3.6 Testing Multiple Conditions"
   ]
  },
  {
   "cell_type": "code",
   "execution_count": 25,
   "id": "1827b199",
   "metadata": {},
   "outputs": [
    {
     "name": "stdout",
     "output_type": "stream",
     "text": [
      "Adding mushrooms.\n",
      "Adding extra cheese\n",
      "\n",
      "Finished making your pizza!\n"
     ]
    }
   ],
   "source": [
    "requested_toppings = ['mushrooms', 'extra cheese']\n",
    "\n",
    "if 'mushrooms' in requested_toppings:\n",
    "    print('Adding mushrooms.')\n",
    "if 'pepperoni' in requested_toppings:   #passes even the first test is passed\n",
    "    print('Adding pepperoni')\n",
    "if 'extra cheese' in requested_toppings:\n",
    "    print('Adding extra cheese')\n",
    "    \n",
    "print('\\nFinished making your pizza!')"
   ]
  },
  {
   "cell_type": "markdown",
   "id": "9b557fd5",
   "metadata": {},
   "source": [
    "* In summary, if you want only one block of code to run, use an if-elifelse\n",
    "chain. If more than one block of code needs to run, use a series of\n",
    "independent if statements."
   ]
  },
  {
   "cell_type": "markdown",
   "id": "277cd2a8",
   "metadata": {},
   "source": [
    "### Exercises"
   ]
  },
  {
   "cell_type": "code",
   "execution_count": 26,
   "id": "ac40ac56",
   "metadata": {},
   "outputs": [
    {
     "name": "stdout",
     "output_type": "stream",
     "text": [
      "I like an apple\n",
      "I love a peach\n"
     ]
    }
   ],
   "source": [
    "#3-1\n",
    "fruits = ['apple', 'bananas', 'peach', 'pear', 'grape']\n",
    "\n",
    "if 'apple' in fruits:\n",
    "    print('I like an apple')\n",
    "if 'pineapple' in fruits:\n",
    "    print('I like a pineapple')\n",
    "if 'peach' in fruits:\n",
    "    print('I love a peach')"
   ]
  },
  {
   "cell_type": "markdown",
   "id": "aa00b561",
   "metadata": {},
   "source": [
    "## 4. Using if Statements with Lists"
   ]
  },
  {
   "cell_type": "markdown",
   "id": "b3b69208",
   "metadata": {},
   "source": [
    "### 4.1 Checking for Special Items\n"
   ]
  },
  {
   "cell_type": "code",
   "execution_count": 27,
   "id": "a3edbf32",
   "metadata": {},
   "outputs": [
    {
     "name": "stdout",
     "output_type": "stream",
     "text": [
      "Adding mushrooms\n",
      "Sorry, we are out of green peppers\n",
      "Adding extra cheese\n",
      "\n",
      "Finished making your pizza\n"
     ]
    }
   ],
   "source": [
    "requested_toppings = ['mushrooms', 'green peppers', 'extra cheese']\n",
    "\n",
    "for requested_topping in requested_toppings:\n",
    "    if requested_topping == 'green peppers':\n",
    "        print('Sorry, we are out of ' + requested_topping)\n",
    "    else:\n",
    "        print('Adding ' + requested_topping)\n",
    "\n",
    "print('\\nFinished making your pizza')"
   ]
  },
  {
   "cell_type": "markdown",
   "id": "d46aa72d",
   "metadata": {},
   "source": [
    "### 4.2 Checking That a List Is Not Empty"
   ]
  },
  {
   "cell_type": "code",
   "execution_count": 28,
   "id": "1f816836",
   "metadata": {},
   "outputs": [
    {
     "name": "stdout",
     "output_type": "stream",
     "text": [
      "Are you sure you want a plain pizza?\n"
     ]
    }
   ],
   "source": [
    "requested_toppings = []\n",
    "\n",
    "if requested_toppings:\n",
    "    for requested_topping in requested_toppings:\n",
    "        print('Adding ' + requested_topping)\n",
    "    print('\\nFinished making your pizza')\n",
    "else:\n",
    "    print('Are you sure you want a plain pizza?')"
   ]
  },
  {
   "cell_type": "markdown",
   "id": "6622ad9a",
   "metadata": {},
   "source": [
    "### 4.3 Using Multiple Lists"
   ]
  },
  {
   "cell_type": "code",
   "execution_count": 29,
   "id": "3a23fabc",
   "metadata": {},
   "outputs": [
    {
     "name": "stdout",
     "output_type": "stream",
     "text": [
      "Adding mushrooms!\n",
      "Sorry, we don't have french fries!\n",
      "Adding extra cheese!\n",
      "\n",
      "Finished making your pizza\n"
     ]
    }
   ],
   "source": [
    "available_toppings = ['mushrooms', 'olives', 'green peppers',\n",
    "                      'pineapple', 'pepperoni', 'extra cheese']\n",
    "\n",
    "requested_toppings = ['mushrooms', 'french fries', 'extra cheese']\n",
    "\n",
    "for requested_topping in requested_toppings:\n",
    "    if requested_topping in available_toppings:\n",
    "        print('Adding ' + requested_topping + '!')\n",
    "    else:\n",
    "        print('Sorry, we don\\'t have ' + requested_topping + '!')\n",
    "\n",
    "print('\\nFinished making your pizza')"
   ]
  },
  {
   "cell_type": "markdown",
   "id": "f23aadea",
   "metadata": {},
   "source": [
    "### Exercises"
   ]
  },
  {
   "cell_type": "code",
   "execution_count": 30,
   "id": "8c6f39df",
   "metadata": {},
   "outputs": [
    {
     "name": "stdout",
     "output_type": "stream",
     "text": [
      "1st\n",
      "2nd\n",
      "3rd\n",
      "4th\n",
      "5th\n",
      "6th\n",
      "7th\n",
      "8th\n",
      "9th\n"
     ]
    }
   ],
   "source": [
    "#4-1\n",
    "numbers = list(range(1,10))\n",
    "\n",
    "for number in numbers:\n",
    "    if number == 1:\n",
    "        print(str(number) + 'st')\n",
    "    elif number == 2:\n",
    "        print(str(number) + 'nd')\n",
    "    elif number == 3:\n",
    "        print(str(number) + 'rd')\n",
    "    else:\n",
    "        print(str(number) + 'th')"
   ]
  }
 ],
 "metadata": {
  "kernelspec": {
   "display_name": "Python 3",
   "language": "python",
   "name": "python3"
  },
  "language_info": {
   "codemirror_mode": {
    "name": "ipython",
    "version": 3
   },
   "file_extension": ".py",
   "mimetype": "text/x-python",
   "name": "python",
   "nbconvert_exporter": "python",
   "pygments_lexer": "ipython3",
   "version": "3.8.8"
  }
 },
 "nbformat": 4,
 "nbformat_minor": 5
}
