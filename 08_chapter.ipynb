{
 "cells": [
  {
   "cell_type": "markdown",
   "id": "97d3a433",
   "metadata": {},
   "source": [
    "# Functions"
   ]
  },
  {
   "cell_type": "markdown",
   "id": "9380c20d",
   "metadata": {},
   "source": [
    "## 1. Defining a Function"
   ]
  },
  {
   "cell_type": "code",
   "execution_count": 1,
   "id": "3f1f50e5",
   "metadata": {},
   "outputs": [
    {
     "name": "stdout",
     "output_type": "stream",
     "text": [
      "Hello!\n"
     ]
    }
   ],
   "source": [
    "def greet_user():\n",
    "    '''Display a simple greeting!'''\n",
    "    print('Hello!')\n",
    "    \n",
    "greet_user()"
   ]
  },
  {
   "cell_type": "markdown",
   "id": "cb928f4a",
   "metadata": {},
   "source": [
    "### 1.1 Passing Information to a Function"
   ]
  },
  {
   "cell_type": "code",
   "execution_count": 2,
   "id": "41dbc07a",
   "metadata": {},
   "outputs": [
    {
     "name": "stdout",
     "output_type": "stream",
     "text": [
      "Hello, Khojiakbar!\n"
     ]
    }
   ],
   "source": [
    "def greet_user(username):\n",
    "    print('Hello, ' + username.title() + '!')\n",
    "    \n",
    "greet_user('khojiakbar')"
   ]
  },
  {
   "cell_type": "markdown",
   "id": "7511f124",
   "metadata": {},
   "source": [
    "## 2. Passing Arguments"
   ]
  },
  {
   "cell_type": "markdown",
   "id": "aefad664",
   "metadata": {},
   "source": [
    "### 2.1 Positional Arguments"
   ]
  },
  {
   "cell_type": "code",
   "execution_count": 3,
   "id": "445f1b0d",
   "metadata": {},
   "outputs": [
    {
     "name": "stdout",
     "output_type": "stream",
     "text": [
      "\n",
      "I have a hamster!\n",
      "My hamster's name is Harry.\n"
     ]
    }
   ],
   "source": [
    "def describe_pet(animal_type, pet_name):\n",
    "    print('\\nI have a ' + animal_type + '!')\n",
    "    print('My ' + animal_type + '\\'s name is ' + pet_name.title() + '.')\n",
    "    \n",
    "describe_pet('hamster', 'harry')"
   ]
  },
  {
   "cell_type": "markdown",
   "id": "afe80ba8",
   "metadata": {},
   "source": [
    "#### 2.1.1 Multiple Function Calls"
   ]
  },
  {
   "cell_type": "code",
   "execution_count": 4,
   "id": "7cbe5dfc",
   "metadata": {},
   "outputs": [
    {
     "name": "stdout",
     "output_type": "stream",
     "text": [
      "\n",
      "I have a hamster!\n",
      "My hamster's name is Harry.\n",
      "\n",
      "I have a dog!\n",
      "My dog's name is Boydavlat.\n"
     ]
    }
   ],
   "source": [
    "def describe_pet(animal_type, pet_name):\n",
    "    print('\\nI have a ' + animal_type + '!')\n",
    "    print('My ' + animal_type + '\\'s name is ' + pet_name.title() + '.')\n",
    "    \n",
    "describe_pet('hamster', 'harry')\n",
    "describe_pet('dog', 'boydavlat')"
   ]
  },
  {
   "cell_type": "markdown",
   "id": "63340505",
   "metadata": {},
   "source": [
    "#### 2.1.2 Order Matters in Positional Arguments"
   ]
  },
  {
   "cell_type": "code",
   "execution_count": 5,
   "id": "3a3388b7",
   "metadata": {},
   "outputs": [
    {
     "name": "stdout",
     "output_type": "stream",
     "text": [
      "I have a boydavlat!\n",
      "My boydavlat's name is Dog.\n"
     ]
    }
   ],
   "source": [
    "def describe_pet(animal_type, pet_name):\n",
    "    print('I have a ' + animal_type + '!')\n",
    "    print('My ' + animal_type + '\\'s name is ' + pet_name.title() + '.')\n",
    "\n",
    "describe_pet('boydavlat', 'dog')"
   ]
  },
  {
   "cell_type": "markdown",
   "id": "dff600fb",
   "metadata": {},
   "source": [
    "### 2.2 Keyword Arguments"
   ]
  },
  {
   "cell_type": "code",
   "execution_count": 6,
   "id": "0830af26",
   "metadata": {},
   "outputs": [
    {
     "name": "stdout",
     "output_type": "stream",
     "text": [
      "I have a dog!\n",
      "My dog's name is Boydavlat.\n",
      "I have a dog!\n",
      "My dog's name is Boydavlat.\n"
     ]
    }
   ],
   "source": [
    "def describe_pet(animal_type, pet_name):\n",
    "    print('I have a ' + animal_type + '!')\n",
    "    print('My ' + animal_type + '\\'s name is ' + pet_name.title() + '.')\n",
    "    \n",
    "describe_pet(animal_type='dog', pet_name='boydavlat')\n",
    "describe_pet(pet_name='boydavlat', animal_type='dog')"
   ]
  },
  {
   "cell_type": "markdown",
   "id": "2ebae7cb",
   "metadata": {},
   "source": [
    "### 2.3 Default Values"
   ]
  },
  {
   "cell_type": "code",
   "execution_count": 7,
   "id": "63cea94e",
   "metadata": {},
   "outputs": [
    {
     "name": "stdout",
     "output_type": "stream",
     "text": [
      "I have a dog!\n",
      "My dog's name is Boydavlat.\n",
      "\n",
      "I have a hamster!\n",
      "My hamster's name is Harry.\n",
      "\n"
     ]
    }
   ],
   "source": [
    "def describe_pet(pet_name, animal_type='dog'):\n",
    "    print('I have a ' + animal_type + '!')\n",
    "    print('My ' + animal_type + '\\'s name is ' + pet_name.title() + '.\\n')\n",
    "    \n",
    "describe_pet(pet_name='boydavlat')\n",
    "describe_pet(animal_type='hamster', pet_name='harry')  #ignores the default value"
   ]
  },
  {
   "cell_type": "markdown",
   "id": "7b4bd507",
   "metadata": {},
   "source": [
    "### 2.4 Equivalent Function Calls"
   ]
  },
  {
   "cell_type": "code",
   "execution_count": 8,
   "id": "496a3358",
   "metadata": {},
   "outputs": [
    {
     "name": "stdout",
     "output_type": "stream",
     "text": [
      "I have a dog!\n",
      "My dog's name is Boydavlat.\n",
      "\n",
      "I have a dog!\n",
      "My dog's name is Boydavlat.\n",
      "\n"
     ]
    }
   ],
   "source": [
    "def describe_pet(pet_name, animal_type='dog'):\n",
    "    print('I have a ' + animal_type + '!')\n",
    "    print('My ' + animal_type + '\\'s name is ' + pet_name.title() + '.\\n')\n",
    "    \n",
    "# A dog named Boydavlat\n",
    "describe_pet('boydavlat')\n",
    "describe_pet(pet_name='boydavlat')"
   ]
  },
  {
   "cell_type": "code",
   "execution_count": 9,
   "id": "63492ac0",
   "metadata": {},
   "outputs": [
    {
     "name": "stdout",
     "output_type": "stream",
     "text": [
      "I have a hamster!\n",
      "My hamster's name is Harry.\n",
      "\n",
      "I have a hamster!\n",
      "My hamster's name is Harry.\n",
      "\n",
      "I have a hamster!\n",
      "My hamster's name is Harry.\n",
      "\n"
     ]
    }
   ],
   "source": [
    "# A hamster named Harry\n",
    "describe_pet('harry', 'hamster')\n",
    "describe_pet(animal_type='hamster', pet_name='harry')\n",
    "describe_pet(pet_name='harry', animal_type='hamster')"
   ]
  },
  {
   "cell_type": "markdown",
   "id": "c9c5ff85",
   "metadata": {},
   "source": [
    "### 2.5 Avoiding Argument Errors"
   ]
  },
  {
   "cell_type": "code",
   "execution_count": 10,
   "id": "f260ca9e",
   "metadata": {},
   "outputs": [
    {
     "ename": "TypeError",
     "evalue": "describe_pet() missing 2 required positional arguments: 'pet_name' and 'animal_type'",
     "output_type": "error",
     "traceback": [
      "\u001b[1;31m---------------------------------------------------------------------------\u001b[0m",
      "\u001b[1;31mTypeError\u001b[0m                                 Traceback (most recent call last)",
      "\u001b[1;32m<ipython-input-10-d2286d4dfed9>\u001b[0m in \u001b[0;36m<module>\u001b[1;34m\u001b[0m\n\u001b[0;32m      4\u001b[0m     \u001b[0mprint\u001b[0m\u001b[1;33m(\u001b[0m\u001b[1;34m'My '\u001b[0m \u001b[1;33m+\u001b[0m \u001b[0manimal_type\u001b[0m \u001b[1;33m+\u001b[0m \u001b[1;34m'\\'s name is '\u001b[0m \u001b[1;33m+\u001b[0m \u001b[0mpet_name\u001b[0m\u001b[1;33m.\u001b[0m\u001b[0mtitle\u001b[0m\u001b[1;33m(\u001b[0m\u001b[1;33m)\u001b[0m \u001b[1;33m+\u001b[0m \u001b[1;34m'.\\n'\u001b[0m\u001b[1;33m)\u001b[0m\u001b[1;33m\u001b[0m\u001b[1;33m\u001b[0m\u001b[0m\n\u001b[0;32m      5\u001b[0m \u001b[1;33m\u001b[0m\u001b[0m\n\u001b[1;32m----> 6\u001b[1;33m \u001b[0mdescribe_pet\u001b[0m\u001b[1;33m(\u001b[0m\u001b[1;33m)\u001b[0m\u001b[1;33m\u001b[0m\u001b[1;33m\u001b[0m\u001b[0m\n\u001b[0m",
      "\u001b[1;31mTypeError\u001b[0m: describe_pet() missing 2 required positional arguments: 'pet_name' and 'animal_type'"
     ]
    }
   ],
   "source": [
    "#TypeError\n",
    "def describe_pet(pet_name, animal_type):\n",
    "    print('I have a ' + animal_type + '!')\n",
    "    print('My ' + animal_type + '\\'s name is ' + pet_name.title() + '.\\n')\n",
    "    \n",
    "describe_pet()"
   ]
  },
  {
   "cell_type": "markdown",
   "id": "32ee0e48",
   "metadata": {},
   "source": [
    "### Exercises"
   ]
  },
  {
   "cell_type": "code",
   "execution_count": 11,
   "id": "8ba4b294",
   "metadata": {},
   "outputs": [
    {
     "name": "stdout",
     "output_type": "stream",
     "text": [
      "I would like a t-shirt with 105-cm.\n",
      "The t-shirt should contain a text message: Never ever give up!.\n",
      "\n",
      "I would like a t-shirt with 105-cm.\n",
      "The t-shirt should contain a text message: Never ever give up.\n",
      "\n",
      "I would like a t-shirt with 100-cm.\n",
      "The t-shirt should contain a text message: Hey, Khojiakbar.\n",
      "\n"
     ]
    }
   ],
   "source": [
    "#2-1\n",
    "def make_shirt(size, text):\n",
    "    print('I would like a t-shirt with ' + str(size) + '-cm.')\n",
    "    print('The t-shirt should contain a text message: ' + text + '.\\n')\n",
    "    \n",
    "make_shirt(105, 'Never ever give up!')   #positional arguments\n",
    "make_shirt(size=105, text='Never ever give up')   #keyword arguments\n",
    "make_shirt(text='Hey, Khojiakbar', size=100)"
   ]
  },
  {
   "cell_type": "markdown",
   "id": "2d98c0b7",
   "metadata": {},
   "source": [
    "## 3. Return Values"
   ]
  },
  {
   "cell_type": "markdown",
   "id": "5f26a927",
   "metadata": {},
   "source": [
    "### 3.1 Returning a Simple Value"
   ]
  },
  {
   "cell_type": "code",
   "execution_count": 12,
   "id": "eccafd0f",
   "metadata": {},
   "outputs": [
    {
     "name": "stdout",
     "output_type": "stream",
     "text": [
      "Khojiakbar Isomiddinov\n"
     ]
    }
   ],
   "source": [
    "def get_formatted_name(first_name, last_name):\n",
    "    full_name = first_name + ' ' + last_name\n",
    "    return full_name.title()\n",
    "\n",
    "print(get_formatted_name('khojiakbar', 'isomiddinov'))"
   ]
  },
  {
   "cell_type": "markdown",
   "id": "032bbc4e",
   "metadata": {},
   "source": [
    "### 3.2 Making an Argument Optional"
   ]
  },
  {
   "cell_type": "code",
   "execution_count": 13,
   "id": "4ccb2830",
   "metadata": {},
   "outputs": [
    {
     "name": "stdout",
     "output_type": "stream",
     "text": [
      "Khojiakbar Shukhrat Ugli Isomiddinov\n"
     ]
    }
   ],
   "source": [
    "def get_formatted_name(first_name, middle_name, last_name):\n",
    "    full_name = first_name + ' ' + middle_name + ' ' + last_name\n",
    "    return full_name.title()\n",
    "\n",
    "print(get_formatted_name('khojiakbar', 'shukhrat ugli', 'isomiddinov'))"
   ]
  },
  {
   "cell_type": "code",
   "execution_count": 14,
   "id": "4d50e5e2",
   "metadata": {},
   "outputs": [
    {
     "name": "stdout",
     "output_type": "stream",
     "text": [
      "Khojiakbar Isomiddinov\n",
      "Khojiakbar Shukhrat Ugli Isomiddinov\n"
     ]
    }
   ],
   "source": [
    "def get_formatted_name(first_name, last_name, middle_name=''):\n",
    "    if middle_name:\n",
    "        full_name = first_name + ' ' + middle_name + ' ' + last_name\n",
    "    else:\n",
    "        full_name = first_name + ' ' + last_name\n",
    "    return full_name.title()\n",
    "\n",
    "full_name_1 = get_formatted_name('khojiakbar', 'isomiddinov')\n",
    "print(full_name_1)\n",
    "\n",
    "full_name_2 = get_formatted_name('khojiakbar', 'isomiddinov', 'shukhrat ugli')\n",
    "print(full_name_2)"
   ]
  },
  {
   "cell_type": "markdown",
   "id": "f7800b63",
   "metadata": {},
   "source": [
    "### 3.3 Returning a Dictionary"
   ]
  },
  {
   "cell_type": "code",
   "execution_count": 15,
   "id": "aad0a278",
   "metadata": {},
   "outputs": [
    {
     "name": "stdout",
     "output_type": "stream",
     "text": [
      "{'first': 'khojiakbar', 'last': 'isomiddinov', 'age': 21}\n"
     ]
    }
   ],
   "source": [
    "def build_person(first_name, last_name, age=''):\n",
    "    person = {'first': first_name, 'last': last_name}\n",
    "    if age:\n",
    "        person['age'] = age\n",
    "    return person\n",
    "\n",
    "print(build_person('khojiakbar', 'isomiddinov', 21))"
   ]
  },
  {
   "cell_type": "markdown",
   "id": "41a0fe79",
   "metadata": {},
   "source": [
    "### 3.4 Using a Function with a while Loop"
   ]
  },
  {
   "cell_type": "code",
   "execution_count": 16,
   "id": "93764cc3",
   "metadata": {},
   "outputs": [
    {
     "name": "stdout",
     "output_type": "stream",
     "text": [
      "\n",
      "Please tell me your name:\n",
      "First name: khojiakbar\n",
      "Last name: isomiddinov\n",
      "\n",
      "Hello, Khojiakbar Isomiddinov!\n",
      "\n",
      "Please tell me your name:\n",
      "First name: quit\n",
      "Last name: exit\n"
     ]
    }
   ],
   "source": [
    "def get_formatted_name(first_name, last_name):\n",
    "    full_name = first_name + ' ' + last_name\n",
    "    return full_name.title()\n",
    "\n",
    "while True:\n",
    "    print('\\nPlease tell me your name:')\n",
    "    f_name = input('First name: ')\n",
    "    l_name = input('Last name: ')\n",
    "    \n",
    "    if f_name != 'quit':\n",
    "        formatted_name = get_formatted_name(f_name, l_name)\n",
    "        print('\\nHello, ' + formatted_name + '!')\n",
    "    else:\n",
    "        break"
   ]
  },
  {
   "cell_type": "markdown",
   "id": "ca7c1c29",
   "metadata": {},
   "source": [
    "## 4. Passing a List"
   ]
  },
  {
   "cell_type": "code",
   "execution_count": 17,
   "id": "176e25d2",
   "metadata": {},
   "outputs": [
    {
     "name": "stdout",
     "output_type": "stream",
     "text": [
      "Hello, Hannah!\n",
      "Hello, Ty!\n",
      "Hello, Margot!\n"
     ]
    }
   ],
   "source": [
    "def greet_users(names):\n",
    "    for name in names:\n",
    "        message = 'Hello, ' + name.title() + '!'\n",
    "        print(message)\n",
    "        \n",
    "usernames = ['hannah', 'ty', 'margot']\n",
    "greet_users(usernames)"
   ]
  },
  {
   "cell_type": "markdown",
   "id": "6b85a258",
   "metadata": {},
   "source": [
    "### 4.1 Modifying a List in a Function"
   ]
  },
  {
   "cell_type": "code",
   "execution_count": 18,
   "id": "767d9d85",
   "metadata": {},
   "outputs": [
    {
     "name": "stdout",
     "output_type": "stream",
     "text": [
      "Printing model: dodecahedron\n",
      "Printing model: robot pendant\n",
      "Printing model: iphone case\n",
      "\n",
      "The following models have been printed:\n",
      "dodecahedron\n",
      "robot pendant\n",
      "iphone case\n"
     ]
    }
   ],
   "source": [
    "unprinted_designs = ['iphone case', 'robot pendant', 'dodecahedron']\n",
    "completed_models = []\n",
    "\n",
    "while unprinted_designs:\n",
    "    current_design = unprinted_designs.pop()\n",
    "    print('Printing model: ' + current_design)\n",
    "    completed_models.append(current_design)\n",
    "    \n",
    "print('\\nThe following models have been printed:')\n",
    "for completed_model in completed_models:\n",
    "    print(completed_model)"
   ]
  },
  {
   "cell_type": "markdown",
   "id": "b7d050e6",
   "metadata": {},
   "source": [
    "#### Alternatively"
   ]
  },
  {
   "cell_type": "code",
   "execution_count": 19,
   "id": "e6ee79c1",
   "metadata": {},
   "outputs": [
    {
     "name": "stdout",
     "output_type": "stream",
     "text": [
      "Printing model: dodecahedron\n",
      "Printing model: robot pendant\n",
      "Printing model: iphone case\n",
      "\n",
      "The following models have been printed:\n",
      "dodecahedron\n",
      "robot pendant\n",
      "iphone case\n"
     ]
    }
   ],
   "source": [
    "def print_models(unprinted_designs, completed_models):\n",
    "    while unprinted_designs:\n",
    "        current_design = unprinted_designs.pop()\n",
    "        print('Printing model: ' + current_design)\n",
    "        completed_models.append(current_design)\n",
    "    \n",
    "def show_completed_models(completed_models):\n",
    "    print('\\nThe following models have been printed:')\n",
    "    for completed_model in completed_models:\n",
    "        print(completed_model)\n",
    "        \n",
    "unprinted_designs = ['iphone case', 'robot pendant', 'dodecahedron']\n",
    "completed_models = []\n",
    "\n",
    "print_models(unprinted_designs, completed_models)\n",
    "show_completed_models(completed_models)"
   ]
  },
  {
   "cell_type": "markdown",
   "id": "67f11f52",
   "metadata": {},
   "source": [
    "### 4.2 Preventing a Function from Modifying a List"
   ]
  },
  {
   "cell_type": "code",
   "execution_count": 20,
   "id": "2e62aa57",
   "metadata": {},
   "outputs": [],
   "source": [
    "# using duplicate for the function that will affect and use only the copy of the list\n",
    "# Target: preserving the original list without any changes\n",
    "# function_name(list_name[:])\n",
    "\n",
    "print_models(unprinted_designs[:], completed_models)"
   ]
  },
  {
   "cell_type": "markdown",
   "id": "5d60597a",
   "metadata": {},
   "source": [
    "## 5. Passing an Arbitrary Number of Arguments  (*args)"
   ]
  },
  {
   "cell_type": "code",
   "execution_count": 21,
   "id": "62be27a1",
   "metadata": {},
   "outputs": [
    {
     "name": "stdout",
     "output_type": "stream",
     "text": [
      "(['pepperoni'],)\n",
      "(['mushrooms', 'green peppers', 'extra cheese'],)\n"
     ]
    }
   ],
   "source": [
    "# *args is used with 'LIST' only and output is in a TUPLE\n",
    "# * in the parameter *args tells to python to make an empty tuple called 'args' and pack wheter value it receives\n",
    "def make_pizza(*args):\n",
    "    print(args)\n",
    "    \n",
    "topping_1 = ['pepperoni']\n",
    "topping_2 = ['mushrooms', 'green peppers', 'extra cheese']\n",
    "\n",
    "make_pizza(topping_1)\n",
    "make_pizza(topping_2)"
   ]
  },
  {
   "cell_type": "code",
   "execution_count": 22,
   "id": "4f02b50b",
   "metadata": {},
   "outputs": [
    {
     "name": "stdout",
     "output_type": "stream",
     "text": [
      "\n",
      "The following toppings have been ordered:\n",
      "- pepperoni\n",
      "\n",
      "The following toppings have been ordered:\n",
      "- mushrooms\n",
      "- green peppers\n",
      "- extra cheese\n"
     ]
    }
   ],
   "source": [
    "def make_pizza(*args):\n",
    "    print('\\nThe following toppings have been ordered:')\n",
    "    for topping in args:\n",
    "        print('- ' + topping)\n",
    "\n",
    "make_pizza('pepperoni')\n",
    "make_pizza('mushrooms', 'green peppers', 'extra cheese')"
   ]
  },
  {
   "cell_type": "markdown",
   "id": "8c690577",
   "metadata": {},
   "source": [
    "### 5.1 Mixing Positional and Arbitrary Arguments"
   ]
  },
  {
   "cell_type": "code",
   "execution_count": 23,
   "id": "9157c625",
   "metadata": {},
   "outputs": [
    {
     "name": "stdout",
     "output_type": "stream",
     "text": [
      "\n",
      "Making a 16-inch size pizza with the following toppings:\n",
      "- mushrooms\n",
      "\n",
      "Making a 12-inch size pizza with the following toppings:\n",
      "- pepperoni\n",
      "- extra cheese\n",
      "- green peppers\n"
     ]
    }
   ],
   "source": [
    "def make_pizza(size, *args):\n",
    "    print('\\nMaking a ' + str(size) + '-inch size pizza with the following toppings:')\n",
    "    for topping in args:\n",
    "        print('- ' + topping)\n",
    "        \n",
    "make_pizza(16, 'mushrooms')\n",
    "make_pizza(12, 'pepperoni', 'extra cheese', 'green peppers')"
   ]
  },
  {
   "cell_type": "markdown",
   "id": "737e6caa",
   "metadata": {},
   "source": [
    "### 5.2 Using Arbitrary Keyword Arguments (**kwargs)"
   ]
  },
  {
   "cell_type": "code",
   "execution_count": 24,
   "id": "a4b47296",
   "metadata": {},
   "outputs": [
    {
     "name": "stdout",
     "output_type": "stream",
     "text": [
      "{'first_name': 'khojiakbar', 'last_name': 'isomiddinov', 'location': 'uzbekistan', 'field': 'data science'}\n"
     ]
    }
   ],
   "source": [
    "# **kwargs is used with 'DICTIONARY' only\n",
    "# ** in the parameter **kwargs tells python to make a dictionary called 'kwargs'\n",
    "\n",
    "def build_profile(first, last, **kwargs):\n",
    "    profile = {}\n",
    "    profile['first_name'] = first\n",
    "    profile['last_name'] = last\n",
    "    \n",
    "    for key, value in kwargs.items():\n",
    "        profile[key] = value\n",
    "        \n",
    "    return profile\n",
    "\n",
    "user_profile = build_profile('khojiakbar', 'isomiddinov', location='uzbekistan', field='data science')\n",
    "print(user_profile)"
   ]
  },
  {
   "cell_type": "markdown",
   "id": "c9c6254c",
   "metadata": {},
   "source": [
    "### Exercises"
   ]
  },
  {
   "cell_type": "code",
   "execution_count": 25,
   "id": "9a224ff8",
   "metadata": {},
   "outputs": [
    {
     "name": "stdout",
     "output_type": "stream",
     "text": [
      "{'manafacturer': 'genesis', 'model': 'g80', 'year': 2021, 'position': 'luxary', 'premium': True}\n"
     ]
    }
   ],
   "source": [
    "def car_info(manafacturer, model, **kwargs):\n",
    "    car = {}\n",
    "    car['manafacturer'] = manafacturer\n",
    "    car['model'] = model\n",
    "    \n",
    "    for key, value in kwargs.items():\n",
    "        car[key] = value\n",
    "    \n",
    "    return car\n",
    "\n",
    "user_car = car_info('genesis', 'g80', year=2021, position='luxary', premium=True)\n",
    "print(user_car)"
   ]
  },
  {
   "cell_type": "markdown",
   "id": "8491071e",
   "metadata": {},
   "source": [
    "## 6. Storing Your Functions in Modules"
   ]
  },
  {
   "cell_type": "markdown",
   "id": "d190b2e9",
   "metadata": {},
   "source": [
    "### 6.1 Importing an Entire Module\n",
    "* `import module_name`\n",
    "* save your files/modules in `.py` file format not in `.ipynb`\n",
    "* `import` opens a file in working file and copies all the details from it"
   ]
  },
  {
   "cell_type": "code",
   "execution_count": 26,
   "id": "53ff96a8",
   "metadata": {},
   "outputs": [
    {
     "name": "stdout",
     "output_type": "stream",
     "text": [
      "\n",
      "Making 20-inch pizza with the following toppings: \n",
      "- pepperoni\n",
      "\n",
      "Making 16-inch pizza with the following toppings: \n",
      "- mushrooms\n",
      "- extra cheese\n",
      "- green peppers\n"
     ]
    }
   ],
   "source": [
    "import eight_chapter_module\n",
    "\n",
    "eight_chapter_module.make_pizza(20, 'pepperoni')\n",
    "eight_chapter_module.make_pizza(16, 'mushrooms', 'extra cheese', 'green peppers')"
   ]
  },
  {
   "cell_type": "markdown",
   "id": "45239db5",
   "metadata": {},
   "source": [
    "### 6.2 Importing Specific Functions\n",
    "* `from module_name import function_name`\n",
    "* `from module_name import function_1, function_2, function_3`"
   ]
  },
  {
   "cell_type": "code",
   "execution_count": 27,
   "id": "321fa56a",
   "metadata": {},
   "outputs": [
    {
     "name": "stdout",
     "output_type": "stream",
     "text": [
      "\n",
      "Making 24-inch pizza with the following toppings: \n",
      "- mushrooms\n",
      "- extra cheese\n",
      "- pepperoni\n"
     ]
    }
   ],
   "source": [
    "from eight_chapter_module import make_pizza\n",
    "\n",
    "make_pizza(24, 'mushrooms', 'extra cheese', 'pepperoni')"
   ]
  },
  {
   "cell_type": "markdown",
   "id": "243fa6a4",
   "metadata": {},
   "source": [
    "### 6.3 Using `as` to Give a `Function` an Alias\n",
    "* `from module_name import function name as fn`"
   ]
  },
  {
   "cell_type": "code",
   "execution_count": 28,
   "id": "5f870de1",
   "metadata": {},
   "outputs": [
    {
     "name": "stdout",
     "output_type": "stream",
     "text": [
      "\n",
      "Making 32-inch pizza with the following toppings: \n",
      "- mushrooms\n",
      "- extra cheese\n"
     ]
    }
   ],
   "source": [
    "from eight_chapter_module import make_pizza as mp\n",
    "\n",
    "mp(32, 'mushrooms', 'extra cheese')"
   ]
  },
  {
   "cell_type": "markdown",
   "id": "1f007b4b",
   "metadata": {},
   "source": [
    "### 6.4 Using `as` to Give a `Module` an Alias\n",
    "* `import module_name as mn`"
   ]
  },
  {
   "cell_type": "code",
   "execution_count": 29,
   "id": "6495e6dd",
   "metadata": {},
   "outputs": [
    {
     "name": "stdout",
     "output_type": "stream",
     "text": [
      "\n",
      "Making 16-inch pizza with the following toppings: \n",
      "- mushrooms\n",
      "- extra cheese\n",
      "- green peppers\n"
     ]
    }
   ],
   "source": [
    "import eight_chapter_module as ecm\n",
    "\n",
    "ecm.make_pizza(16, 'mushrooms', 'extra cheese', 'green peppers')"
   ]
  },
  {
   "cell_type": "markdown",
   "id": "877591a5",
   "metadata": {},
   "source": [
    "### 6.5 Importing All Functions in a Module\n",
    "* `from module_name import *`"
   ]
  },
  {
   "cell_type": "code",
   "execution_count": 30,
   "id": "22335fa0",
   "metadata": {},
   "outputs": [
    {
     "name": "stdout",
     "output_type": "stream",
     "text": [
      "\n",
      "Making 16-inch pizza with the following toppings: \n",
      "- pepperoni\n",
      "- mushrooms\n"
     ]
    }
   ],
   "source": [
    "from eight_chapter_module import *\n",
    "\n",
    "make_pizza(16, 'pepperoni', 'mushrooms')"
   ]
  },
  {
   "cell_type": "markdown",
   "id": "0b7df958",
   "metadata": {},
   "source": [
    "## 7. Styling Functions"
   ]
  },
  {
   "cell_type": "markdown",
   "id": "deaf7e67",
   "metadata": {},
   "source": [
    "* descriptive names: lowercase and underscores\n",
    "* default value: no spaces between an equal sign\n",
    "* the same for keyword arguments in function calls"
   ]
  }
 ],
 "metadata": {
  "kernelspec": {
   "display_name": "Python 3",
   "language": "python",
   "name": "python3"
  },
  "language_info": {
   "codemirror_mode": {
    "name": "ipython",
    "version": 3
   },
   "file_extension": ".py",
   "mimetype": "text/x-python",
   "name": "python",
   "nbconvert_exporter": "python",
   "pygments_lexer": "ipython3",
   "version": "3.8.8"
  }
 },
 "nbformat": 4,
 "nbformat_minor": 5
}
