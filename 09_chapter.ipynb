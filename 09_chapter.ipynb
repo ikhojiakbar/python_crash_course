{
 "cells": [
  {
   "cell_type": "markdown",
   "id": "b59fdee2",
   "metadata": {},
   "source": [
    "# Classes"
   ]
  },
  {
   "cell_type": "markdown",
   "id": "d1d32aee",
   "metadata": {},
   "source": [
    "## 1. Creating and Using a Class"
   ]
  },
  {
   "cell_type": "markdown",
   "id": "cba8133d",
   "metadata": {},
   "source": [
    "### 1.1 Creating the Dog Class\n",
    "* A function that’s part of a class is a method\n",
    "* attributes = variables in `__init__` = parameters\n",
    "* instance = a sample for a particular object outside class\n",
    "* `__init__` method is used in order to not to conflict with other methods we will create\n",
    "* Classes are general functions to all instances and attributes are differentiate elements from each other for that instances"
   ]
  },
  {
   "cell_type": "code",
   "execution_count": 1,
   "id": "ee1c8c35",
   "metadata": {},
   "outputs": [],
   "source": [
    "class Dog():\n",
    "    \"\"\"A simple attempt to model a dog.\"\"\"\n",
    "    \n",
    "    def __init__(self, name, age):\n",
    "        \"\"\"Initialize name and age attributes.\"\"\"\n",
    "        self.name = name\n",
    "        self.age = age\n",
    "        \n",
    "    def sit(self):\n",
    "        \"\"\"Simulate a dog sitting in response to a command.\"\"\"\n",
    "        print(self.name.title() + \" is now sitting.\")\n",
    "        \n",
    "    def roll_over(self):\n",
    "        \"\"\"Simulate rolling over in response to a command.\"\"\"\n",
    "        print(self.name.title() + \" rolled over!\")"
   ]
  },
  {
   "cell_type": "markdown",
   "id": "3b72bbaf",
   "metadata": {},
   "source": [
    "### 1.2 Making an Instance from a Class"
   ]
  },
  {
   "cell_type": "code",
   "execution_count": 2,
   "id": "43bfa79b",
   "metadata": {},
   "outputs": [
    {
     "name": "stdout",
     "output_type": "stream",
     "text": [
      "My dog's name is Willie.\n",
      "My dog is 6 years old.\n"
     ]
    }
   ],
   "source": [
    "class Dog():\n",
    "    def __init__(self, name, age):\n",
    "        self.name = name   \n",
    "        self.age = age\n",
    "        \n",
    "    def sit(self):\n",
    "        print(self.name.title() + ' is now sitting!')\n",
    "        \n",
    "    def roll_over(self):\n",
    "        print(self.name.title() + ' rolled over!')\n",
    "        \n",
    "my_dog = Dog('willie', 6)\n",
    "\n",
    "print('My dog\\'s name is ' + my_dog.name.title() + '.')\n",
    "print('My dog is ' + str(my_dog.age) + ' years old.')"
   ]
  },
  {
   "cell_type": "markdown",
   "id": "34fd332b",
   "metadata": {},
   "source": [
    "#### 1.2.1 Accessing Attributes"
   ]
  },
  {
   "cell_type": "code",
   "execution_count": 3,
   "id": "a6fd8b2b",
   "metadata": {},
   "outputs": [
    {
     "name": "stdout",
     "output_type": "stream",
     "text": [
      "willie\n",
      "6\n"
     ]
    }
   ],
   "source": [
    "print(my_dog.name)\n",
    "print(my_dog.age)"
   ]
  },
  {
   "cell_type": "markdown",
   "id": "73455ff3",
   "metadata": {},
   "source": [
    "#### 1.2.2 Calling Methods"
   ]
  },
  {
   "cell_type": "code",
   "execution_count": 4,
   "id": "b5a297af",
   "metadata": {},
   "outputs": [
    {
     "name": "stdout",
     "output_type": "stream",
     "text": [
      "Willie is now sitting!\n",
      "Willie rolled over!\n"
     ]
    }
   ],
   "source": [
    "class Dog():\n",
    "    def __init__(self, name, age):\n",
    "        self.name = name\n",
    "        self.age = age\n",
    "        \n",
    "    def sit(self):\n",
    "        print(self.name.title() + ' is now sitting!')\n",
    "        \n",
    "    def roll_over(self):\n",
    "        print(self.name.title() + ' rolled over!')\n",
    "        \n",
    "\n",
    "my_dog = Dog('willie', 6)\n",
    "\n",
    "my_dog.sit()\n",
    "my_dog.roll_over()"
   ]
  },
  {
   "cell_type": "markdown",
   "id": "aa16963b",
   "metadata": {},
   "source": [
    "#### 1.2.3 Creating Multiple Instances"
   ]
  },
  {
   "cell_type": "code",
   "execution_count": 5,
   "id": "5aedb6d9",
   "metadata": {},
   "outputs": [
    {
     "name": "stdout",
     "output_type": "stream",
     "text": [
      "My dog's name is Willie!\n",
      "My dog is 6 years old!\n",
      "Willie is now sitting!\n",
      "\n",
      "Your dog's name is Lucy!\n",
      "Your dog is 3 years old!\n",
      "Lucy is now sitting!\n"
     ]
    }
   ],
   "source": [
    "class Dog():\n",
    "    def __init__(self, name, age):\n",
    "        self.name = name\n",
    "        self.age = age\n",
    "        \n",
    "    def sit(self):\n",
    "        print(self.name.title() + ' is now sitting!')\n",
    "    \n",
    "    def roll_over(self):\n",
    "        print(self.name.title() + ' rolled over!')\n",
    "        \n",
    "\n",
    "my_dog = Dog('willie', 6)\n",
    "your_dog = Dog('lucy', 3)\n",
    "\n",
    "\n",
    "print('My dog\\'s name is ' + my_dog.name.title() + '!')\n",
    "print('My dog is ' + str(my_dog.age) + ' years old!')\n",
    "my_dog.sit()\n",
    "\n",
    "print('\\nYour dog\\'s name is ' + your_dog.name.title() + '!')\n",
    "print('Your dog is ' + str(your_dog.age) + ' years old!')\n",
    "your_dog.sit()"
   ]
  },
  {
   "cell_type": "markdown",
   "id": "56aaf2c4",
   "metadata": {},
   "source": [
    "## 2. Working with Classes and Instances"
   ]
  },
  {
   "cell_type": "markdown",
   "id": "9cebdd52",
   "metadata": {},
   "source": [
    "### 2.1 The Car Class"
   ]
  },
  {
   "cell_type": "code",
   "execution_count": 6,
   "id": "ea46e258",
   "metadata": {},
   "outputs": [
    {
     "name": "stdout",
     "output_type": "stream",
     "text": [
      "2016 Audi A4\n"
     ]
    }
   ],
   "source": [
    "class Car():\n",
    "    def __init__(self, make, model, year):\n",
    "        self.make = make\n",
    "        self.model = model\n",
    "        self.year = year\n",
    "        \n",
    "    def get_descriptive_name(self):\n",
    "        long_name = str(self.year) + ' ' + self.make + ' ' + self.model\n",
    "        return long_name.title()\n",
    "    \n",
    "my_new_car = Car('audi', 'a4', 2016)\n",
    "\n",
    "print(my_new_car.get_descriptive_name())"
   ]
  },
  {
   "cell_type": "markdown",
   "id": "a4808f84",
   "metadata": {},
   "source": [
    "### 2.2 Setting a Default Value for an Attribute"
   ]
  },
  {
   "cell_type": "code",
   "execution_count": 7,
   "id": "5d4c0eb8",
   "metadata": {},
   "outputs": [
    {
     "name": "stdout",
     "output_type": "stream",
     "text": [
      "2016 Audi A4\n",
      "This car has 0 miles on it!\n"
     ]
    }
   ],
   "source": [
    "class Car():\n",
    "    def __init__(self, make, model, year):\n",
    "        self.make = make\n",
    "        self.model = model\n",
    "        self.year = year\n",
    "        self.odometer_reading = 0   # if you not use attibute on __init__, you can't use it in instance, only internal\n",
    "        \n",
    "    def get_descriptive_name(self):\n",
    "        long_name = str(self.year) + ' ' + self.make + ' ' + self.model\n",
    "        return long_name.title()\n",
    "    \n",
    "    def read_odometer(self):\n",
    "        print('This car has ' + str(self.odometer_reading) + ' miles on it!')\n",
    "        \n",
    "        \n",
    "my_new_car = Car('audi', 'a4', 2016)\n",
    "\n",
    "print(my_new_car.get_descriptive_name())\n",
    "my_new_car.read_odometer()"
   ]
  },
  {
   "cell_type": "markdown",
   "id": "67764626",
   "metadata": {},
   "source": [
    "### 2.3 Modifying Attribute Values"
   ]
  },
  {
   "cell_type": "markdown",
   "id": "c8bf7030",
   "metadata": {},
   "source": [
    "#### 2.3.1 Modifying an Attribute’s Value Directly"
   ]
  },
  {
   "cell_type": "code",
   "execution_count": 8,
   "id": "147e52b2",
   "metadata": {},
   "outputs": [
    {
     "name": "stdout",
     "output_type": "stream",
     "text": [
      "2016 Audi A4\n",
      "2008 Audi A4\n",
      "This car has 25376 miles on it!\n"
     ]
    }
   ],
   "source": [
    "class Car():\n",
    "    def __init__(self, make, model, year):\n",
    "        self.make = make\n",
    "        self.model = model\n",
    "        self.year = year\n",
    "        self.odometer_reading = 0\n",
    "        \n",
    "    def get_descriptive_name(self):\n",
    "        long_name = str(self.year) + ' ' + self.make + ' ' + self.model\n",
    "        return long_name.title()\n",
    "    \n",
    "    def read_odometer(self):\n",
    "        print('This car has ' + str(self.odometer_reading) + ' miles on it!')\n",
    "        \n",
    "\n",
    "my_new_car = Car('audi', 'a4', 2016)\n",
    "print(my_new_car.get_descriptive_name())\n",
    "\n",
    "my_new_car.year = 2008\n",
    "my_new_car.odometer_reading = 25376\n",
    "\n",
    "print(my_new_car.get_descriptive_name())\n",
    "my_new_car.read_odometer()"
   ]
  },
  {
   "cell_type": "markdown",
   "id": "9b4167ee",
   "metadata": {},
   "source": [
    "#### 2.3.2 Modifying an Attribute’s Value Through a Method"
   ]
  },
  {
   "cell_type": "code",
   "execution_count": 9,
   "id": "ae3e4199",
   "metadata": {},
   "outputs": [
    {
     "name": "stdout",
     "output_type": "stream",
     "text": [
      "2016 Audi A4\n",
      "This car has 2784 miles on it!\n"
     ]
    }
   ],
   "source": [
    "class Car():\n",
    "    def __init__(self, make, model, year):\n",
    "        self.make = make\n",
    "        self.model = model\n",
    "        self.year = year\n",
    "        self.odometer_reading = 0\n",
    "        \n",
    "    def get_descriptive_name(self):\n",
    "        long_name = str(self.year) + ' ' + self.make + ' ' + self.model\n",
    "        return long_name.title()\n",
    "    \n",
    "    def read_odometer(self):\n",
    "        print('This car has ' + str(self.odometer_reading) + ' miles on it!')\n",
    "        \n",
    "    def update_odometer(self, mileage):\n",
    "        if mileage >= self.odometer_reading:\n",
    "            self.odometer_reading = mileage\n",
    "        else:\n",
    "            print('You cannot roll back an odometer!')\n",
    "        \n",
    "\n",
    "my_new_car = Car('audi', 'a4', 2016)\n",
    "print(my_new_car.get_descriptive_name())\n",
    "\n",
    "my_new_car.update_odometer(mileage=2784)\n",
    "my_new_car.read_odometer()"
   ]
  },
  {
   "cell_type": "markdown",
   "id": "9aadedf2",
   "metadata": {},
   "source": [
    "#### 2.3.3 Incrementing an Attribute’s Value Through a Method"
   ]
  },
  {
   "cell_type": "code",
   "execution_count": 10,
   "id": "eb4d8ab2",
   "metadata": {},
   "outputs": [
    {
     "name": "stdout",
     "output_type": "stream",
     "text": [
      "2013 Subaru Outback\n",
      "This car has 23500 miles on it!\n",
      "This car has 23600 miles on it!\n"
     ]
    }
   ],
   "source": [
    "class Car():\n",
    "    def __init__(self, make, model, year):\n",
    "        self.make = make\n",
    "        self.model = model\n",
    "        self.year = year\n",
    "        self.odometer_reading = 0\n",
    "        \n",
    "    def get_descriptive_name(self):\n",
    "        long_name = str(self.year) + ' ' + self.make + ' ' + self.model\n",
    "        return long_name.title()\n",
    "    \n",
    "    def read_odometer(self):\n",
    "        print('This car has ' + str(self.odometer_reading) + ' miles on it!') \n",
    "        \n",
    "    def update_odometer(self, mileage):\n",
    "        if mileage >= self.odometer_reading:\n",
    "            self.odometer_reading = mileage\n",
    "        else:\n",
    "            print('Yopu cannot roll back an odometer')\n",
    "    \n",
    "    def increment_odometer(self, miles):\n",
    "        self.odometer_reading += miles\n",
    "        \n",
    "    \n",
    "my_used_car = Car('subaru', 'outback', 2013)\n",
    "print(my_used_car.get_descriptive_name())\n",
    "\n",
    "my_used_car.update_odometer(mileage=23500)\n",
    "my_used_car.read_odometer()\n",
    "\n",
    "my_used_car.increment_odometer(miles=100)\n",
    "my_used_car.read_odometer()"
   ]
  },
  {
   "cell_type": "markdown",
   "id": "8dc69b41",
   "metadata": {},
   "source": [
    "## 3. Inheritance\n",
    "* The child class\n",
    "inherits every attribute and method from its parent class"
   ]
  },
  {
   "cell_type": "markdown",
   "id": "ac4c4958",
   "metadata": {},
   "source": [
    "### 3.1 The __init__() Method for a Child Class"
   ]
  },
  {
   "cell_type": "code",
   "execution_count": 11,
   "id": "7d1fd6d0",
   "metadata": {},
   "outputs": [
    {
     "name": "stdout",
     "output_type": "stream",
     "text": [
      "2021 Tesla Model S Plaid\n"
     ]
    }
   ],
   "source": [
    "class Car():\n",
    "    def __init__(self, make, model, year):\n",
    "        self.make = make\n",
    "        self.model = model\n",
    "        self.year = year\n",
    "        self.odometer_reading = 0\n",
    "        \n",
    "    def get_descriptive_name(self):\n",
    "        long_name = str(self.year) + ' ' + self.make + ' ' + self.model\n",
    "        return long_name.title()\n",
    "    \n",
    "    def read_odometer(self):\n",
    "        print('This car has ' + str(self.odometer_reading) + ' miles on it!')\n",
    "        \n",
    "    def update_odometer(self, mileage):\n",
    "        if mileage >= self.odometer_reading:\n",
    "            self.odometer_reading = mileage\n",
    "        else:\n",
    "            print('you cannot roll back an odometer!')\n",
    "    \n",
    "    def increment_odometer(self, miles):\n",
    "        self.odometer_reading += miles\n",
    "        \n",
    "\n",
    "class ElectricCar(Car):\n",
    "    def __init__(self, make, model, year):\n",
    "        super().__init__(make, model, year)     #inheritance of attributes from the parent\n",
    "        \n",
    "my_tesla = ElectricCar('tesla', 'model s plaid', 2021)\n",
    "print(my_tesla.get_descriptive_name())"
   ]
  },
  {
   "cell_type": "markdown",
   "id": "1a52e0ad",
   "metadata": {},
   "source": [
    "### 3.2 Defining Attributes and Methods for the Child Class"
   ]
  },
  {
   "cell_type": "code",
   "execution_count": 12,
   "id": "f5c46b7c",
   "metadata": {},
   "outputs": [
    {
     "name": "stdout",
     "output_type": "stream",
     "text": [
      "2021 Tesla Model S Plaid\n",
      "This car has 70-kWh battery!\n"
     ]
    }
   ],
   "source": [
    "class Car():\n",
    "    def __init__(self, make, model, year):\n",
    "        self.make = make\n",
    "        self.model = model\n",
    "        self.year = year\n",
    "        self.odometer_reading = 0\n",
    "        \n",
    "    def get_descriptive_name(self):\n",
    "        long_name = str(self.year) + ' ' + self.make + ' ' + self.model\n",
    "        return long_name.title()\n",
    "    \n",
    "    def read_odometer(self):\n",
    "        print('This car has ' + str(self.odometer_reading) + ' miles on it!')\n",
    "        \n",
    "    def update_odometer(self, mileage):\n",
    "        if mileage >= self.odometer_reading:\n",
    "            self.odometer_reading = mileage\n",
    "        else:\n",
    "            print('you cannot roll back an odometer!')\n",
    "    \n",
    "    def increment_odometer(self, miles):\n",
    "        self.odometer_reading += miles\n",
    "        \n",
    "        \n",
    "class ElectricCar(Car):\n",
    "    def __init__(self, make, model, year):\n",
    "        super().__init__(make, model, year)\n",
    "        self.battery_size = 70\n",
    "        \n",
    "    def describe_battery(self):\n",
    "        print('This car has ' + str(self.battery_size) + '-kWh battery!')\n",
    "\n",
    "        \n",
    "my_tesla = ElectricCar('tesla', 'model s plaid', 2021)\n",
    "print(my_tesla.get_descriptive_name())\n",
    "my_tesla.describe_battery()"
   ]
  },
  {
   "cell_type": "markdown",
   "id": "11f5569a",
   "metadata": {},
   "source": [
    "### 3.2 Overriding Methods from the Parent Class\n",
    "* Override the methods from the parent class: can disregard parent class method and use in child only\n"
   ]
  },
  {
   "cell_type": "markdown",
   "id": "23d9ea49",
   "metadata": {},
   "source": [
    "### 3.3 Instances as Attributes (classes as attributes)\n",
    "* Divide to subclasses if there is too much attributes and methods\n",
    "* It should not be a child class, just have a specific feature"
   ]
  },
  {
   "cell_type": "code",
   "execution_count": 13,
   "id": "7f355ac1",
   "metadata": {},
   "outputs": [
    {
     "name": "stdout",
     "output_type": "stream",
     "text": [
      "2021 Tesla Model S Plaid\n",
      "This car has a 70-kWh battery!\n",
      "This car can go approximately 240 miles on a full charge\n"
     ]
    }
   ],
   "source": [
    "class Car():\n",
    "    def __init__(self, make, model, year):\n",
    "        self.make = make\n",
    "        self.model = model\n",
    "        self.year = year\n",
    "        self.odometer_reading = 0\n",
    "        \n",
    "    def get_descriptive_name(self):\n",
    "        long_name = str(self.year) + ' ' + self.make + ' ' + self.model\n",
    "        return long_name.title()\n",
    "    \n",
    "    def read_odometer(self):\n",
    "        print('This car has ' + str(self.odometer_reading) + ' miles on it!')\n",
    "        \n",
    "    def update_odometer(self, mileage):\n",
    "        if mileage >= self.odometer_reading:\n",
    "            self.odometer_reading = mileage\n",
    "        else:\n",
    "            print('you cannot roll back an odometer!')\n",
    "    \n",
    "    def increment_odometer(self, miles):\n",
    "        self.odometer_reading += miles\n",
    "        \n",
    "        \n",
    "class Battery():\n",
    "    def __init__(self, battery_size=70):\n",
    "        self.battery_size = battery_size\n",
    "    \n",
    "    def describe_battery(self):\n",
    "        print('This car has a ' + str(self.battery_size) + '-kWh battery!')\n",
    "        \n",
    "    def get_range(self):\n",
    "        if self.battery_size == 70:\n",
    "            range = 240\n",
    "        elif self.battery_size == 85:\n",
    "            range = 270\n",
    "        \n",
    "        message = 'This car can go approximately ' + str(range) + ' miles on a full charge'\n",
    "        print(message)\n",
    "        \n",
    "\n",
    "class ElectricCar(Car):\n",
    "    def __init__(self, make, model, year):\n",
    "        super().__init__(make, model, year)\n",
    "        self.battery = Battery()\n",
    "        \n",
    "    \n",
    "my_tesla = ElectricCar('tesla', 'model s plaid', 2021)\n",
    "print(my_tesla.get_descriptive_name())\n",
    "\n",
    "my_tesla.battery.describe_battery()\n",
    "my_tesla.battery.get_range()"
   ]
  },
  {
   "cell_type": "markdown",
   "id": "52e6ea62",
   "metadata": {},
   "source": [
    "## 4. Importing Classes"
   ]
  },
  {
   "cell_type": "markdown",
   "id": "b37bac4f",
   "metadata": {},
   "source": [
    "### 4.1 Importing a Single Class"
   ]
  },
  {
   "cell_type": "code",
   "execution_count": 14,
   "id": "f5c01321",
   "metadata": {},
   "outputs": [
    {
     "name": "stdout",
     "output_type": "stream",
     "text": [
      "2014 Audi Rs 8\n",
      "This car has 43 miles on it!\n"
     ]
    }
   ],
   "source": [
    "from nine_chapter_module import Car\n",
    "\n",
    "my_new_car = Car('audi', 'rs 8', 2014)\n",
    "print(my_new_car.get_descriptive_name())\n",
    "\n",
    "my_new_car.odometer_reading = 43\n",
    "my_new_car.read_odometer()"
   ]
  },
  {
   "cell_type": "markdown",
   "id": "15d94198",
   "metadata": {},
   "source": [
    "### 4.2 Storing Multiple Classes in a Module"
   ]
  },
  {
   "cell_type": "code",
   "execution_count": 15,
   "id": "0bdb4370",
   "metadata": {},
   "outputs": [
    {
     "name": "stdout",
     "output_type": "stream",
     "text": [
      "2021 Tesla Model S Plaid\n",
      "This car has a 70-kWh battery!\n",
      "This car can go approximately 240 miles on a full charge\n"
     ]
    }
   ],
   "source": [
    "from nine_chapter_module import ElectricCar\n",
    "\n",
    "my_tesla = ElectricCar('tesla', 'model s plaid', 2021)\n",
    "print(my_tesla.get_descriptive_name())\n",
    "\n",
    "my_tesla.battery.describe_battery()\n",
    "my_tesla.battery.get_range()"
   ]
  },
  {
   "cell_type": "markdown",
   "id": "d9043a53",
   "metadata": {},
   "source": [
    "### 4.3 Importing Multiple Classes from a Module"
   ]
  },
  {
   "cell_type": "code",
   "execution_count": 16,
   "id": "e1e8081a",
   "metadata": {},
   "outputs": [
    {
     "name": "stdout",
     "output_type": "stream",
     "text": [
      "2016 Volkswagen Beetle\n",
      "2021 Tesla Models S Plaid\n"
     ]
    }
   ],
   "source": [
    "from nine_chapter_module import Car, ElectricCar\n",
    "\n",
    "my_beetle = Car('volkswagen', 'beetle', 2016)\n",
    "my_tesla = ElectricCar('tesla', 'models s plaid', 2021)\n",
    "\n",
    "print(my_beetle.get_descriptive_name())\n",
    "print(my_tesla.get_descriptive_name())"
   ]
  },
  {
   "cell_type": "markdown",
   "id": "6d7a54dd",
   "metadata": {},
   "source": [
    "### 4.4 Importing an Entire Module"
   ]
  },
  {
   "cell_type": "code",
   "execution_count": 17,
   "id": "8913d94a",
   "metadata": {},
   "outputs": [
    {
     "name": "stdout",
     "output_type": "stream",
     "text": [
      "2016 Volkswagen Beetle\n",
      "2021 Tesla Model S Plaid\n"
     ]
    }
   ],
   "source": [
    "import nine_chapter_module\n",
    "\n",
    "my_beetle = nine_chapter_module.Car('volkswagen', 'beetle', 2016)\n",
    "my_tesla = nine_chapter_module.ElectricCar('tesla', 'model s plaid', 2021)\n",
    "\n",
    "print(my_beetle.get_descriptive_name())\n",
    "print(my_tesla.get_descriptive_name())"
   ]
  },
  {
   "cell_type": "markdown",
   "id": "b5b724fb",
   "metadata": {},
   "source": [
    "### 4.5 Importing All Classes from a Module\n",
    "* from module_name import *"
   ]
  },
  {
   "cell_type": "markdown",
   "id": "0150f560",
   "metadata": {},
   "source": [
    "### 4.6 Importing a Module into a Module\n",
    "* Saving Car class in a separate file from Battery and ElectricCar\n",
    "* Then, in order to use child class ElectricCar => import Car class\n",
    "* Finally,import those 2 classes in the new module => overall 3 modules linkedlist"
   ]
  },
  {
   "cell_type": "markdown",
   "id": "84dc201b",
   "metadata": {},
   "source": [
    "## 5. The Python Standard Library"
   ]
  },
  {
   "cell_type": "markdown",
   "id": "70343357",
   "metadata": {},
   "source": [
    "* keeping dictionary key-value pair in chronogical order via standard library"
   ]
  },
  {
   "cell_type": "code",
   "execution_count": 18,
   "id": "8a38e5d6",
   "metadata": {},
   "outputs": [
    {
     "name": "stdout",
     "output_type": "stream",
     "text": [
      "Jen's favourite languages is Python!\n",
      "Sarah's favourite languages is C!\n",
      "Edward's favourite languages is Ruby!\n",
      "Phil's favourite languages is Python!\n"
     ]
    }
   ],
   "source": [
    "from collections import OrderedDict\n",
    "\n",
    "favourite_languages = OrderedDict()\n",
    "\n",
    "favourite_languages['jen'] = 'python'\n",
    "favourite_languages['sarah'] = 'c'\n",
    "favourite_languages['edward'] = 'ruby'\n",
    "favourite_languages['phil'] = 'python'\n",
    "\n",
    "for name, language in favourite_languages.items():\n",
    "    print(name.title() + '\\'s favourite languages is ' + language.title() + '!')"
   ]
  },
  {
   "cell_type": "markdown",
   "id": "166ad8a3",
   "metadata": {},
   "source": [
    "## 6. Styling Classes\n",
    "* CamelCaps"
   ]
  }
 ],
 "metadata": {
  "kernelspec": {
   "display_name": "Python 3",
   "language": "python",
   "name": "python3"
  },
  "language_info": {
   "codemirror_mode": {
    "name": "ipython",
    "version": 3
   },
   "file_extension": ".py",
   "mimetype": "text/x-python",
   "name": "python",
   "nbconvert_exporter": "python",
   "pygments_lexer": "ipython3",
   "version": "3.8.8"
  }
 },
 "nbformat": 4,
 "nbformat_minor": 5
}
