{
 "cells": [
  {
   "cell_type": "markdown",
   "id": "71b95fd9",
   "metadata": {},
   "source": [
    "# Variables and simple Data Types"
   ]
  },
  {
   "cell_type": "markdown",
   "id": "3829dfa0",
   "metadata": {},
   "source": [
    "## 1. Variables"
   ]
  },
  {
   "cell_type": "code",
   "execution_count": 1,
   "id": "47280432",
   "metadata": {},
   "outputs": [
    {
     "name": "stdout",
     "output_type": "stream",
     "text": [
      "Hello, Python world1\n"
     ]
    }
   ],
   "source": [
    "message = 'Hello, Python world1'\n",
    "print(message)"
   ]
  },
  {
   "cell_type": "code",
   "execution_count": 2,
   "id": "2b61f812",
   "metadata": {},
   "outputs": [
    {
     "name": "stdout",
     "output_type": "stream",
     "text": [
      "Hello, Python world!\n",
      "Hello, Python Crash Coure World!\n"
     ]
    }
   ],
   "source": [
    "message = 'Hello, Python world!'\n",
    "print(message)\n",
    "\n",
    "message = 'Hello, Python Crash Coure World!'\n",
    "print(message)"
   ]
  },
  {
   "cell_type": "markdown",
   "id": "bf003ddb",
   "metadata": {},
   "source": [
    "### 1.1 Naming and Using Variables"
   ]
  },
  {
   "cell_type": "markdown",
   "id": "37fbae45",
   "metadata": {},
   "source": [
    "### 1.2 Avoiding Name Errors When Using Variables"
   ]
  },
  {
   "cell_type": "code",
   "execution_count": 3,
   "id": "edd41171",
   "metadata": {},
   "outputs": [
    {
     "ename": "NameError",
     "evalue": "name 'mesage' is not defined",
     "output_type": "error",
     "traceback": [
      "\u001b[1;31m---------------------------------------------------------------------------\u001b[0m",
      "\u001b[1;31mNameError\u001b[0m                                 Traceback (most recent call last)",
      "\u001b[1;32m<ipython-input-3-3c367e39372d>\u001b[0m in \u001b[0;36m<module>\u001b[1;34m\u001b[0m\n\u001b[0;32m      1\u001b[0m \u001b[1;31m#NameError\u001b[0m\u001b[1;33m\u001b[0m\u001b[1;33m\u001b[0m\u001b[1;33m\u001b[0m\u001b[0m\n\u001b[0;32m      2\u001b[0m \u001b[0mmessage\u001b[0m \u001b[1;33m=\u001b[0m \u001b[1;34m'Hello, Python world'\u001b[0m\u001b[1;33m\u001b[0m\u001b[1;33m\u001b[0m\u001b[0m\n\u001b[1;32m----> 3\u001b[1;33m \u001b[0mprint\u001b[0m\u001b[1;33m(\u001b[0m\u001b[0mmesage\u001b[0m\u001b[1;33m)\u001b[0m\u001b[1;33m\u001b[0m\u001b[1;33m\u001b[0m\u001b[0m\n\u001b[0m",
      "\u001b[1;31mNameError\u001b[0m: name 'mesage' is not defined"
     ]
    }
   ],
   "source": [
    "#NameError\n",
    "message = 'Hello, Python world'\n",
    "print(mesage)"
   ]
  },
  {
   "cell_type": "code",
   "execution_count": 4,
   "id": "cf4ee9b7",
   "metadata": {},
   "outputs": [
    {
     "name": "stdout",
     "output_type": "stream",
     "text": [
      "Hello, Python\n"
     ]
    }
   ],
   "source": [
    "mesage = 'Hello, Python'\n",
    "print(mesage)"
   ]
  },
  {
   "cell_type": "markdown",
   "id": "06397862",
   "metadata": {},
   "source": [
    "### Exercises"
   ]
  },
  {
   "cell_type": "code",
   "execution_count": 5,
   "id": "20c7b268",
   "metadata": {},
   "outputs": [
    {
     "name": "stdout",
     "output_type": "stream",
     "text": [
      "Hello, KHOJIAKBAR\n"
     ]
    }
   ],
   "source": [
    "# 1-1\n",
    "message = 'Hello, KHOJIAKBAR'\n",
    "print(message)"
   ]
  },
  {
   "cell_type": "code",
   "execution_count": 6,
   "id": "4085ca67",
   "metadata": {},
   "outputs": [
    {
     "name": "stdout",
     "output_type": "stream",
     "text": [
      "Hello, KHOJIAKBAR!\n",
      "Hello, World!\n"
     ]
    }
   ],
   "source": [
    "# 1-2\n",
    "greeting = 'Hello, KHOJIAKBAR!'\n",
    "print(greeting)\n",
    "\n",
    "greeting = 'Hello, World!'\n",
    "print(greeting)"
   ]
  },
  {
   "cell_type": "markdown",
   "id": "8145fa73",
   "metadata": {},
   "source": [
    "## 2. Strings"
   ]
  },
  {
   "cell_type": "markdown",
   "id": "60cf56c3",
   "metadata": {},
   "source": [
    "### 2.1 Changing Case in a String with Methods"
   ]
  },
  {
   "cell_type": "code",
   "execution_count": 7,
   "id": "9133192c",
   "metadata": {},
   "outputs": [
    {
     "name": "stdout",
     "output_type": "stream",
     "text": [
      "Ada Lovelace\n"
     ]
    }
   ],
   "source": [
    "name = 'ada lovelace'\n",
    "print(name.title())"
   ]
  },
  {
   "cell_type": "code",
   "execution_count": 8,
   "id": "7559b8de",
   "metadata": {},
   "outputs": [
    {
     "name": "stdout",
     "output_type": "stream",
     "text": [
      "ADA LOVELACE\n",
      "ada lovelace\n"
     ]
    }
   ],
   "source": [
    "name = 'Ada Lovelace'\n",
    "print(name.upper())\n",
    "print(name.lower())"
   ]
  },
  {
   "cell_type": "markdown",
   "id": "5c9a2c37",
   "metadata": {},
   "source": [
    "### 2.2 Combining or Concatenating Strings"
   ]
  },
  {
   "cell_type": "code",
   "execution_count": 9,
   "id": "42956a81",
   "metadata": {},
   "outputs": [
    {
     "name": "stdout",
     "output_type": "stream",
     "text": [
      "Ada Lovelace\n",
      "Hello, Ada Lovelace!\n"
     ]
    }
   ],
   "source": [
    "first_name = 'ada'\n",
    "last_name = 'lovelace'\n",
    "full_name = first_name + ' ' + last_name\n",
    "print(full_name.title())\n",
    "\n",
    "greeting = 'Hello, ' + full_name.title() + '!'\n",
    "print(greeting)"
   ]
  },
  {
   "cell_type": "markdown",
   "id": "c3d9ef42",
   "metadata": {},
   "source": [
    "### 2.3 Adding Whitespace to Strings with Tabs or Newlines"
   ]
  },
  {
   "cell_type": "code",
   "execution_count": 10,
   "id": "30d8336f",
   "metadata": {},
   "outputs": [
    {
     "name": "stdout",
     "output_type": "stream",
     "text": [
      "Python\n",
      "\tPython\n"
     ]
    }
   ],
   "source": [
    "print('Python')\n",
    "print('\\tPython')"
   ]
  },
  {
   "cell_type": "code",
   "execution_count": 11,
   "id": "a775e9dc",
   "metadata": {},
   "outputs": [
    {
     "name": "stdout",
     "output_type": "stream",
     "text": [
      "Languages:\n",
      "Python\n",
      "C\n",
      "JavaScript\n"
     ]
    }
   ],
   "source": [
    "print('Languages:\\nPython\\nC\\nJavaScript')"
   ]
  },
  {
   "cell_type": "code",
   "execution_count": 12,
   "id": "0d421e54",
   "metadata": {},
   "outputs": [
    {
     "name": "stdout",
     "output_type": "stream",
     "text": [
      "Languages:\n",
      "\tPython\n",
      "\tC\n",
      "\tJavaScript\n"
     ]
    }
   ],
   "source": [
    "print('Languages:\\n\\tPython\\n\\tC\\n\\tJavaScript')"
   ]
  },
  {
   "cell_type": "markdown",
   "id": "89b4de9c",
   "metadata": {},
   "source": [
    "### 2.4 Stripping Whitespace"
   ]
  },
  {
   "cell_type": "code",
   "execution_count": 13,
   "id": "719d96fc",
   "metadata": {},
   "outputs": [
    {
     "name": "stdout",
     "output_type": "stream",
     "text": [
      "python \n",
      "python\n",
      "python \n"
     ]
    }
   ],
   "source": [
    "favourite_language = 'python '\n",
    "print(favourite_language)\n",
    "print(favourite_language.rstrip())  #temporarily\n",
    "print(favourite_language)"
   ]
  },
  {
   "cell_type": "code",
   "execution_count": 14,
   "id": "85144e4f",
   "metadata": {},
   "outputs": [
    {
     "name": "stdout",
     "output_type": "stream",
     "text": [
      "python\n"
     ]
    }
   ],
   "source": [
    "favourite_language = 'python '\n",
    "favourite_language = favourite_language.rstrip()\n",
    "print(favourite_language)"
   ]
  },
  {
   "cell_type": "code",
   "execution_count": 15,
   "id": "5613d026",
   "metadata": {},
   "outputs": [
    {
     "name": "stdout",
     "output_type": "stream",
     "text": [
      " khojiakbar\n",
      "khojiakbar \n",
      "khojiakbar\n"
     ]
    }
   ],
   "source": [
    "name = ' khojiakbar '\n",
    "print(name.rstrip())\n",
    "print(name.lstrip())\n",
    "print(name.strip())"
   ]
  },
  {
   "cell_type": "markdown",
   "id": "33ffa63d",
   "metadata": {},
   "source": [
    "### 2.5 Avoiding Syntax Errors with Strings"
   ]
  },
  {
   "cell_type": "code",
   "execution_count": 16,
   "id": "cdf16503",
   "metadata": {},
   "outputs": [
    {
     "name": "stdout",
     "output_type": "stream",
     "text": [
      "One of the Python's strength is its diverse community.\n"
     ]
    }
   ],
   "source": [
    "message = \"One of the Python's strength is its diverse community.\"\n",
    "print(message)"
   ]
  },
  {
   "cell_type": "code",
   "execution_count": 17,
   "id": "557bc513",
   "metadata": {},
   "outputs": [
    {
     "ename": "SyntaxError",
     "evalue": "invalid syntax (<ipython-input-17-afa92fb71c5e>, line 2)",
     "output_type": "error",
     "traceback": [
      "\u001b[1;36m  File \u001b[1;32m\"<ipython-input-17-afa92fb71c5e>\"\u001b[1;36m, line \u001b[1;32m2\u001b[0m\n\u001b[1;33m    message = 'One of the Python's strength is its diverse community'\u001b[0m\n\u001b[1;37m                                 ^\u001b[0m\n\u001b[1;31mSyntaxError\u001b[0m\u001b[1;31m:\u001b[0m invalid syntax\n"
     ]
    }
   ],
   "source": [
    "#SyntaxError\n",
    "message = 'One of the Python's strength is its diverse community'\n",
    "print(message)"
   ]
  },
  {
   "cell_type": "markdown",
   "id": "b4d11886",
   "metadata": {},
   "source": [
    "### Exercises"
   ]
  },
  {
   "cell_type": "code",
   "execution_count": 18,
   "id": "8dfd9594",
   "metadata": {},
   "outputs": [
    {
     "name": "stdout",
     "output_type": "stream",
     "text": [
      "Hello, KHOJIAKBAR, would you like to learn some Python today?\n"
     ]
    }
   ],
   "source": [
    "# 2-1\n",
    "message = 'Hello, KHOJIAKBAR, would you like to learn some Python today?'\n",
    "print(message)"
   ]
  },
  {
   "cell_type": "code",
   "execution_count": 19,
   "id": "a7d1e4fe",
   "metadata": {},
   "outputs": [
    {
     "name": "stdout",
     "output_type": "stream",
     "text": [
      "khojiakbar\n",
      "Khojiakbar\n",
      "KHOJIAKBAR\n"
     ]
    }
   ],
   "source": [
    "# 2-2\n",
    "name = 'khojiakbar'\n",
    "print(name.lower())\n",
    "print(name.title())\n",
    "print(name.upper())"
   ]
  },
  {
   "cell_type": "code",
   "execution_count": 20,
   "id": "d18fac06",
   "metadata": {},
   "outputs": [
    {
     "name": "stdout",
     "output_type": "stream",
     "text": [
      "Albert Einstein once said, “A person who never made a mistake never tried anything new.”\n"
     ]
    }
   ],
   "source": [
    "# 2-3\n",
    "message = 'Albert Einstein once said, “A person who never made a mistake never tried anything new.”'\n",
    "print(message)"
   ]
  },
  {
   "cell_type": "code",
   "execution_count": 21,
   "id": "2427f6d8",
   "metadata": {},
   "outputs": [
    {
     "name": "stdout",
     "output_type": "stream",
     "text": [
      "KHOJIAKBAR\n"
     ]
    }
   ],
   "source": [
    "# 2-4\n",
    "name = '\\n\\t     KHOJIAKBAR  '\n",
    "print(name.strip())"
   ]
  },
  {
   "cell_type": "markdown",
   "id": "a882e0e1",
   "metadata": {},
   "source": [
    "## 3. Numbers"
   ]
  },
  {
   "cell_type": "markdown",
   "id": "d6afb9f9",
   "metadata": {},
   "source": [
    "### 3.1 Integers"
   ]
  },
  {
   "cell_type": "code",
   "execution_count": 22,
   "id": "b3b84009",
   "metadata": {},
   "outputs": [
    {
     "name": "stdout",
     "output_type": "stream",
     "text": [
      "5\n",
      "5\n",
      "18\n",
      "3.0\n",
      "3\n",
      "0\n",
      "729\n"
     ]
    }
   ],
   "source": [
    "print(2+3)\n",
    "print(9-4)\n",
    "print(6*3)\n",
    "print(15/5)\n",
    "print(15//5)\n",
    "print(15%5)\n",
    "print(9**3)"
   ]
  },
  {
   "cell_type": "code",
   "execution_count": 23,
   "id": "99a8d86f",
   "metadata": {},
   "outputs": [
    {
     "name": "stdout",
     "output_type": "stream",
     "text": [
      "24\n",
      "74\n"
     ]
    }
   ],
   "source": [
    "print(2*(3+9))\n",
    "print(2+9*8)"
   ]
  },
  {
   "cell_type": "markdown",
   "id": "597d6bcb",
   "metadata": {},
   "source": [
    "### 3.2 Floats"
   ]
  },
  {
   "cell_type": "code",
   "execution_count": 24,
   "id": "7ad53a4e",
   "metadata": {},
   "outputs": [
    {
     "name": "stdout",
     "output_type": "stream",
     "text": [
      "0.4\n",
      "0.2\n",
      "0.30000000000000004\n"
     ]
    }
   ],
   "source": [
    "print(0.2+0.2)\n",
    "print(2*0.1)\n",
    "print(0.1+0.2)"
   ]
  },
  {
   "cell_type": "markdown",
   "id": "87e21e3a",
   "metadata": {},
   "source": [
    "### 3.3 Avoiding Type Errors with the str() Function"
   ]
  },
  {
   "cell_type": "code",
   "execution_count": 25,
   "id": "2cf1b0b0",
   "metadata": {},
   "outputs": [
    {
     "ename": "TypeError",
     "evalue": "can only concatenate str (not \"int\") to str",
     "output_type": "error",
     "traceback": [
      "\u001b[1;31m---------------------------------------------------------------------------\u001b[0m",
      "\u001b[1;31mTypeError\u001b[0m                                 Traceback (most recent call last)",
      "\u001b[1;32m<ipython-input-25-e2d647835b78>\u001b[0m in \u001b[0;36m<module>\u001b[1;34m\u001b[0m\n\u001b[0;32m      1\u001b[0m \u001b[1;31m#TypeError\u001b[0m\u001b[1;33m\u001b[0m\u001b[1;33m\u001b[0m\u001b[1;33m\u001b[0m\u001b[0m\n\u001b[0;32m      2\u001b[0m \u001b[0mage\u001b[0m \u001b[1;33m=\u001b[0m \u001b[1;36m21\u001b[0m\u001b[1;33m\u001b[0m\u001b[1;33m\u001b[0m\u001b[0m\n\u001b[1;32m----> 3\u001b[1;33m \u001b[0mmessage\u001b[0m \u001b[1;33m=\u001b[0m \u001b[1;34m'Happy, '\u001b[0m \u001b[1;33m+\u001b[0m \u001b[0mage\u001b[0m \u001b[1;33m+\u001b[0m \u001b[1;34m'st birthday!'\u001b[0m\u001b[1;33m\u001b[0m\u001b[1;33m\u001b[0m\u001b[0m\n\u001b[0m\u001b[0;32m      4\u001b[0m \u001b[0mprint\u001b[0m\u001b[1;33m(\u001b[0m\u001b[0mmessage\u001b[0m\u001b[1;33m)\u001b[0m\u001b[1;33m\u001b[0m\u001b[1;33m\u001b[0m\u001b[0m\n",
      "\u001b[1;31mTypeError\u001b[0m: can only concatenate str (not \"int\") to str"
     ]
    }
   ],
   "source": [
    "#TypeError\n",
    "age = 21\n",
    "message = 'Happy, ' + age + 'st birthday!'\n",
    "print(message)"
   ]
  },
  {
   "cell_type": "code",
   "execution_count": 26,
   "id": "43f0adc6",
   "metadata": {},
   "outputs": [
    {
     "name": "stdout",
     "output_type": "stream",
     "text": [
      "Happy, 21st birthday!\n"
     ]
    }
   ],
   "source": [
    "age = 21\n",
    "message = 'Happy, ' + str(age) + 'st birthday!'\n",
    "print(message)"
   ]
  },
  {
   "cell_type": "markdown",
   "id": "a1a0765e",
   "metadata": {},
   "source": [
    "### Exercises"
   ]
  },
  {
   "cell_type": "code",
   "execution_count": 27,
   "id": "3dcd26c4",
   "metadata": {},
   "outputs": [
    {
     "name": "stdout",
     "output_type": "stream",
     "text": [
      "8\n",
      "8\n",
      "8\n",
      "8\n"
     ]
    }
   ],
   "source": [
    "# 3-1\n",
    "print(6+2)\n",
    "print(11-3)\n",
    "print(4*2)\n",
    "print(40//5)\n"
   ]
  },
  {
   "cell_type": "code",
   "execution_count": 28,
   "id": "b487a3e5",
   "metadata": {},
   "outputs": [
    {
     "name": "stdout",
     "output_type": "stream",
     "text": [
      "My favourite number is 7!\n"
     ]
    }
   ],
   "source": [
    "# 3-2\n",
    "number = 7\n",
    "message = 'My favourite number is ' + str(number) + '!'\n",
    "print(message)"
   ]
  },
  {
   "cell_type": "markdown",
   "id": "ad774cae",
   "metadata": {},
   "source": [
    "## 4. Comments"
   ]
  },
  {
   "cell_type": "markdown",
   "id": "20b3126c",
   "metadata": {},
   "source": [
    "### 4.1 How Do You Write Comments?"
   ]
  },
  {
   "cell_type": "code",
   "execution_count": 29,
   "id": "f965ace2",
   "metadata": {},
   "outputs": [
    {
     "name": "stdout",
     "output_type": "stream",
     "text": [
      "My comments!\n"
     ]
    }
   ],
   "source": [
    "# Write your comments here\n",
    "print('My comments!')"
   ]
  },
  {
   "cell_type": "markdown",
   "id": "7597ddc0",
   "metadata": {},
   "source": [
    "## 5. The Zen of Python"
   ]
  },
  {
   "cell_type": "code",
   "execution_count": 30,
   "id": "742a9e78",
   "metadata": {},
   "outputs": [
    {
     "name": "stdout",
     "output_type": "stream",
     "text": [
      "The Zen of Python, by Tim Peters\n",
      "\n",
      "Beautiful is better than ugly.\n",
      "Explicit is better than implicit.\n",
      "Simple is better than complex.\n",
      "Complex is better than complicated.\n",
      "Flat is better than nested.\n",
      "Sparse is better than dense.\n",
      "Readability counts.\n",
      "Special cases aren't special enough to break the rules.\n",
      "Although practicality beats purity.\n",
      "Errors should never pass silently.\n",
      "Unless explicitly silenced.\n",
      "In the face of ambiguity, refuse the temptation to guess.\n",
      "There should be one-- and preferably only one --obvious way to do it.\n",
      "Although that way may not be obvious at first unless you're Dutch.\n",
      "Now is better than never.\n",
      "Although never is often better than *right* now.\n",
      "If the implementation is hard to explain, it's a bad idea.\n",
      "If the implementation is easy to explain, it may be a good idea.\n",
      "Namespaces are one honking great idea -- let's do more of those!\n"
     ]
    }
   ],
   "source": [
    "import this"
   ]
  }
 ],
 "metadata": {
  "kernelspec": {
   "display_name": "Python 3",
   "language": "python",
   "name": "python3"
  },
  "language_info": {
   "codemirror_mode": {
    "name": "ipython",
    "version": 3
   },
   "file_extension": ".py",
   "mimetype": "text/x-python",
   "name": "python",
   "nbconvert_exporter": "python",
   "pygments_lexer": "ipython3",
   "version": "3.8.8"
  }
 },
 "nbformat": 4,
 "nbformat_minor": 5
}
