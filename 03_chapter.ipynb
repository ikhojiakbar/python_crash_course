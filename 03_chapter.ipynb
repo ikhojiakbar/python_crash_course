{
 "cells": [
  {
   "cell_type": "markdown",
   "id": "a04e8064",
   "metadata": {},
   "source": [
    "# Introducing Lists"
   ]
  },
  {
   "cell_type": "markdown",
   "id": "3f6a5040",
   "metadata": {},
   "source": [
    "## 1. What Is a List?"
   ]
  },
  {
   "cell_type": "code",
   "execution_count": 1,
   "id": "5959f468",
   "metadata": {},
   "outputs": [
    {
     "name": "stdout",
     "output_type": "stream",
     "text": [
      "['trek', 'cannondale', 'redline', 'specialized']\n"
     ]
    }
   ],
   "source": [
    "bicycles = ['trek', 'cannondale', 'redline', 'specialized']\n",
    "print(bicycles)"
   ]
  },
  {
   "cell_type": "markdown",
   "id": "b1c07d98",
   "metadata": {},
   "source": [
    "### 1.1 Accessing Elements in a List"
   ]
  },
  {
   "cell_type": "code",
   "execution_count": 2,
   "id": "87e21328",
   "metadata": {},
   "outputs": [
    {
     "name": "stdout",
     "output_type": "stream",
     "text": [
      "trek\n"
     ]
    }
   ],
   "source": [
    "bicycles = ['trek', 'cannondale', 'redline', 'specialized']\n",
    "print(bicycles[0])"
   ]
  },
  {
   "cell_type": "markdown",
   "id": "2ab7dedd",
   "metadata": {},
   "source": [
    "### 1.2 Index Positions Start at 0, Not 1"
   ]
  },
  {
   "cell_type": "code",
   "execution_count": 3,
   "id": "af460f85",
   "metadata": {},
   "outputs": [
    {
     "name": "stdout",
     "output_type": "stream",
     "text": [
      "cannondale\n",
      "specialized\n",
      "specialized\n"
     ]
    }
   ],
   "source": [
    "bicycles = ['trek', 'cannondale', 'redline', 'specialized']\n",
    "print(bicycles[1])\n",
    "print(bicycles[3])\n",
    "print(bicycles[-1])"
   ]
  },
  {
   "cell_type": "markdown",
   "id": "41400d45",
   "metadata": {},
   "source": [
    "### 1.3 Using Individual Values from a List"
   ]
  },
  {
   "cell_type": "code",
   "execution_count": 4,
   "id": "c9400912",
   "metadata": {},
   "outputs": [
    {
     "name": "stdout",
     "output_type": "stream",
     "text": [
      "My first bicycles was a Trek.\n"
     ]
    }
   ],
   "source": [
    "bicycles = ['trek', 'cannondale', 'redline', 'specialized']\n",
    "message = 'My first bicycles was a ' + bicycles[0].title() + '.'\n",
    "print(message)"
   ]
  },
  {
   "cell_type": "markdown",
   "id": "d585bbb8",
   "metadata": {},
   "source": [
    "### Exercises"
   ]
  },
  {
   "cell_type": "code",
   "execution_count": 5,
   "id": "47cc6945",
   "metadata": {},
   "outputs": [
    {
     "name": "stdout",
     "output_type": "stream",
     "text": [
      "Ali\n",
      "VALI\n",
      "Anvar\n"
     ]
    }
   ],
   "source": [
    "#1-1\n",
    "names = ['ali', 'vali', 'anvar']\n",
    "print(names[0].title())\n",
    "print(names[1].upper())\n",
    "print(names[-1].title())"
   ]
  },
  {
   "cell_type": "code",
   "execution_count": 6,
   "id": "73cc3cff",
   "metadata": {},
   "outputs": [
    {
     "name": "stdout",
     "output_type": "stream",
     "text": [
      "Hello, Vali!\n"
     ]
    }
   ],
   "source": [
    "#1-2\n",
    "names = ['ali', 'vali', 'anvar']\n",
    "message = 'Hello, ' + names[-2].title() + '!'\n",
    "print(message)"
   ]
  },
  {
   "cell_type": "code",
   "execution_count": 7,
   "id": "218a6698",
   "metadata": {},
   "outputs": [
    {
     "name": "stdout",
     "output_type": "stream",
     "text": [
      "I would like to own a Toyota!\n"
     ]
    }
   ],
   "source": [
    "#1-3\n",
    "cars = ['tesla', 'toyota', 'hyundai', 'audi']\n",
    "print('I would like to own a ' + cars[-3].title() + '!')"
   ]
  },
  {
   "cell_type": "markdown",
   "id": "9e705cc5",
   "metadata": {},
   "source": [
    "## 2. Changing, Adding, and Removing Elements"
   ]
  },
  {
   "cell_type": "markdown",
   "id": "1eafdbf5",
   "metadata": {},
   "source": [
    "### 2.1 Modifying Elements in a List"
   ]
  },
  {
   "cell_type": "code",
   "execution_count": 8,
   "id": "94296faa",
   "metadata": {},
   "outputs": [
    {
     "name": "stdout",
     "output_type": "stream",
     "text": [
      "['honda', 'yamaha', 'suzuki']\n",
      "['ducati', 'yamaha', 'suzuki']\n"
     ]
    }
   ],
   "source": [
    "motorcycles = ['honda', 'yamaha', 'suzuki']\n",
    "print(motorcycles)\n",
    "\n",
    "motorcycles[0] = 'ducati'\n",
    "print(motorcycles)"
   ]
  },
  {
   "cell_type": "markdown",
   "id": "263cc008",
   "metadata": {},
   "source": [
    "### 2.2 Adding Elements to a List"
   ]
  },
  {
   "cell_type": "markdown",
   "id": "7e6fb5b0",
   "metadata": {},
   "source": [
    "#### 2.2.1 Appending Elements to the End of a List\n"
   ]
  },
  {
   "cell_type": "code",
   "execution_count": 9,
   "id": "7ba828ea",
   "metadata": {},
   "outputs": [
    {
     "name": "stdout",
     "output_type": "stream",
     "text": [
      "['honda', 'yamaha', 'suzuki', 'ducati']\n"
     ]
    }
   ],
   "source": [
    "motorcycles = ['honda', 'yamaha', 'suzuki']\n",
    "motorcycles.append('ducati')\n",
    "print(motorcycles)"
   ]
  },
  {
   "cell_type": "code",
   "execution_count": 10,
   "id": "9ddd47af",
   "metadata": {},
   "outputs": [
    {
     "name": "stdout",
     "output_type": "stream",
     "text": [
      "['honda', 'yamaha', 'suzuki']\n"
     ]
    }
   ],
   "source": [
    "motorcycles = []\n",
    "\n",
    "motorcycles.append('honda')\n",
    "motorcycles.append('yamaha')\n",
    "motorcycles.append('suzuki') \n",
    "\n",
    "print(motorcycles)"
   ]
  },
  {
   "cell_type": "markdown",
   "id": "5475bade",
   "metadata": {},
   "source": [
    "#### 2.2.2 Inserting Elements into a List"
   ]
  },
  {
   "cell_type": "code",
   "execution_count": 11,
   "id": "933831e2",
   "metadata": {},
   "outputs": [
    {
     "name": "stdout",
     "output_type": "stream",
     "text": [
      "['honda', 'bmw', 'yamaha', 'suzuki']\n"
     ]
    }
   ],
   "source": [
    "motorcycles = ['honda', 'yamaha', 'suzuki']\n",
    "motorcycles.insert(-2, 'bmw')  #insert moves to the right hand\n",
    "print(motorcycles)"
   ]
  },
  {
   "cell_type": "markdown",
   "id": "46e32475",
   "metadata": {},
   "source": [
    "### 2.3 Removing Elements from a List\n"
   ]
  },
  {
   "cell_type": "markdown",
   "id": "046f13e7",
   "metadata": {},
   "source": [
    "#### 2.3.1 Removing an Item Using the del Statement"
   ]
  },
  {
   "cell_type": "code",
   "execution_count": 12,
   "id": "512fbe51",
   "metadata": {},
   "outputs": [
    {
     "name": "stdout",
     "output_type": "stream",
     "text": [
      "['honda', 'yamaha', 'suzuki']\n",
      "['honda', 'yamaha']\n"
     ]
    }
   ],
   "source": [
    "motorcycles = ['honda', 'yamaha', 'suzuki']\n",
    "print(motorcycles)\n",
    "\n",
    "#permanently\n",
    "del motorcycles[-1]\n",
    "print(motorcycles)"
   ]
  },
  {
   "cell_type": "markdown",
   "id": "d955bc37",
   "metadata": {},
   "source": [
    "#### 2.3.2 Removing an Item Using the pop() Method"
   ]
  },
  {
   "cell_type": "code",
   "execution_count": 13,
   "id": "a5fea8d2",
   "metadata": {},
   "outputs": [
    {
     "name": "stdout",
     "output_type": "stream",
     "text": [
      "['honda', 'yamaha', 'suzuki']\n",
      "['honda', 'yamaha']\n",
      "suzuki\n"
     ]
    }
   ],
   "source": [
    "motorcycles = ['honda', 'yamaha', 'suzuki']\n",
    "print(motorcycles)\n",
    "\n",
    "popped_motorcycle = motorcycles.pop()\n",
    "print(motorcycles)\n",
    "print(popped_motorcycle)"
   ]
  },
  {
   "cell_type": "code",
   "execution_count": 14,
   "id": "90654f90",
   "metadata": {},
   "outputs": [
    {
     "name": "stdout",
     "output_type": "stream",
     "text": [
      "My last owned motorcycle is a Suzuki!\n"
     ]
    }
   ],
   "source": [
    "motorcycles = ['honda', 'yamaha', 'suzuki']\n",
    "last_owned = motorcycles.pop()\n",
    "message = 'My last owned motorcycle is a ' + last_owned.title() + '!'\n",
    "print(message)"
   ]
  },
  {
   "cell_type": "markdown",
   "id": "e0c816ad",
   "metadata": {},
   "source": [
    "#### 2.3.3 Popping Items from any Position in a List"
   ]
  },
  {
   "cell_type": "code",
   "execution_count": 15,
   "id": "5c71ff0a",
   "metadata": {},
   "outputs": [
    {
     "name": "stdout",
     "output_type": "stream",
     "text": [
      "My first owned motorcycle was a Honda!\n"
     ]
    }
   ],
   "source": [
    "motorcycles = ['honda', 'yamaha', 'suzuki']\n",
    "first_owned = motorcycles.pop(0)\n",
    "message = 'My first owned motorcycle was a ' + first_owned.title() + '!'\n",
    "print(message)"
   ]
  },
  {
   "cell_type": "markdown",
   "id": "d350487e",
   "metadata": {},
   "source": [
    "#### 2.3.4 Removing an Item by Value"
   ]
  },
  {
   "cell_type": "code",
   "execution_count": 16,
   "id": "685bcfe9",
   "metadata": {},
   "outputs": [
    {
     "name": "stdout",
     "output_type": "stream",
     "text": [
      "['honda', 'yamaha', 'ducati', 'suzuki']\n",
      "['honda', 'ducati', 'suzuki']\n"
     ]
    }
   ],
   "source": [
    "motorcycles = ['honda', 'yamaha', 'ducati', 'suzuki']\n",
    "print(motorcycles)\n",
    "\n",
    "#permanently and only the first occurence (if many => while)\n",
    "motorcycles.remove('yamaha')\n",
    "print(motorcycles)"
   ]
  },
  {
   "cell_type": "code",
   "execution_count": 17,
   "id": "f064836d",
   "metadata": {},
   "outputs": [
    {
     "name": "stdout",
     "output_type": "stream",
     "text": [
      "['honda', 'yamaha', 'suzuki', 'ducati']\n",
      "['honda', 'yamaha', 'suzuki']\n",
      "A Ducati is too expensive for me.\n"
     ]
    }
   ],
   "source": [
    "motorcycles = ['honda', 'yamaha', 'suzuki', 'ducati']\n",
    "print(motorcycles)\n",
    "\n",
    "too_expensive = 'ducati'\n",
    "motorcycles.remove(too_expensive)\n",
    "\n",
    "print(motorcycles)\n",
    "message = 'A ' + too_expensive.title() + ' is too expensive for me.'\n",
    "print(message)"
   ]
  },
  {
   "cell_type": "markdown",
   "id": "861cc8cf",
   "metadata": {},
   "source": [
    "### Exercises"
   ]
  },
  {
   "cell_type": "code",
   "execution_count": 18,
   "id": "f70b8605",
   "metadata": {},
   "outputs": [
    {
     "name": "stdout",
     "output_type": "stream",
     "text": [
      "Hello, Anvar, can you have a dinner with me?\n",
      "Hello, Bekzod, would you like some coffee?\n",
      "Hello, Vali!\n"
     ]
    }
   ],
   "source": [
    "#2-1\n",
    "names = ['anvar', 'bekzod', 'vali']\n",
    "print('Hello, ' + names[0].title() + ', can you have a dinner with me?')\n",
    "print('Hello, ' + names[1].title() + ', would you like some coffee?')\n",
    "print('Hello, ' + names[2].title() + '!')"
   ]
  },
  {
   "cell_type": "code",
   "execution_count": 19,
   "id": "7085071d",
   "metadata": {},
   "outputs": [
    {
     "name": "stdout",
     "output_type": "stream",
     "text": [
      "Bexruz, would you like coffee insted of Bekzod?\n"
     ]
    }
   ],
   "source": [
    "#2-2\n",
    "names = ['anvar', 'bekzod', 'vali']\n",
    "names[1] = 'bexruz'\n",
    "print(names[1].title() + ', would you like coffee insted of Bekzod?')"
   ]
  },
  {
   "cell_type": "code",
   "execution_count": 20,
   "id": "cdb1fb30",
   "metadata": {},
   "outputs": [
    {
     "name": "stdout",
     "output_type": "stream",
     "text": [
      "['asror', 'anvar', 'baxrom', 'bekzod', 'vali', 'davron']\n"
     ]
    }
   ],
   "source": [
    "#2-3\n",
    "names = ['anvar', 'bekzod', 'vali']\n",
    "names.insert(0, 'asror')\n",
    "names.insert(2, 'baxrom')\n",
    "names.append('davron')\n",
    "print(names)"
   ]
  },
  {
   "cell_type": "code",
   "execution_count": 21,
   "id": "8f5a7a7d",
   "metadata": {},
   "outputs": [
    {
     "name": "stdout",
     "output_type": "stream",
     "text": [
      "Davron\n"
     ]
    }
   ],
   "source": [
    "#2-4\n",
    "names = ['asror', 'anvar', 'baxrom', 'bekzod', 'vali', 'davron']\n",
    "del names[1]\n",
    "names.remove('baxrom')\n",
    "names.remove('vali')\n",
    "left = names.pop(2).title()  #changes applied linearly\n",
    "print(left)"
   ]
  },
  {
   "cell_type": "markdown",
   "id": "f1c0f48d",
   "metadata": {},
   "source": [
    "## 3. Organizing a List"
   ]
  },
  {
   "cell_type": "markdown",
   "id": "dcc4f2b3",
   "metadata": {},
   "source": [
    "### 3.1 Sorting a List Permanently with the sort() Method"
   ]
  },
  {
   "cell_type": "code",
   "execution_count": 22,
   "id": "4d967bd4",
   "metadata": {},
   "outputs": [
    {
     "name": "stdout",
     "output_type": "stream",
     "text": [
      "['audi', 'bmw', 'subaru', 'toyota']\n"
     ]
    }
   ],
   "source": [
    "cars = ['bmw', 'audi', 'toyota', 'subaru']\n",
    "cars.sort()   #permanently\n",
    "print(cars)"
   ]
  },
  {
   "cell_type": "code",
   "execution_count": 23,
   "id": "5ce4cc19",
   "metadata": {},
   "outputs": [
    {
     "name": "stdout",
     "output_type": "stream",
     "text": [
      "['toyota', 'subaru', 'bmw', 'audi']\n"
     ]
    }
   ],
   "source": [
    "cars = ['bmw', 'audi', 'toyota', 'subaru']\n",
    "cars.sort(reverse=True)\n",
    "print(cars)"
   ]
  },
  {
   "cell_type": "markdown",
   "id": "c86ee36e",
   "metadata": {},
   "source": [
    "### 3.2 Sorting a List Temporarily with the sorted() Function"
   ]
  },
  {
   "cell_type": "code",
   "execution_count": 24,
   "id": "c273cf81",
   "metadata": {},
   "outputs": [
    {
     "name": "stdout",
     "output_type": "stream",
     "text": [
      "Here is the orginal order of the list\n",
      "['bmw', 'audi', 'toyota', 'subaru']\n",
      "\n",
      "Here is the sorted order of the list\n",
      "['audi', 'bmw', 'subaru', 'toyota']\n",
      "\n",
      "Here is the original order of thelist again\n",
      "['bmw', 'audi', 'toyota', 'subaru']\n"
     ]
    }
   ],
   "source": [
    "cars = ['bmw', 'audi', 'toyota', 'subaru']\n",
    "\n",
    "print('Here is the orginal order of the list')\n",
    "print(cars)\n",
    "\n",
    "print('\\nHere is the sorted order of the list')\n",
    "print(sorted(cars))  #temporarily\n",
    "\n",
    "print('\\nHere is the original order of thelist again')\n",
    "print(cars)"
   ]
  },
  {
   "cell_type": "markdown",
   "id": "6d97fa49",
   "metadata": {},
   "source": [
    "### 3.3 Printing a List in Reverse Order"
   ]
  },
  {
   "cell_type": "code",
   "execution_count": 25,
   "id": "40ec9a1b",
   "metadata": {},
   "outputs": [
    {
     "name": "stdout",
     "output_type": "stream",
     "text": [
      "['bmw', 'audi', 'toyota', 'subaru']\n",
      "['subaru', 'toyota', 'audi', 'bmw']\n"
     ]
    }
   ],
   "source": [
    "cars = ['bmw', 'audi', 'toyota', 'subaru']\n",
    "print(cars)\n",
    "\n",
    "cars.reverse()  #permanently, but reverse() one more time = original order\n",
    "print(cars)"
   ]
  },
  {
   "cell_type": "markdown",
   "id": "00cd0acc",
   "metadata": {},
   "source": [
    "### 3.4 Finding the Length of a List"
   ]
  },
  {
   "cell_type": "code",
   "execution_count": 26,
   "id": "ae78c681",
   "metadata": {},
   "outputs": [
    {
     "name": "stdout",
     "output_type": "stream",
     "text": [
      "4\n"
     ]
    }
   ],
   "source": [
    "cars = ['bmw', 'audi', 'toyota', 'subaru']\n",
    "print(len(cars))"
   ]
  },
  {
   "cell_type": "markdown",
   "id": "fc69fc00",
   "metadata": {},
   "source": [
    "### Exercises"
   ]
  },
  {
   "cell_type": "code",
   "execution_count": 27,
   "id": "0cdaa2a9",
   "metadata": {},
   "outputs": [
    {
     "name": "stdout",
     "output_type": "stream",
     "text": [
      "['dubai', 'tokio', 'moscow', 'london', 'paris']\n",
      "\n",
      "['dubai', 'london', 'moscow', 'paris', 'tokio']\n",
      "['dubai', 'tokio', 'moscow', 'london', 'paris']\n",
      "\n",
      "['tokio', 'paris', 'moscow', 'london', 'dubai']\n",
      "['dubai', 'tokio', 'moscow', 'london', 'paris']\n",
      "\n",
      "['paris', 'london', 'moscow', 'tokio', 'dubai']\n",
      "['dubai', 'tokio', 'moscow', 'london', 'paris']\n",
      "\n",
      "['dubai', 'london', 'moscow', 'paris', 'tokio']\n",
      "['tokio', 'paris', 'moscow', 'london', 'dubai']\n"
     ]
    }
   ],
   "source": [
    "#3-1\n",
    "places = ['dubai', 'tokio', 'moscow', 'london', 'paris']\n",
    "print(places)\n",
    "print()\n",
    "\n",
    "print(sorted(places))\n",
    "print(places)\n",
    "print()\n",
    "\n",
    "print(sorted(places, reverse=True))\n",
    "print(places)\n",
    "print()\n",
    "\n",
    "places.reverse()\n",
    "print(places)\n",
    "places.reverse()\n",
    "print(places)\n",
    "print()\n",
    "\n",
    "places.sort()\n",
    "print(places)\n",
    "places.sort(reverse=True)\n",
    "print(places)"
   ]
  },
  {
   "cell_type": "code",
   "execution_count": 28,
   "id": "e1847fe6",
   "metadata": {},
   "outputs": [
    {
     "name": "stdout",
     "output_type": "stream",
     "text": [
      "The number of guests is 6.\n"
     ]
    }
   ],
   "source": [
    "#3-2\n",
    "names = ['asror', 'anvar', 'baxrom', 'bekzod', 'vali', 'davron']\n",
    "message = 'The number of guests is ' + str(len(names)) + '.'\n",
    "print(message)"
   ]
  },
  {
   "cell_type": "markdown",
   "id": "c3b15c5a",
   "metadata": {},
   "source": [
    "## 4. Avoiding Index Errors When Working with Lists"
   ]
  },
  {
   "cell_type": "code",
   "execution_count": 29,
   "id": "ee3afad0",
   "metadata": {},
   "outputs": [
    {
     "ename": "IndexError",
     "evalue": "list index out of range",
     "output_type": "error",
     "traceback": [
      "\u001b[1;31m---------------------------------------------------------------------------\u001b[0m",
      "\u001b[1;31mIndexError\u001b[0m                                Traceback (most recent call last)",
      "\u001b[1;32m<ipython-input-29-4e85f1d8a743>\u001b[0m in \u001b[0;36m<module>\u001b[1;34m\u001b[0m\n\u001b[0;32m      1\u001b[0m \u001b[1;31m#IndexError\u001b[0m\u001b[1;33m\u001b[0m\u001b[1;33m\u001b[0m\u001b[1;33m\u001b[0m\u001b[0m\n\u001b[0;32m      2\u001b[0m \u001b[0mmotorcycles\u001b[0m \u001b[1;33m=\u001b[0m \u001b[1;33m[\u001b[0m\u001b[1;34m'honda'\u001b[0m\u001b[1;33m,\u001b[0m \u001b[1;34m'yamaha'\u001b[0m\u001b[1;33m,\u001b[0m \u001b[1;34m'suzuki'\u001b[0m\u001b[1;33m]\u001b[0m\u001b[1;33m\u001b[0m\u001b[1;33m\u001b[0m\u001b[0m\n\u001b[1;32m----> 3\u001b[1;33m \u001b[0mprint\u001b[0m\u001b[1;33m(\u001b[0m\u001b[0mmotorcycles\u001b[0m\u001b[1;33m[\u001b[0m\u001b[1;36m3\u001b[0m\u001b[1;33m]\u001b[0m\u001b[1;33m)\u001b[0m\u001b[1;33m\u001b[0m\u001b[1;33m\u001b[0m\u001b[0m\n\u001b[0m",
      "\u001b[1;31mIndexError\u001b[0m: list index out of range"
     ]
    }
   ],
   "source": [
    "#IndexError\n",
    "motorcycles = ['honda', 'yamaha', 'suzuki']\n",
    "print(motorcycles[3])"
   ]
  },
  {
   "cell_type": "code",
   "execution_count": 30,
   "id": "26c49cd5",
   "metadata": {},
   "outputs": [
    {
     "name": "stdout",
     "output_type": "stream",
     "text": [
      "suzuki\n"
     ]
    }
   ],
   "source": [
    "motorcycles = ['honda', 'yamaha', 'suzuki']\n",
    "print(motorcycles[-1])"
   ]
  }
 ],
 "metadata": {
  "kernelspec": {
   "display_name": "Python 3",
   "language": "python",
   "name": "python3"
  },
  "language_info": {
   "codemirror_mode": {
    "name": "ipython",
    "version": 3
   },
   "file_extension": ".py",
   "mimetype": "text/x-python",
   "name": "python",
   "nbconvert_exporter": "python",
   "pygments_lexer": "ipython3",
   "version": "3.8.8"
  }
 },
 "nbformat": 4,
 "nbformat_minor": 5
}
