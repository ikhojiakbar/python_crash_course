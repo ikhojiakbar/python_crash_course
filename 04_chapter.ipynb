{
 "cells": [
  {
   "cell_type": "markdown",
   "id": "0d8c3c8c",
   "metadata": {},
   "source": [
    "# Working with Lists"
   ]
  },
  {
   "cell_type": "markdown",
   "id": "4d151aa0",
   "metadata": {},
   "source": [
    "## 1.Looping Through an Entire List"
   ]
  },
  {
   "cell_type": "code",
   "execution_count": 1,
   "id": "71c0e632",
   "metadata": {},
   "outputs": [
    {
     "name": "stdout",
     "output_type": "stream",
     "text": [
      "Alice\n",
      "David\n",
      "Carolina\n"
     ]
    }
   ],
   "source": [
    "magicians = ['alice', 'david', 'carolina']\n",
    "for magician in magicians:\n",
    "    print(magician.title())"
   ]
  },
  {
   "cell_type": "markdown",
   "id": "fcd84649",
   "metadata": {},
   "source": [
    "### 1.1 A Closer Look at Looping"
   ]
  },
  {
   "cell_type": "markdown",
   "id": "af73567c",
   "metadata": {},
   "source": [
    "### 1.2 Doing More Work Within a for Loop"
   ]
  },
  {
   "cell_type": "code",
   "execution_count": 2,
   "id": "f5bb2ba0",
   "metadata": {},
   "outputs": [
    {
     "name": "stdout",
     "output_type": "stream",
     "text": [
      "Alice, that was a great trick!\n",
      "David, that was a great trick!\n",
      "Carolina, that was a great trick!\n"
     ]
    }
   ],
   "source": [
    "magicians = ['alice', 'david', 'carolina']\n",
    "for magician in magicians:\n",
    "    message = magician.title() + ', that was a great trick!'\n",
    "    print(message)"
   ]
  },
  {
   "cell_type": "code",
   "execution_count": 3,
   "id": "8ba2758b",
   "metadata": {},
   "outputs": [
    {
     "name": "stdout",
     "output_type": "stream",
     "text": [
      "Alice, that was a great trick!\n",
      "I can't wait to see your nex trick, Alice.\n",
      "\n",
      "David, that was a great trick!\n",
      "I can't wait to see your nex trick, David.\n",
      "\n",
      "Carolina, that was a great trick!\n",
      "I can't wait to see your nex trick, Carolina.\n",
      "\n"
     ]
    }
   ],
   "source": [
    "magicians = ['alice', 'david', 'carolina']\n",
    "for magician in magicians:\n",
    "    print(magician.title() + ', that was a great trick!')\n",
    "    print('I can\\'t wait to see your nex trick, ' + magician.title() + '.\\n')"
   ]
  },
  {
   "cell_type": "markdown",
   "id": "955b63bb",
   "metadata": {},
   "source": [
    "### 1.3 Doing Something After a for Loop"
   ]
  },
  {
   "cell_type": "code",
   "execution_count": 4,
   "id": "2506b3ec",
   "metadata": {},
   "outputs": [
    {
     "name": "stdout",
     "output_type": "stream",
     "text": [
      "Alice, that was a great trick!\n",
      "David, that was a great trick!\n",
      "Carolina, that was a great trick!\n",
      "\n",
      "Thank you, everyone, that was a great magic show!\n"
     ]
    }
   ],
   "source": [
    "magicians = ['alice', 'david', 'carolina']\n",
    "for magician in magicians:\n",
    "    print(magician.title() + ', that was a great trick!')\n",
    "\n",
    "print('\\nThank you, everyone, that was a great magic show!')"
   ]
  },
  {
   "cell_type": "markdown",
   "id": "023001ba",
   "metadata": {},
   "source": [
    "## 2. Avoiding Indentation Errors"
   ]
  },
  {
   "cell_type": "markdown",
   "id": "89cffa9c",
   "metadata": {},
   "source": [
    "### 2.1 Forgetting to Indent"
   ]
  },
  {
   "cell_type": "code",
   "execution_count": 5,
   "id": "d26cbdf3",
   "metadata": {},
   "outputs": [
    {
     "ename": "IndentationError",
     "evalue": "expected an indented block (<ipython-input-5-fc86697b4d5a>, line 4)",
     "output_type": "error",
     "traceback": [
      "\u001b[1;36m  File \u001b[1;32m\"<ipython-input-5-fc86697b4d5a>\"\u001b[1;36m, line \u001b[1;32m4\u001b[0m\n\u001b[1;33m    print(magician)\u001b[0m\n\u001b[1;37m    ^\u001b[0m\n\u001b[1;31mIndentationError\u001b[0m\u001b[1;31m:\u001b[0m expected an indented block\n"
     ]
    }
   ],
   "source": [
    "#IndentationError\n",
    "magicians = ['alice', 'david', 'carolina']\n",
    "for magician in magicians:\n",
    "print(magician)"
   ]
  },
  {
   "cell_type": "markdown",
   "id": "6792f076",
   "metadata": {},
   "source": [
    "### 2.2 Forgetting to Indent Additional Lines"
   ]
  },
  {
   "cell_type": "code",
   "execution_count": 6,
   "id": "238d71e4",
   "metadata": {},
   "outputs": [
    {
     "name": "stdout",
     "output_type": "stream",
     "text": [
      "Alice, that was a great trick!\n",
      "David, that was a great trick!\n",
      "Carolina, that was a great trick!\n",
      "I can't wait to see your next trick, Carolina.\n",
      "\n"
     ]
    }
   ],
   "source": [
    "magicians = ['alice', 'david', 'carolina']\n",
    "for magician in magicians:\n",
    "    print(magician.title() + ', that was a great trick!')\n",
    "print('I can\\'t wait to see your next trick, ' + magician.title() + '.\\n')"
   ]
  },
  {
   "cell_type": "markdown",
   "id": "80dcd57a",
   "metadata": {},
   "source": [
    "### 2.3 Indenting Unnecessarily"
   ]
  },
  {
   "cell_type": "code",
   "execution_count": 7,
   "id": "3f05e566",
   "metadata": {},
   "outputs": [
    {
     "ename": "IndentationError",
     "evalue": "unexpected indent (<ipython-input-7-7bff27027a1f>, line 3)",
     "output_type": "error",
     "traceback": [
      "\u001b[1;36m  File \u001b[1;32m\"<ipython-input-7-7bff27027a1f>\"\u001b[1;36m, line \u001b[1;32m3\u001b[0m\n\u001b[1;33m    print(message)\u001b[0m\n\u001b[1;37m    ^\u001b[0m\n\u001b[1;31mIndentationError\u001b[0m\u001b[1;31m:\u001b[0m unexpected indent\n"
     ]
    }
   ],
   "source": [
    "#IndentationError\n",
    "message = 'Hello, Python world!'\n",
    "    print(message)"
   ]
  },
  {
   "cell_type": "markdown",
   "id": "c9d0c932",
   "metadata": {},
   "source": [
    "### 2.4 Indenting Unnecessarily After the Loop"
   ]
  },
  {
   "cell_type": "code",
   "execution_count": 8,
   "id": "a7096887",
   "metadata": {},
   "outputs": [
    {
     "name": "stdout",
     "output_type": "stream",
     "text": [
      "Alice, that was a great trick!\n",
      "I can't wait to see your next trick, Alice.\n",
      "\n",
      "Thank you, everyone, that was a great magic show!\n",
      "David, that was a great trick!\n",
      "I can't wait to see your next trick, David.\n",
      "\n",
      "Thank you, everyone, that was a great magic show!\n",
      "Carolina, that was a great trick!\n",
      "I can't wait to see your next trick, Carolina.\n",
      "\n",
      "Thank you, everyone, that was a great magic show!\n"
     ]
    }
   ],
   "source": [
    "magicians = ['alice', 'david', 'carolina']\n",
    "for magician in magicians:\n",
    "    print(magician.title() + ', that was a great trick!')\n",
    "    print('I can\\'t wait to see your next trick, ' + magician.title() + '.\\n')\n",
    "    \n",
    "    print('Thank you, everyone, that was a great magic show!')"
   ]
  },
  {
   "cell_type": "markdown",
   "id": "0c136667",
   "metadata": {},
   "source": [
    "### 2.5 Forgetting the Colon"
   ]
  },
  {
   "cell_type": "code",
   "execution_count": 9,
   "id": "c74a96ad",
   "metadata": {},
   "outputs": [
    {
     "ename": "SyntaxError",
     "evalue": "invalid syntax (<ipython-input-9-e00bd43ae9f2>, line 3)",
     "output_type": "error",
     "traceback": [
      "\u001b[1;36m  File \u001b[1;32m\"<ipython-input-9-e00bd43ae9f2>\"\u001b[1;36m, line \u001b[1;32m3\u001b[0m\n\u001b[1;33m    for magician in magicians\u001b[0m\n\u001b[1;37m                             ^\u001b[0m\n\u001b[1;31mSyntaxError\u001b[0m\u001b[1;31m:\u001b[0m invalid syntax\n"
     ]
    }
   ],
   "source": [
    "#SyntaxError\n",
    "magicians = ['alice', 'david', 'carolina']\n",
    "for magician in magicians\n",
    "    print(magician.title())"
   ]
  },
  {
   "cell_type": "markdown",
   "id": "b00c8cd3",
   "metadata": {},
   "source": [
    "### Exercises"
   ]
  },
  {
   "cell_type": "code",
   "execution_count": 10,
   "id": "820bac48",
   "metadata": {},
   "outputs": [
    {
     "name": "stdout",
     "output_type": "stream",
     "text": [
      "I would a pepperonipizza.\n",
      "I would a potatopizza.\n",
      "I would a cheesepizza.\n",
      "\n",
      "I really love pizza.\n"
     ]
    }
   ],
   "source": [
    "#2-1\n",
    "pizzas = ['pepperoni', 'potato', 'cheese']\n",
    "for pizza in pizzas:\n",
    "    print('I would a ' + pizza + 'pizza.')\n",
    "\n",
    "print('\\nI really love pizza.')"
   ]
  },
  {
   "cell_type": "markdown",
   "id": "5304e42a",
   "metadata": {},
   "source": [
    "## 3. Making Numerical Lists"
   ]
  },
  {
   "cell_type": "markdown",
   "id": "01ec4987",
   "metadata": {},
   "source": [
    "### 3.1 Using the range() Function"
   ]
  },
  {
   "cell_type": "code",
   "execution_count": 11,
   "id": "d8a0b13e",
   "metadata": {},
   "outputs": [
    {
     "name": "stdout",
     "output_type": "stream",
     "text": [
      "1\n",
      "2\n",
      "3\n",
      "4\n"
     ]
    }
   ],
   "source": [
    "for value in range(1,5):\n",
    "    print(value)"
   ]
  },
  {
   "cell_type": "code",
   "execution_count": 12,
   "id": "d6209f32",
   "metadata": {},
   "outputs": [
    {
     "name": "stdout",
     "output_type": "stream",
     "text": [
      "0\n",
      "1\n",
      "2\n"
     ]
    }
   ],
   "source": [
    "for value in range(3):\n",
    "    print(value)"
   ]
  },
  {
   "cell_type": "markdown",
   "id": "83a81186",
   "metadata": {},
   "source": [
    "### 3.2 Using range() to Make a List of Numbers"
   ]
  },
  {
   "cell_type": "code",
   "execution_count": 13,
   "id": "b1b89e55",
   "metadata": {},
   "outputs": [
    {
     "name": "stdout",
     "output_type": "stream",
     "text": [
      "[1, 2, 3, 4]\n"
     ]
    }
   ],
   "source": [
    "numbers = list(range(1,5))\n",
    "print(numbers)"
   ]
  },
  {
   "cell_type": "code",
   "execution_count": 14,
   "id": "07afb71d",
   "metadata": {},
   "outputs": [
    {
     "name": "stdout",
     "output_type": "stream",
     "text": [
      "[2, 4, 6, 8, 10]\n"
     ]
    }
   ],
   "source": [
    "even_numbers = list(range(2,11,2))\n",
    "print(even_numbers)"
   ]
  },
  {
   "cell_type": "code",
   "execution_count": 15,
   "id": "8903ecc5",
   "metadata": {},
   "outputs": [
    {
     "name": "stdout",
     "output_type": "stream",
     "text": [
      "[1, 4, 9, 16, 25, 36, 49, 64, 81, 100]\n"
     ]
    }
   ],
   "source": [
    "squares = []\n",
    "\n",
    "for value in range(1,11):\n",
    "    square = value**2\n",
    "    squares.append(square)\n",
    "    \n",
    "print(squares)"
   ]
  },
  {
   "cell_type": "code",
   "execution_count": 16,
   "id": "4da76858",
   "metadata": {},
   "outputs": [
    {
     "name": "stdout",
     "output_type": "stream",
     "text": [
      "[1, 4, 9, 16, 25, 36, 49, 64, 81, 100]\n"
     ]
    }
   ],
   "source": [
    "squares = []\n",
    "\n",
    "for value in range(1,11):\n",
    "    squares.append(value**2)\n",
    "    \n",
    "print(squares)"
   ]
  },
  {
   "cell_type": "markdown",
   "id": "304238ba",
   "metadata": {},
   "source": [
    "### 3.3 Simple Statistics with a List of Numbers"
   ]
  },
  {
   "cell_type": "code",
   "execution_count": 17,
   "id": "b4721cba",
   "metadata": {},
   "outputs": [
    {
     "name": "stdout",
     "output_type": "stream",
     "text": [
      "0\n",
      "9\n",
      "45\n"
     ]
    }
   ],
   "source": [
    "digits = [1, 2, 3, 4, 5, 6, 7, 8, 9, 0]\n",
    "\n",
    "print(min(digits))\n",
    "print(max(digits))\n",
    "print(sum(digits))"
   ]
  },
  {
   "cell_type": "markdown",
   "id": "51921ea4",
   "metadata": {},
   "source": [
    "### 3.4 List Comprehensions"
   ]
  },
  {
   "cell_type": "code",
   "execution_count": 18,
   "id": "32f12f21",
   "metadata": {},
   "outputs": [
    {
     "name": "stdout",
     "output_type": "stream",
     "text": [
      "[1, 4, 9, 16, 25, 36, 49, 64, 81, 100]\n"
     ]
    }
   ],
   "source": [
    "squares = [value**2 for value in range(1,11)]\n",
    "print(squares)"
   ]
  },
  {
   "cell_type": "markdown",
   "id": "11c7c5a3",
   "metadata": {},
   "source": [
    "### Exercises"
   ]
  },
  {
   "cell_type": "code",
   "execution_count": 19,
   "id": "5420bbdc",
   "metadata": {},
   "outputs": [
    {
     "name": "stdout",
     "output_type": "stream",
     "text": [
      "[1, 2, 3, 4, 5, 6, 7, 8, 9, 10, 11, 12, 13, 14, 15, 16, 17, 18, 19, 20]\n"
     ]
    }
   ],
   "source": [
    "#3-1\n",
    "numbers = [number for number in range(1,21)]\n",
    "print(numbers)"
   ]
  },
  {
   "cell_type": "code",
   "execution_count": 20,
   "id": "387cc70e",
   "metadata": {},
   "outputs": [
    {
     "name": "stdout",
     "output_type": "stream",
     "text": [
      "1\n",
      "1000000\n",
      "500000500000\n"
     ]
    }
   ],
   "source": [
    "#3-2\n",
    "numbers = list(range(1, 1000001))\n",
    "print(min(numbers))\n",
    "print(max(numbers))\n",
    "print(sum(numbers))"
   ]
  },
  {
   "cell_type": "code",
   "execution_count": 21,
   "id": "9f9c533e",
   "metadata": {},
   "outputs": [
    {
     "name": "stdout",
     "output_type": "stream",
     "text": [
      "[1, 3, 5, 7, 9, 11, 13, 15, 17, 19]\n"
     ]
    }
   ],
   "source": [
    "#3-3\n",
    "odd_numbers = [odd_number for odd_number in range(1,20,2)]\n",
    "print(odd_numbers)"
   ]
  },
  {
   "cell_type": "code",
   "execution_count": 22,
   "id": "6533eb34",
   "metadata": {},
   "outputs": [
    {
     "name": "stdout",
     "output_type": "stream",
     "text": [
      "[3, 6, 9, 12, 15, 18, 21, 24, 27, 30]\n"
     ]
    }
   ],
   "source": [
    "#3-4\n",
    "threes = [three for three in range(3,31,3)]\n",
    "print(threes)"
   ]
  },
  {
   "cell_type": "code",
   "execution_count": 23,
   "id": "4bd1f186",
   "metadata": {},
   "outputs": [
    {
     "name": "stdout",
     "output_type": "stream",
     "text": [
      "[1, 8, 27, 64, 125, 216, 343, 512, 729, 1000]\n"
     ]
    }
   ],
   "source": [
    "#3-5\n",
    "cubes = [integer**3 for integer in range(1,11)]\n",
    "print(cubes)"
   ]
  },
  {
   "cell_type": "code",
   "execution_count": 24,
   "id": "7e979f0f",
   "metadata": {},
   "outputs": [
    {
     "name": "stdout",
     "output_type": "stream",
     "text": [
      "[1, 8, 27, 64, 125, 216, 343, 512, 729, 1000]\n"
     ]
    }
   ],
   "source": [
    "#3-6\n",
    "cubes = []\n",
    "\n",
    "for value in range(1,11):\n",
    "    cube = value**3\n",
    "    cubes.append(cube)\n",
    "    \n",
    "print(cubes)"
   ]
  },
  {
   "cell_type": "markdown",
   "id": "c5cb0784",
   "metadata": {},
   "source": [
    "## 4. Working with Part of a List"
   ]
  },
  {
   "cell_type": "markdown",
   "id": "78ab2613",
   "metadata": {},
   "source": [
    "### 4.1 Slicing a List"
   ]
  },
  {
   "cell_type": "code",
   "execution_count": 25,
   "id": "474a1e6e",
   "metadata": {},
   "outputs": [
    {
     "name": "stdout",
     "output_type": "stream",
     "text": [
      "['charles', 'martina', 'michael']\n",
      "['martina', 'michael', 'florence']\n"
     ]
    }
   ],
   "source": [
    "players = ['charles', 'martina', 'michael', 'florence', 'eli']\n",
    "print(players[0:3])\n",
    "print(players[1:4])"
   ]
  },
  {
   "cell_type": "code",
   "execution_count": 26,
   "id": "6b00ccbc",
   "metadata": {},
   "outputs": [
    {
     "name": "stdout",
     "output_type": "stream",
     "text": [
      "['charles', 'martina', 'michael', 'florence']\n",
      "['michael', 'florence', 'eli']\n",
      "['michael', 'florence', 'eli']\n"
     ]
    }
   ],
   "source": [
    "players = ['charles', 'martina', 'michael', 'florence', 'eli']\n",
    "print(players[:4])\n",
    "print(players[2:])\n",
    "print(players[-3:])"
   ]
  },
  {
   "cell_type": "markdown",
   "id": "2c2ceae6",
   "metadata": {},
   "source": [
    "### 4.2 Looping Through a Slice"
   ]
  },
  {
   "cell_type": "code",
   "execution_count": 27,
   "id": "52db5487",
   "metadata": {},
   "outputs": [
    {
     "name": "stdout",
     "output_type": "stream",
     "text": [
      "Here are the first 3 players on my team:\n",
      "Charles\n",
      "Martina\n",
      "Michael\n"
     ]
    }
   ],
   "source": [
    "players = ['charles', 'martina', 'michael', 'florence', 'eli']\n",
    "\n",
    "print('Here are the first 3 players on my team:')\n",
    "for player in players[:3]:\n",
    "    print(player.title())"
   ]
  },
  {
   "cell_type": "markdown",
   "id": "8d7bba39",
   "metadata": {},
   "source": [
    "### 4.3 Copying a List"
   ]
  },
  {
   "cell_type": "code",
   "execution_count": 28,
   "id": "20599e6e",
   "metadata": {},
   "outputs": [
    {
     "name": "stdout",
     "output_type": "stream",
     "text": [
      "My favourite foods are:\n",
      "['pizza', 'falafel', 'carrot cake']\n",
      "\n",
      "My friend's favourite foods are:\n",
      "['pizza', 'falafel', 'carrot cake']\n"
     ]
    }
   ],
   "source": [
    "my_foods = ['pizza', 'falafel', 'carrot cake']\n",
    "friend_foods = my_foods[:]\n",
    "\n",
    "print('My favourite foods are:')\n",
    "print(my_foods)\n",
    "\n",
    "print('\\nMy friend\\'s favourite foods are:')\n",
    "print(friend_foods)"
   ]
  },
  {
   "cell_type": "code",
   "execution_count": 29,
   "id": "0a324df3",
   "metadata": {},
   "outputs": [
    {
     "name": "stdout",
     "output_type": "stream",
     "text": [
      "My favourite foods are:\n",
      "['pizza', 'falafel', 'carrot cake', 'cannoli']\n",
      "\n",
      "My friend's favoutire foods are:\n",
      "['pizza', 'falafel', 'carrot cake', 'ice cream']\n"
     ]
    }
   ],
   "source": [
    "my_foods = ['pizza', 'falafel', 'carrot cake']\n",
    "friend_foods = my_foods[:]\n",
    "\n",
    "my_foods.append('cannoli')\n",
    "friend_foods.append('ice cream')\n",
    "\n",
    "print('My favourite foods are:')\n",
    "print(my_foods)\n",
    "\n",
    "print('\\nMy friend\\'s favoutire foods are:')\n",
    "print(friend_foods)"
   ]
  },
  {
   "cell_type": "code",
   "execution_count": 30,
   "id": "2d32b707",
   "metadata": {},
   "outputs": [
    {
     "name": "stdout",
     "output_type": "stream",
     "text": [
      "My favourite foods are:\n",
      "['pizza', 'falafel', 'carrot cake', 'cannoli', 'ice cream']\n",
      "\n",
      "My friend's favoutire foods are:\n",
      "['pizza', 'falafel', 'carrot cake', 'cannoli', 'ice cream']\n"
     ]
    }
   ],
   "source": [
    "my_foods = ['pizza', 'falafel', 'carrot cake']\n",
    "friend_foods = my_foods   #friend_foods is variable for my_foods, just diff names\n",
    "\n",
    "\n",
    "my_foods.append('cannoli')\n",
    "friend_foods.append('ice cream')\n",
    "\n",
    "print('My favourite foods are:')\n",
    "print(my_foods)\n",
    "\n",
    "print('\\nMy friend\\'s favoutire foods are:')\n",
    "print(friend_foods)"
   ]
  },
  {
   "cell_type": "markdown",
   "id": "876b4cf9",
   "metadata": {},
   "source": [
    "### Exercises"
   ]
  },
  {
   "cell_type": "code",
   "execution_count": 31,
   "id": "870aecc6",
   "metadata": {},
   "outputs": [
    {
     "name": "stdout",
     "output_type": "stream",
     "text": [
      "The first three car brands are:\n",
      "['subaru', 'toyota', 'mazda']\n",
      "\n",
      "The cars from the middle of the list are:\n",
      "['toyota', 'mazda', 'suzuki']\n",
      "\n",
      "The last three cars are:\n",
      "['mazda', 'suzuki', 'honda']\n"
     ]
    }
   ],
   "source": [
    "#4-1\n",
    "japan_cars = ['subaru', 'toyota', 'mazda', 'suzuki', 'honda']\n",
    "\n",
    "print('The first three car brands are:')\n",
    "print(japan_cars[:3])\n",
    "\n",
    "print('\\nThe cars from the middle of the list are:')\n",
    "print(japan_cars[1:4])\n",
    "\n",
    "print('\\nThe last three cars are:')\n",
    "print(japan_cars[-3:])"
   ]
  },
  {
   "cell_type": "code",
   "execution_count": 32,
   "id": "3f1a2aad",
   "metadata": {},
   "outputs": [
    {
     "name": "stdout",
     "output_type": "stream",
     "text": [
      "My favourite pizzas are:\n",
      "pepperoni\n",
      "potato\n",
      "cheese\n",
      "mushrooms\n",
      "\n",
      "My friends's favourite pizzas are:\n",
      "pepperoni\n",
      "potato\n",
      "cheese\n",
      "vegetarian\n"
     ]
    }
   ],
   "source": [
    "#4-2\n",
    "my_pizzas = ['pepperoni', 'potato', 'cheese']\n",
    "friend_pizzas = my_pizzas[:]\n",
    "\n",
    "my_pizzas.append('mushrooms')\n",
    "friend_pizzas.append('vegetarian')\n",
    "\n",
    "print('My favourite pizzas are:')\n",
    "for pizza in my_pizzas:\n",
    "    print(pizza)\n",
    "    \n",
    "print('\\nMy friends\\'s favourite pizzas are:')\n",
    "for pizza in friend_pizzas:\n",
    "    print(pizza)"
   ]
  },
  {
   "cell_type": "markdown",
   "id": "25efcf6f",
   "metadata": {},
   "source": [
    "## 5. Tuples"
   ]
  },
  {
   "cell_type": "markdown",
   "id": "333f1fc0",
   "metadata": {},
   "source": [
    "### 5.1 Defining a Tuple"
   ]
  },
  {
   "cell_type": "code",
   "execution_count": 33,
   "id": "b17b63f5",
   "metadata": {},
   "outputs": [
    {
     "name": "stdout",
     "output_type": "stream",
     "text": [
      "200\n",
      "50\n"
     ]
    }
   ],
   "source": [
    "dimensions = (200, 50)\n",
    "print(dimensions[0])\n",
    "print(dimensions[1])"
   ]
  },
  {
   "cell_type": "code",
   "execution_count": 34,
   "id": "e7efc27d",
   "metadata": {},
   "outputs": [
    {
     "ename": "TypeError",
     "evalue": "'tuple' object does not support item assignment",
     "output_type": "error",
     "traceback": [
      "\u001b[1;31m---------------------------------------------------------------------------\u001b[0m",
      "\u001b[1;31mTypeError\u001b[0m                                 Traceback (most recent call last)",
      "\u001b[1;32m<ipython-input-34-e2cc924ec9bc>\u001b[0m in \u001b[0;36m<module>\u001b[1;34m\u001b[0m\n\u001b[0;32m      1\u001b[0m \u001b[1;31m#TypeError\u001b[0m\u001b[1;33m\u001b[0m\u001b[1;33m\u001b[0m\u001b[1;33m\u001b[0m\u001b[0m\n\u001b[0;32m      2\u001b[0m \u001b[0mdimensions\u001b[0m \u001b[1;33m=\u001b[0m \u001b[1;33m(\u001b[0m\u001b[1;36m200\u001b[0m\u001b[1;33m,\u001b[0m \u001b[1;36m50\u001b[0m\u001b[1;33m)\u001b[0m\u001b[1;33m\u001b[0m\u001b[1;33m\u001b[0m\u001b[0m\n\u001b[1;32m----> 3\u001b[1;33m \u001b[0mdimensions\u001b[0m\u001b[1;33m[\u001b[0m\u001b[1;36m0\u001b[0m\u001b[1;33m]\u001b[0m \u001b[1;33m=\u001b[0m \u001b[1;36m250\u001b[0m   \u001b[1;31m#unmutable\u001b[0m\u001b[1;33m\u001b[0m\u001b[1;33m\u001b[0m\u001b[0m\n\u001b[0m\u001b[0;32m      4\u001b[0m \u001b[0mprint\u001b[0m\u001b[1;33m(\u001b[0m\u001b[0mdimensions\u001b[0m\u001b[1;33m[\u001b[0m\u001b[1;36m0\u001b[0m\u001b[1;33m]\u001b[0m\u001b[1;33m)\u001b[0m\u001b[1;33m\u001b[0m\u001b[1;33m\u001b[0m\u001b[0m\n",
      "\u001b[1;31mTypeError\u001b[0m: 'tuple' object does not support item assignment"
     ]
    }
   ],
   "source": [
    "#TypeError\n",
    "dimensions = (200, 50)\n",
    "dimensions[0] = 250   #unmutable\n",
    "print(dimensions[0])"
   ]
  },
  {
   "cell_type": "markdown",
   "id": "0a682ef7",
   "metadata": {},
   "source": [
    "### 5.2 Looping Through All Values in a Tuple"
   ]
  },
  {
   "cell_type": "code",
   "execution_count": 35,
   "id": "63b1c854",
   "metadata": {},
   "outputs": [
    {
     "name": "stdout",
     "output_type": "stream",
     "text": [
      "250\n",
      "200\n",
      "400\n"
     ]
    }
   ],
   "source": [
    "dimensions = (250, 200, 400)\n",
    "for dimension in dimensions:\n",
    "    print(dimension)"
   ]
  },
  {
   "cell_type": "markdown",
   "id": "244eb15d",
   "metadata": {},
   "source": [
    "### 5.3 Writing over a Tuple"
   ]
  },
  {
   "cell_type": "code",
   "execution_count": 36,
   "id": "7bcd1176",
   "metadata": {},
   "outputs": [
    {
     "name": "stdout",
     "output_type": "stream",
     "text": [
      "Original dimesnions:\n",
      "200\n",
      "50\n",
      "\n",
      "Modified dimensions:\n",
      "400\n",
      "100\n"
     ]
    }
   ],
   "source": [
    "dimensions = (200, 50)\n",
    "\n",
    "print('Original dimesnions:')\n",
    "for dimension in dimensions:\n",
    "    print(dimension)\n",
    "    \n",
    "dimensions = (400, 100)\n",
    "print('\\nModified dimensions:')\n",
    "for dimension in dimensions:\n",
    "    print(dimension)"
   ]
  },
  {
   "cell_type": "markdown",
   "id": "20fe41a1",
   "metadata": {},
   "source": [
    "### Exercises"
   ]
  },
  {
   "cell_type": "code",
   "execution_count": 37,
   "id": "a57aa3b4",
   "metadata": {},
   "outputs": [
    {
     "name": "stdout",
     "output_type": "stream",
     "text": [
      "Our restaurant's menu consists of food below:\n",
      "Plov\n",
      "Kebab\n",
      "Somsa\n",
      "Manti\n",
      "Shurva\n"
     ]
    }
   ],
   "source": [
    "menu = ('plov', 'kebab', 'somsa', 'manti', 'shurva')\n",
    "\n",
    "print('Our restaurant\\'s menu consists of food below:')\n",
    "for food in menu:\n",
    "    print(food.title())"
   ]
  },
  {
   "cell_type": "markdown",
   "id": "e2a67479",
   "metadata": {},
   "source": [
    "## 6.Styling Your Code"
   ]
  },
  {
   "cell_type": "markdown",
   "id": "8b102cfc",
   "metadata": {},
   "source": [
    "### 6.1 The Style Guide\n",
    "Pep guidlines for code styling\n"
   ]
  },
  {
   "cell_type": "markdown",
   "id": "066baf4c",
   "metadata": {},
   "source": [
    "### 6.2 Indentation\n",
    "4 spaces per indentation level"
   ]
  },
  {
   "cell_type": "markdown",
   "id": "34949bd5",
   "metadata": {},
   "source": [
    "### 6.3 Line Length\n",
    "Make the lines shorter in odrer to read other files simultaneoulsy on your monitor"
   ]
  },
  {
   "cell_type": "markdown",
   "id": "5e3c29b3",
   "metadata": {},
   "source": [
    "### 6.4 Blank Lines\n",
    "Divide sections by a blank line between them"
   ]
  }
 ],
 "metadata": {
  "kernelspec": {
   "display_name": "Python 3",
   "language": "python",
   "name": "python3"
  },
  "language_info": {
   "codemirror_mode": {
    "name": "ipython",
    "version": 3
   },
   "file_extension": ".py",
   "mimetype": "text/x-python",
   "name": "python",
   "nbconvert_exporter": "python",
   "pygments_lexer": "ipython3",
   "version": "3.8.8"
  }
 },
 "nbformat": 4,
 "nbformat_minor": 5
}
